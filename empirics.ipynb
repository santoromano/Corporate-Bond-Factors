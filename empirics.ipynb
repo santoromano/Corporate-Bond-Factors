{
 "cells": [
  {
   "cell_type": "markdown",
   "id": "5fb13944-8156-4f45-bcdc-cbbe96541ea7",
   "metadata": {},
   "source": [
    "Version notes:\n",
    "- use prof's 'tr_dirty_price'\n",
    "- value-weighting\n",
    "- try other bond characteristics\n",
    "- need to remove bonds which do not have returns on consecutive months (or go back and see why this is) (Example: issue id 5) (unstack and fill with 0?) \n",
    "    - can't replicate the issue???"
   ]
  },
  {
   "cell_type": "markdown",
   "id": "498e5843-0774-4d7d-851d-0de5d676d5ef",
   "metadata": {
    "tags": []
   },
   "source": [
    "# ML Analysis"
   ]
  },
  {
   "cell_type": "code",
   "execution_count": 1,
   "id": "41658cad-4df8-4f50-bb8b-f891e1295189",
   "metadata": {},
   "outputs": [],
   "source": [
    "import pandas as pd\n",
    "import numpy as np"
   ]
  },
  {
   "cell_type": "markdown",
   "id": "cd43db57-6293-4080-a459-f4e5d709207c",
   "metadata": {
    "jp-MarkdownHeadingCollapsed": true,
    "tags": []
   },
   "source": [
    "## Data\n",
    "Data are from 'data_cleaning.ipynb', which uses a subset of merged TRACE and Mergent FISD daily bond data. It follows the sample exclusion criteria of Bai, Bali & Wen (2019) and aggregates returns to monthly based on their methodologies."
   ]
  },
  {
   "cell_type": "markdown",
   "id": "a043f5f9-f4d4-4850-8e91-95dac40b11e3",
   "metadata": {},
   "source": [
    "Following Moritz and Zimmerman (2016) (MZ), the goal is to estimate the expected return of stock i in time period t+1, conditional on information in period t.\n",
    "\n",
    "In the context of corporate bonds, our aim will be to predict the return of bond i. Then based on the predicted return for t+1, bonds are sorted into deciles based on the expected return, and the trading strategy goes long the top decile (ie. highest predicted returns) and short the bottom decile. The out-of-sample test is implemented on a rolling basis: the model is estimated every year, using data from the past 5 years. Returns are predicted for the next 12 months, and in each month the decile portfolio strategy is implemented.\n",
    "\n",
    "Given the bond characteristics, such as credit rating, duration, and yield-to-maturity (which are all known factors to affect returns), three types of return models can be implemented. The first can focus on raw returns, the second could focus on returns in \"excess\" of these other factors, and the third can incorporate these characteristics and return-based factors simultaneously. The first model ignores potential correlation between the return-based factors and other bond characteristics, however it follows Moritz and Zimmerman's methodology. The second model would involve first orthogonalizing returns to the bond factors (using linear regression), and then predicting the residual returns; this is appealing, but introduces estimation uncertainty (ie. what if the relationship is non-linear). Lastly, the third methodology is the most flexible. For example, it may be optimal to first sort on duration, and then on past returns etc. \n",
    "\n",
    "\n",
    "Thus, the outcome variables (ie. to be predicted) is the next month's return, up to the next 11 months. ~~To simplify things, it may be worthwhile to consider a buy-and-hold strategy: estimate the model, predict the next cummulative X month return (say 3 or 12 months), sort stocks, and go long/sort the portfolios with a holding period of X months. This would have significantly less turnover and hence less transaction costs. This could be used as a robustness check.~~ (This is impractical data wise)\n",
    "\n",
    "The predictor variables are the past 24 months of 1 month returns (ie. the return over month t-k to t-k+1 for k = (1,...24)). The notation used by Moritz and Zimmerman is $ R_{i,t}(k,1) $. Thus the tree-based model effectively estimates a more complicated version of:\n",
    "\n",
    "$\n",
    "r_{i,t+1} = \\mu_{1t} I(R_{i,t}(k,1) \\lt \\tau_t) + \\mu_{2t} I(R_{i,t}(k,1) \\ge \\tau_t)\n",
    "$\n",
    "\n",
    "Where $\\mu_1t$ can be interpreted as the return on a portfolio for which all stocks $i$ satisfy $R_{i,t}(k,1) \\lt \\tau_t$ in period $t$. Hence instead of simply sorting on a particular decile, stocks are sorted deeply on potentially many different criteria.\n",
    "\n",
    "In terms of implementation practicicality, the ML model can be estimated akin to the Fama-MacBeth procedure. Using the past 5 years (60 months) of data, predictions can be formed. The estimation is over the time-dimension (in an OLS framework equivalent to averaging the results of 60 cross-sectional regressions), while the prediction is over the cross-sectional dimension (ie. bonds are ranked by highest return in the next cross-section). \n",
    "\n",
    "Hence the data should be indexed at the bond-month level (ie. all predictors and outcomes should be aligned to month t for bond i). Thus estimating a model for bond i using data from t-60 to t is equivalent to a pooled cross-section. "
   ]
  },
  {
   "cell_type": "code",
   "execution_count": 2,
   "id": "fb51a46e-c579-46a3-907a-25e7c2c40bd4",
   "metadata": {},
   "outputs": [],
   "source": [
    "data = pd.read_csv('monthly_data.csv', index_col=0)"
   ]
  },
  {
   "cell_type": "code",
   "execution_count": 3,
   "id": "6e4323e1-e52d-4327-a613-14b06593a04c",
   "metadata": {},
   "outputs": [
    {
     "data": {
      "text/html": [
       "<div>\n",
       "<style scoped>\n",
       "    .dataframe tbody tr th:only-of-type {\n",
       "        vertical-align: middle;\n",
       "    }\n",
       "\n",
       "    .dataframe tbody tr th {\n",
       "        vertical-align: top;\n",
       "    }\n",
       "\n",
       "    .dataframe thead th {\n",
       "        text-align: right;\n",
       "    }\n",
       "</style>\n",
       "<table border=\"1\" class=\"dataframe\">\n",
       "  <thead>\n",
       "    <tr style=\"text-align: right;\">\n",
       "      <th></th>\n",
       "      <th>date</th>\n",
       "      <th>issue_id</th>\n",
       "      <th>cusip_id</th>\n",
       "      <th>volume</th>\n",
       "      <th>issuer_id</th>\n",
       "      <th>prospectus_issuer_name</th>\n",
       "      <th>maturity</th>\n",
       "      <th>offering_amt</th>\n",
       "      <th>interest_frequency</th>\n",
       "      <th>cusip</th>\n",
       "      <th>...</th>\n",
       "      <th>rating_spr</th>\n",
       "      <th>rating_mdy</th>\n",
       "      <th>amount_outstanding</th>\n",
       "      <th>tau</th>\n",
       "      <th>age</th>\n",
       "      <th>ytm</th>\n",
       "      <th>duration</th>\n",
       "      <th>tr_dirty_price</th>\n",
       "      <th>tr_ytm</th>\n",
       "      <th>return</th>\n",
       "    </tr>\n",
       "  </thead>\n",
       "  <tbody>\n",
       "    <tr>\n",
       "      <th>0</th>\n",
       "      <td>2002-08-31</td>\n",
       "      <td>98694</td>\n",
       "      <td>010392DN5</td>\n",
       "      <td>25000.0</td>\n",
       "      <td>86.0</td>\n",
       "      <td>ALABAMA PWR CO</td>\n",
       "      <td>2004-08-15</td>\n",
       "      <td>250000.0</td>\n",
       "      <td>2.0</td>\n",
       "      <td>010392DN5</td>\n",
       "      <td>...</td>\n",
       "      <td>A</td>\n",
       "      <td>A2</td>\n",
       "      <td>250000.0</td>\n",
       "      <td>1.972603</td>\n",
       "      <td>3.038356</td>\n",
       "      <td>3.672086</td>\n",
       "      <td>1.872172</td>\n",
       "      <td>109.77133</td>\n",
       "      <td>2.142072</td>\n",
       "      <td>-0.024568</td>\n",
       "    </tr>\n",
       "    <tr>\n",
       "      <th>1</th>\n",
       "      <td>2002-08-31</td>\n",
       "      <td>99961</td>\n",
       "      <td>010392DP0</td>\n",
       "      <td>15000.0</td>\n",
       "      <td>86.0</td>\n",
       "      <td>ALABAMA PWR CO</td>\n",
       "      <td>2007-10-01</td>\n",
       "      <td>200000.0</td>\n",
       "      <td>2.0</td>\n",
       "      <td>010392DP0</td>\n",
       "      <td>...</td>\n",
       "      <td>A</td>\n",
       "      <td>A2</td>\n",
       "      <td>200000.0</td>\n",
       "      <td>5.101370</td>\n",
       "      <td>2.931507</td>\n",
       "      <td>4.540522</td>\n",
       "      <td>4.299664</td>\n",
       "      <td>120.46437</td>\n",
       "      <td>3.339660</td>\n",
       "      <td>0.013677</td>\n",
       "    </tr>\n",
       "    <tr>\n",
       "      <th>2</th>\n",
       "      <td>2002-08-31</td>\n",
       "      <td>144179</td>\n",
       "      <td>00079FAW2</td>\n",
       "      <td>20000.0</td>\n",
       "      <td>37284.0</td>\n",
       "      <td>ABN AMRO BK N V</td>\n",
       "      <td>2003-12-19</td>\n",
       "      <td>4500.0</td>\n",
       "      <td>2.0</td>\n",
       "      <td>00079FAW2</td>\n",
       "      <td>...</td>\n",
       "      <td>AA</td>\n",
       "      <td>Aa2</td>\n",
       "      <td>4500.0</td>\n",
       "      <td>1.315068</td>\n",
       "      <td>0.200000</td>\n",
       "      <td>12.814093</td>\n",
       "      <td>1.230101</td>\n",
       "      <td>115.34654</td>\n",
       "      <td>1.844255</td>\n",
       "      <td>0.006316</td>\n",
       "    </tr>\n",
       "    <tr>\n",
       "      <th>3</th>\n",
       "      <td>2002-08-31</td>\n",
       "      <td>97686</td>\n",
       "      <td>013104AE4</td>\n",
       "      <td>215000.0</td>\n",
       "      <td>93.0</td>\n",
       "      <td>ALBERTSONS INC</td>\n",
       "      <td>2009-08-01</td>\n",
       "      <td>350000.0</td>\n",
       "      <td>2.0</td>\n",
       "      <td>013104AE4</td>\n",
       "      <td>...</td>\n",
       "      <td>BBB+</td>\n",
       "      <td>Baa1</td>\n",
       "      <td>350000.0</td>\n",
       "      <td>6.936986</td>\n",
       "      <td>3.098630</td>\n",
       "      <td>5.601379</td>\n",
       "      <td>5.647303</td>\n",
       "      <td>119.27208</td>\n",
       "      <td>3.834566</td>\n",
       "      <td>-0.001913</td>\n",
       "    </tr>\n",
       "    <tr>\n",
       "      <th>4</th>\n",
       "      <td>2002-08-31</td>\n",
       "      <td>102864</td>\n",
       "      <td>029050AB7</td>\n",
       "      <td>2000000.0</td>\n",
       "      <td>33708.0</td>\n",
       "      <td>AMERICAN PLUMBING &amp; MECHANICAL</td>\n",
       "      <td>2008-10-15</td>\n",
       "      <td>125000.0</td>\n",
       "      <td>2.0</td>\n",
       "      <td>029050AB7</td>\n",
       "      <td>...</td>\n",
       "      <td>B-</td>\n",
       "      <td>B3</td>\n",
       "      <td>125000.0</td>\n",
       "      <td>6.142466</td>\n",
       "      <td>2.734246</td>\n",
       "      <td>29.812586</td>\n",
       "      <td>3.527641</td>\n",
       "      <td>148.25096</td>\n",
       "      <td>3.569999</td>\n",
       "      <td>0.012265</td>\n",
       "    </tr>\n",
       "  </tbody>\n",
       "</table>\n",
       "<p>5 rows × 22 columns</p>\n",
       "</div>"
      ],
      "text/plain": [
       "         date  issue_id   cusip_id     volume  issuer_id  \\\n",
       "0  2002-08-31     98694  010392DN5    25000.0       86.0   \n",
       "1  2002-08-31     99961  010392DP0    15000.0       86.0   \n",
       "2  2002-08-31    144179  00079FAW2    20000.0    37284.0   \n",
       "3  2002-08-31     97686  013104AE4   215000.0       93.0   \n",
       "4  2002-08-31    102864  029050AB7  2000000.0    33708.0   \n",
       "\n",
       "           prospectus_issuer_name    maturity  offering_amt  \\\n",
       "0                  ALABAMA PWR CO  2004-08-15      250000.0   \n",
       "1                  ALABAMA PWR CO  2007-10-01      200000.0   \n",
       "2                 ABN AMRO BK N V  2003-12-19        4500.0   \n",
       "3                  ALBERTSONS INC  2009-08-01      350000.0   \n",
       "4  AMERICAN PLUMBING & MECHANICAL  2008-10-15      125000.0   \n",
       "\n",
       "   interest_frequency      cusip  ...  rating_spr  rating_mdy  \\\n",
       "0                 2.0  010392DN5  ...           A          A2   \n",
       "1                 2.0  010392DP0  ...           A          A2   \n",
       "2                 2.0  00079FAW2  ...          AA         Aa2   \n",
       "3                 2.0  013104AE4  ...        BBB+        Baa1   \n",
       "4                 2.0  029050AB7  ...          B-          B3   \n",
       "\n",
       "  amount_outstanding       tau       age        ytm  duration  tr_dirty_price  \\\n",
       "0           250000.0  1.972603  3.038356   3.672086  1.872172       109.77133   \n",
       "1           200000.0  5.101370  2.931507   4.540522  4.299664       120.46437   \n",
       "2             4500.0  1.315068  0.200000  12.814093  1.230101       115.34654   \n",
       "3           350000.0  6.936986  3.098630   5.601379  5.647303       119.27208   \n",
       "4           125000.0  6.142466  2.734246  29.812586  3.527641       148.25096   \n",
       "\n",
       "     tr_ytm    return  \n",
       "0  2.142072 -0.024568  \n",
       "1  3.339660  0.013677  \n",
       "2  1.844255  0.006316  \n",
       "3  3.834566 -0.001913  \n",
       "4  3.569999  0.012265  \n",
       "\n",
       "[5 rows x 22 columns]"
      ]
     },
     "execution_count": 3,
     "metadata": {},
     "output_type": "execute_result"
    }
   ],
   "source": [
    "data.head()"
   ]
  },
  {
   "cell_type": "markdown",
   "id": "83eebcf7-fad5-49fd-a412-67caea7ec05a",
   "metadata": {
    "jp-MarkdownHeadingCollapsed": true,
    "tags": []
   },
   "source": [
    "## Summary Stats"
   ]
  },
  {
   "cell_type": "code",
   "execution_count": 4,
   "id": "b5c30698-c805-4ac9-90b5-a3f2b1724cfb",
   "metadata": {},
   "outputs": [],
   "source": [
    "# Chronological order, indexes by month-bond\n",
    "data = data.sort_values(by=['date', 'issue_id'])\n",
    "data = data.set_index(['date', 'issue_id'])"
   ]
  },
  {
   "cell_type": "code",
   "execution_count": 5,
   "id": "e2152861-d5c0-42ae-9fb7-1682bb20ee52",
   "metadata": {},
   "outputs": [
    {
     "name": "stdout",
     "output_type": "stream",
     "text": [
      "There are 234  unique months in the panel\n"
     ]
    }
   ],
   "source": [
    "print('There are', len(data.index.get_level_values(0).unique()), ' unique months in the panel')"
   ]
  },
  {
   "cell_type": "code",
   "execution_count": 6,
   "id": "f4eb974b-34d9-4020-9e18-29092add2001",
   "metadata": {},
   "outputs": [],
   "source": [
    "bond_count = {}\n",
    "for month in data.index.get_level_values(0).unique():\n",
    "    bond_count[month] = len(data.loc[month])\n",
    "\n",
    "bonds = pd.DataFrame.from_dict(bond_count, orient='index', columns=['Bond Count'])"
   ]
  },
  {
   "cell_type": "code",
   "execution_count": 7,
   "id": "601ada96-186a-47fa-82a6-8fc310996cfb",
   "metadata": {},
   "outputs": [
    {
     "name": "stdout",
     "output_type": "stream",
     "text": [
      "There are on average  373  bonds in each monthly cross-section, with as few as  190.0  and as many as  594.0\n"
     ]
    }
   ],
   "source": [
    "print('There are on average ', bonds.describe().loc['mean'][0].astype(int), \n",
    "      ' bonds in each monthly cross-section, with as few as ', bonds.describe().loc['min'][0], \n",
    "      ' and as many as ', bonds.describe().loc['max'][0])"
   ]
  },
  {
   "cell_type": "markdown",
   "id": "049c5d4d-a087-42d7-85a7-2a062d0f33b1",
   "metadata": {
    "jp-MarkdownHeadingCollapsed": true,
    "tags": []
   },
   "source": [
    "## Outcome-Predictor Organization"
   ]
  },
  {
   "cell_type": "markdown",
   "id": "a92c1e12-0861-4ab8-8b76-3cd81e73bf24",
   "metadata": {},
   "source": [
    "Since predictors and outcomes are both returns, the notation will follow from MZ, where predictors will be denoted as R(k,1) (ie. the historical 1 month return for month k), while the outcome will be denoted as r(k,t) (ie. the t-month cummulative return of holding the bond k months ahead). As mentioned previously, the main outcomes will be {r(1,1),...,r(12,1)} ~~as well as {r(1,3),r(1,12)}.~~"
   ]
  },
  {
   "cell_type": "code",
   "execution_count": 8,
   "id": "1ab0617f-fbc5-4028-b6b7-321ab91a967c",
   "metadata": {},
   "outputs": [],
   "source": [
    "# Risk-free rate\n",
    "crsp_data = pd.read_csv(\"crsp_data.csv\", index_col='MthCalDt', parse_dates=True)\n",
    "crsp_data = crsp_data.pivot(columns=\"IndNm\", values='COL1')\n",
    "crsp_data.index = crsp_data.index + pd.tseries.offsets.MonthEnd(0)\n",
    "crsp_data.columns = ['20y_return', 'rf', '30y_return', '90day', 'mkt']\n",
    "crsp_data.index.name = 'Date'\n",
    "\n",
    "risk_free = crsp_data['rf'].loc[data.index[0][0]:data.index[-1][0]]"
   ]
  },
  {
   "cell_type": "code",
   "execution_count": 9,
   "id": "d7dd6fe4-976b-4b73-9902-7a02d70a1056",
   "metadata": {},
   "outputs": [],
   "source": [
    "df = data.copy().reset_index()"
   ]
  },
  {
   "cell_type": "code",
   "execution_count": 10,
   "id": "1dc8aefc-6911-4ec6-ab55-baeab5b88d3d",
   "metadata": {},
   "outputs": [],
   "source": [
    "# Excess Returns\n",
    "df['excess_return'] = df['return'] - df.groupby('date')['date'].transform(lambda x: risk_free.loc[x.iloc[0]])\n",
    "df = df.set_index(['date', 'issue_id'])"
   ]
  },
  {
   "cell_type": "code",
   "execution_count": 11,
   "id": "b33f6ce3-f081-455a-b314-39bdecd79f38",
   "metadata": {},
   "outputs": [],
   "source": [
    "# Predictors: Past 1-month Returns\n",
    "for i in range(24):\n",
    "    df['R('+str(i)+',1)'] = df.groupby(level=1)['excess_return'].shift(i+1)"
   ]
  },
  {
   "cell_type": "code",
   "execution_count": 12,
   "id": "5a943ed3-6ece-4576-9a4e-0755f4715321",
   "metadata": {},
   "outputs": [],
   "source": [
    "# Outcomes:\n",
    "# 12 months of 1-month returns\n",
    "for i in range(12):\n",
    "    df['r('+str(i+1)+',1)'] = df.groupby(level=1)['excess_return'].shift(-(i+1))"
   ]
  },
  {
   "cell_type": "code",
   "execution_count": 13,
   "id": "53f66422-a44b-43f1-862b-382aec5a24fa",
   "metadata": {},
   "outputs": [],
   "source": [
    "# df.to_csv('model_data.csv')"
   ]
  },
  {
   "cell_type": "markdown",
   "id": "80cd09a5-b4d3-4bb5-8c75-40a27a971fea",
   "metadata": {},
   "source": [
    "## Model Estimation"
   ]
  },
  {
   "cell_type": "markdown",
   "id": "c3403597-5147-47ea-a6c4-adc42bae47c6",
   "metadata": {},
   "source": [
    "Several models can be implemented. \n",
    "\n",
    "1) OLS\n",
    "- All 24 past returns can be used as predictors\n",
    "\n",
    "~~2) Regularization~~\n",
    "- ~~Same predictors as OLS, but can include all combinations of 2 or 3 way interactions~~\n",
    "- ~~LASSO seems like an obvious candidate~~\n",
    "\n",
    "3) Regression Tree\n",
    "- Can be used to demonstrate the underlying mechanics and interpretation\n",
    "- Will likely overfit, but still worthwhile to implement\n",
    "\n",
    "4) Random Forest\n",
    "- Follows from MZ\n",
    "\n",
    "5) XGBoost\n",
    "6) Neural Network???"
   ]
  },
  {
   "cell_type": "markdown",
   "id": "341b6fb5-4607-46bf-bc6b-fdc1e5a55fc0",
   "metadata": {
    "tags": []
   },
   "source": [
    "Regardless of which model is implemented, the out-of-sample procedure is identical. Specifically, the out-of-sample procedure is equivalent to a rolling train-test split which would be akin to what a researcher would implement in real time. \n",
    "\n",
    "MZ don't explicitly use cross-validation to tune hyperparameters, noting \"we construct 200 tree-based conditional portfolio sorts and we use 8 out of 25 regressors in each of them. We have tried other values for the [hyperparameters] but have found that results do not vary much with these choices. We settled on the share of 30 percent of regressors because it is a standard \n",
    "recommendation in the random forest literature, and we chose B = 200 because higher values did not have any apparent benefit for the estimation but are more costly in terms of computation.\"\n",
    "\n",
    "The out-of-sample procedure is as follows:\n",
    "1) Estimate the model using data from the past 5 years (60 months)\n",
    "2) Predict returns for the next 12 months\n",
    "3) Based on the predictions, for each month, sort bonds into deciles, and go long the top decile and short the bottom decile\n",
    "4) The trading strategy rebalances monthly based on the rankings from the previous step\n",
    "5) After 1 year, the model is re-estimated and the process repeats\n",
    "\n",
    "An alternative strategy, which would reduce monthly turnover, could re-rank bonds based on their average decile over the next 12 months, and then go long/short the top/bottom decile of the second-order sorting. The long/short would be held for the next 12 months, and the strategy would be rebalanced annually. "
   ]
  },
  {
   "cell_type": "code",
   "execution_count": 14,
   "id": "7f3c3bc2-53f3-4a61-83bc-165f7b093973",
   "metadata": {},
   "outputs": [],
   "source": [
    "# Models\n",
    "from statsmodels.api import OLS\n",
    "from sklearn.tree import DecisionTreeRegressor as tree\n",
    "from sklearn.ensemble import RandomForestRegressor as forest\n",
    "from sklearn.neural_network import MLPRegressor as neural_net\n",
    "from xgboost import XGBRegressor as xgboost"
   ]
  },
  {
   "cell_type": "code",
   "execution_count": 15,
   "id": "11289cdb-b78b-4f9b-9b4b-b6c4a3cc5c4a",
   "metadata": {},
   "outputs": [],
   "source": [
    "df = pd.read_csv('model_data.csv').sort_values(by=['date', 'issue_id']).set_index(['date', 'issue_id'])"
   ]
  },
  {
   "cell_type": "code",
   "execution_count": 16,
   "id": "15e9a776-36cb-4216-86cb-25e736feb2bc",
   "metadata": {},
   "outputs": [],
   "source": [
    "model_data = df.loc[\"2004-7\":].dropna()"
   ]
  },
  {
   "cell_type": "code",
   "execution_count": 17,
   "id": "2b8be8df-6f7b-4404-b546-3fe222bb5e8a",
   "metadata": {},
   "outputs": [],
   "source": [
    "X = model_data.loc[:,'R(0,1)':'R(23,1)']\n",
    "Y = model_data.loc[:,'r(1,1)':'r(12,1)']"
   ]
  },
  {
   "cell_type": "code",
   "execution_count": 18,
   "id": "e4fe939a-4249-4e96-8eee-c9865a7eaa7a",
   "metadata": {},
   "outputs": [
    {
     "data": {
      "text/plain": [
       "<AxesSubplot:ylabel='Frequency'>"
      ]
     },
     "execution_count": 18,
     "metadata": {},
     "output_type": "execute_result"
    },
    {
     "data": {
      "image/png": "[encoded data removed]",
      "text/plain": [
       "<Figure size 432x288 with 1 Axes>"
      ]
     },
     "metadata": {
      "needs_background": "light"
     },
     "output_type": "display_data"
    }
   ],
   "source": [
    "X['R(0,1)'].plot.hist(bins=100, range=[-0.2,0.2])"
   ]
  },
  {
   "cell_type": "code",
   "execution_count": 150,
   "id": "3bfb0076-91fe-4ab0-8e6b-d8db7846fb7a",
   "metadata": {},
   "outputs": [],
   "source": [
    "# Standardizes the data\n",
    "from sklearn.preprocessing import StandardScaler\n",
    "\n",
    "scaler = StandardScaler()\n",
    "scaled_X = scaler.fit_transform(X)\n",
    "\n",
    "X_scaled = pd.DataFrame(scaled_X, columns=X.columns, index=X.index)"
   ]
  },
  {
   "cell_type": "code",
   "execution_count": 151,
   "id": "995c93bc-60df-4d3a-b442-796dd8c950bd",
   "metadata": {},
   "outputs": [],
   "source": [
    "# Handles missing data\n"
   ]
  },
  {
   "cell_type": "markdown",
   "id": "163ad2ca-e5fd-4dc6-9bc6-efb575de0512",
   "metadata": {},
   "source": [
    "<font size=4 color='red'>\n",
    "    Version Notes:\n",
    "    - handle missing data\n",
    "    - convert equal weight to value weight\n",
    "    - grid-search cross-validation?\n",
    "</font>"
   ]
  },
  {
   "cell_type": "code",
   "execution_count": 152,
   "id": "6ed0ec2e-61a6-420f-a230-1302edc9694d",
   "metadata": {},
   "outputs": [],
   "source": [
    "def ols_model(y,x,start):\n",
    "    '''\n",
    "    Function to estimate a simple OLS model.\n",
    "    'start' should be incremented by 12 for the model to be re-estimated every 12 months.\n",
    "    '''\n",
    "    Y = y.loc[y.index.levels[0][30:].values[start:start+60]]\n",
    "    X = x.loc[x.index.levels[0][30:].values[start:start+60]]\n",
    "    \n",
    "    # Estimates the model\n",
    "    model = OLS(Y,X).fit()\n",
    "    \n",
    "    # Model output\n",
    "    Y_hat = model.predict(x.loc[x.index.levels[0][30:].values[start+60]]) # next month\n",
    "    Y_true = y.loc[y.index.levels[0][30:].values[start+60]]\n",
    "    Y_hat.columns = Y.columns\n",
    "    \n",
    "    index = y.index.levels[0][30:][start+60:start+60+12]\n",
    "    \n",
    "    return (Y_hat, Y_true, index)"
   ]
  },
  {
   "cell_type": "code",
   "execution_count": 153,
   "id": "846da8e3-956c-46ef-80f0-e5efb8034352",
   "metadata": {},
   "outputs": [],
   "source": [
    "def model_est(model_name,y,x,start):\n",
    "    '''\n",
    "    Function to train a model on the data. Outputs predicted values. \n",
    "    'start' should be incremented by 12 for the model to be re-estimated every 12 months.\n",
    "    'model_name' should be 'ols', 'tree', 'forest', 'neural_net', 'xgboost'.\n",
    "    '''\n",
    "    Y = y.loc[y.index.levels[0][30:].values[start:start+60]]\n",
    "    X = x.loc[x.index.levels[0][30:].values[start:start+60]]\n",
    "    \n",
    "    # Estimates the model\n",
    "    if model_name=='ols':\n",
    "        model = OLS(Y,X).fit()\n",
    "    \n",
    "    if model_name=='tree':\n",
    "        model = tree(splitter='best', max_depth=100, random_state=1).fit(X,Y)\n",
    "    \n",
    "    if model_name=='forest':\n",
    "        model = forest(n_estimators=200, max_depth=25, max_features=8, random_state=1).fit(X,Y) # based on MZ\n",
    "    \n",
    "    if model_name=='neural_net':\n",
    "        model = neural_net(hidden_layer_sizes=(24,12,6), activation='relu', \n",
    "                           solver='sgd', random_state=1).fit(X,Y) # 3 hidden layers with neurons as per Gu, Kelly, Xiu (2019)\n",
    "    \n",
    "    if model_name=='xgboost':\n",
    "        model = xgboost(n_estimators=200, max_depth=25, random_state=1).fit(X,Y) # similar parameters to forest\n",
    "    \n",
    "    # Model output\n",
    "    Y_hat = model.predict(x.loc[x.index.levels[0][30:].values[start+60]]) # next month\n",
    "    Y_true = y.loc[y.index.levels[0][30:].values[start+60]]\n",
    "    \n",
    "    if model_name=='ols':\n",
    "        Y_hat.columns = Y.columns\n",
    "\n",
    "    else:\n",
    "        Y_hat = pd.DataFrame(Y_hat, columns=Y.columns, index=x.loc[x.index.levels[0][30:].values[start+60]].index)\n",
    "    \n",
    "    index = y.index.levels[0][30:][start+60:start+60+12]\n",
    "    \n",
    "    return (Y_hat, Y_true, index)"
   ]
  },
  {
   "cell_type": "code",
   "execution_count": 154,
   "id": "7cf6f432-078e-492a-a538-b14ce814643f",
   "metadata": {},
   "outputs": [],
   "source": [
    "def index_forecast(y, y_hat, index, start):\n",
    "    '''\n",
    "    Function to multi-index a cross-section with the respective starting year.\n",
    "    '''\n",
    "    y_hat['date'] = index[0]\n",
    "    y_hat = y_hat.reset_index().set_index(['date', 'issue_id'])\n",
    "    \n",
    "    return y_hat"
   ]
  },
  {
   "cell_type": "code",
   "execution_count": 155,
   "id": "2e4f1e1e-1bf1-4c4a-919b-6169fc23303d",
   "metadata": {
    "tags": []
   },
   "outputs": [],
   "source": [
    "def compute_deciles(df):\n",
    "    '''\n",
    "    Computes deciles of each column.\n",
    "    '''\n",
    "    deciles = df.apply(lambda x: pd.qcut(x, 10, labels=False, duplicates='drop'), axis=0)\n",
    "    deciles.columns = df.columns+'_decile'\n",
    "    \n",
    "    return deciles"
   ]
  },
  {
   "cell_type": "code",
   "execution_count": 156,
   "id": "18a11f8c-cff5-4164-b02d-366ace505ff7",
   "metadata": {},
   "outputs": [],
   "source": [
    "def trading_strategy(y_hat, y_true, index):\n",
    "    '''\n",
    "    Function to output results of the trading strategy.\n",
    "    The inputs are the results from the model: the fitted values and the true values\n",
    "    '''\n",
    "    # Computes return deciles based on fitted values\n",
    "    deciles = compute_deciles(y_hat)\n",
    "    \n",
    "    # Merges deciles with actual values\n",
    "    y_deciles = pd.concat([y_true, deciles], axis=1)\n",
    "\n",
    "    # Portfolio Formation\n",
    "    # Equal-weighted average\n",
    "    columns = y_deciles.columns[:12]\n",
    "    month_ahead_return = []\n",
    "\n",
    "    for column in columns:\n",
    "        month_ahead_return.append(y_deciles.groupby(column+'_decile')[column].mean())\n",
    "\n",
    "    decile_portfolios = pd.concat(month_ahead_return, axis=1)\n",
    "    decile_portfolios.index.names = ['decile']\n",
    "    \n",
    "    strategy_return = decile_portfolios.T[9] - decile_portfolios.T[0]\n",
    "    strategy_return.index = index\n",
    "    \n",
    "    return strategy_return"
   ]
  },
  {
   "cell_type": "code",
   "execution_count": 157,
   "id": "b8085f96-daee-4f04-be3b-11c344d21366",
   "metadata": {},
   "outputs": [],
   "source": [
    "def out_of_sample_procedure(model_name,y,x):\n",
    "    '''\n",
    "    Function to run the rolling annual model training and forecasting.\n",
    "    Outputs the trading strategy return as well as the fitted values for each both for each month.\n",
    "    'model_name' should be 'ols', 'tree', 'forest', 'neural_net', 'xgboost'.\n",
    "    '''\n",
    "    strat_returns = []\n",
    "    actual_y = []\n",
    "    forecast_y = []\n",
    "    \n",
    "    for step in np.arange(0,len(X.index.levels[0][30:].unique()),12)[:11]:\n",
    "        y_hat, y_true, index = model_est(model_name, y, x, step)\n",
    "        model = trading_strategy(y_hat, y_true, index)\n",
    "        \n",
    "        strat_returns.append(model)\n",
    "        actual_y.append(index_forecast(y, y_true, index, step))\n",
    "        forecast_y.append(index_forecast(y, y_hat, index, step))\n",
    "        \n",
    "    strat_returns_df = pd.concat(strat_returns)\n",
    "    actual_y_df= pd.concat(actual_y)\n",
    "    forecast_y_df = pd.concat(forecast_y)\n",
    "    \n",
    "    return (strat_returns_df, actual_y_df, forecast_y_df)"
   ]
  },
  {
   "cell_type": "code",
   "execution_count": 158,
   "id": "b2f7f331-6567-4947-a478-f9f4c53602b3",
   "metadata": {},
   "outputs": [
    {
     "data": {
      "text/plain": [
       "date\n",
       "2010-01-31   -0.047992\n",
       "2010-02-28    0.037622\n",
       "2010-03-31   -0.037636\n",
       "2010-04-30    0.003616\n",
       "2010-05-31   -0.017207\n",
       "2010-06-30   -0.009471\n",
       "2010-07-31   -0.027700\n",
       "2010-08-31   -0.007307\n",
       "2010-09-30   -0.031299\n",
       "2010-10-31   -0.003380\n",
       "2010-11-30    0.003613\n",
       "2010-12-31   -0.031667\n",
       "dtype: float64"
      ]
     },
     "execution_count": 158,
     "metadata": {},
     "output_type": "execute_result"
    }
   ],
   "source": [
    "y_hat, y_true, index = model_est('neural_net', Y, X, 0)\n",
    "trading_strategy(y_hat, y_true, index)"
   ]
  },
  {
   "cell_type": "code",
   "execution_count": 89,
   "id": "1be02e72-962c-4abe-89b1-bf22eae454dd",
   "metadata": {},
   "outputs": [],
   "source": [
    "from sklearn.metrics import r2_score as R2"
   ]
  },
  {
   "cell_type": "code",
   "execution_count": 90,
   "id": "f488a966-5175-4e9a-84a2-1bb4a165ebb4",
   "metadata": {},
   "outputs": [],
   "source": [
    "returns, y_true, y_hat = out_of_sample_procedure('ols',Y,X)"
   ]
  },
  {
   "cell_type": "code",
   "execution_count": 100,
   "id": "7f0558ef-e323-4225-91e3-93dd94341582",
   "metadata": {},
   "outputs": [
    {
     "data": {
      "text/plain": [
       "<AxesSubplot:xlabel='date'>"
      ]
     },
     "execution_count": 100,
     "metadata": {},
     "output_type": "execute_result"
    },
    {
     "data": {
      "image/png": "[encoded data removed]",
      "text/plain": [
       "<Figure size 432x288 with 1 Axes>"
      ]
     },
     "metadata": {
      "needs_background": "light"
     },
     "output_type": "display_data"
    }
   ],
   "source": [
    "(1+returns).cumprod().plot()"
   ]
  },
  {
   "cell_type": "code",
   "execution_count": 92,
   "id": "4debd85f-282f-441b-8aa6-6efe690daebe",
   "metadata": {},
   "outputs": [
    {
     "data": {
      "text/plain": [
       "0.037164930372151926"
      ]
     },
     "execution_count": 92,
     "metadata": {},
     "output_type": "execute_result"
    }
   ],
   "source": [
    "R2(y_true,y_hat)"
   ]
  },
  {
   "cell_type": "code",
   "execution_count": 101,
   "id": "887e415e-730f-4bfc-8740-9c8330b0ab6a",
   "metadata": {},
   "outputs": [],
   "source": [
    "returns_nn, y_true_nn, y_hat_nn = out_of_sample_procedure('forest',Y,X)"
   ]
  },
  {
   "cell_type": "code",
   "execution_count": 102,
   "id": "9709c785-f243-4267-84e5-1f5949638c5c",
   "metadata": {},
   "outputs": [
    {
     "data": {
      "text/plain": [
       "<AxesSubplot:xlabel='date'>"
      ]
     },
     "execution_count": 102,
     "metadata": {},
     "output_type": "execute_result"
    },
    {
     "data": {
      "image/png": "[encoded data removed]",
      "text/plain": [
       "<Figure size 432x288 with 1 Axes>"
      ]
     },
     "metadata": {
      "needs_background": "light"
     },
     "output_type": "display_data"
    }
   ],
   "source": [
    "(1+returns_nn).cumprod().plot()"
   ]
  },
  {
   "cell_type": "code",
   "execution_count": 103,
   "id": "f2f48bab-edb0-4852-8e43-03b6e2588017",
   "metadata": {},
   "outputs": [
    {
     "data": {
      "text/plain": [
       "0.07822227341344144"
      ]
     },
     "execution_count": 103,
     "metadata": {},
     "output_type": "execute_result"
    }
   ],
   "source": [
    "R2(y_true_nn,y_hat_nn)"
   ]
  },
  {
   "cell_type": "code",
   "execution_count": 40,
   "id": "2e3ea9f0-6834-44b5-91db-55e59d96a377",
   "metadata": {},
   "outputs": [],
   "source": [
    "# # OLS Model Output\n",
    "# from linearmodels.system.model import SUR\n",
    "# model = SUR.multivariate_ls(Y, X).fit(cov_type='kernel', kernel='bartlett')\n",
    "# print(model)"
   ]
  },
  {
   "cell_type": "markdown",
   "id": "36617340-9608-43cd-8aa9-7da6e3301e82",
   "metadata": {},
   "source": [
    "## Hyperparameter Tuning: Cross-Validation & GridSearch"
   ]
  },
  {
   "cell_type": "markdown",
   "id": "11e19c06-f4ef-4a36-b8bf-39d8c15acaf4",
   "metadata": {},
   "source": [
    "Since we are working with unbalanced panel data, that is for every month we have a cross-section of bonds (which potentially differ each month), sklearn does not have a built-in cross-validation splitter which is appropriate for this type of data. Hence it is crucial to create a cross-validation splitter object which adheres to the principal of a time-series splitter (ie. not train on future data), while also being mindful of the cross-sectional dimension.\n",
    "\n",
    "More generally with respect to cross-validation, the models and forecasts are computed on a rolling basis; this is akin to a rolling time-series cross-validation. The model is re-estimated every year, with data from the past 5 years. So it makes sense to incorporate a 5 fold time-series split; train on 1 year, validate on 1 (then train on 2, validate on the next etc). However this is computationally cumbersome since it would require grid searching 17 times (ie. every time a model is estimated). In particular due to the rolling nature, only 20% of the sample (ie. 1/5 years) will be \"new\" data, so potentially there will be similarity in the optimal hyperparameters across models. \n",
    "\n",
    "Therefore a sensible hyperparameter tuning strategy would be to initially tune the model, and keep those same hyperparameter estimates the same for the remainder of the sample. Another strategy would be to tune the model every 5 years, so that the cross-validation data is always fresh."
   ]
  },
  {
   "cell_type": "code",
   "execution_count": 143,
   "id": "1d61d789-dadd-4d93-ba6b-01c8e6efab62",
   "metadata": {},
   "outputs": [],
   "source": [
    "def cv_splitter(df):\n",
    "    train = df.sort_values(by='date', ascending=True).reset_index()    \n",
    "\n",
    "    month_index = []\n",
    "    for month in train['date'].unique(): \n",
    "        month_index.append(train[train['date'] == month].shape[0])\n",
    "    month_index = pd.DataFrame(month_index, index=train['date'].unique(), columns=['month_index'])\n",
    "    month_index = month_index.cumsum()\n",
    "\n",
    "    return [[list(range(0,month_index.iloc[i][0])), \n",
    "                        list(range(month_index.iloc[i][0],month_index.iloc[i+2][0]))] \n",
    "                           for i in np.arange(12,60,12)]"
   ]
  },
  {
   "cell_type": "code",
   "execution_count": 142,
   "id": "7e9e8c7e-9090-465c-8582-e671fc664e5b",
   "metadata": {},
   "outputs": [],
   "source": [
    "# split = cv_splitter(X)"
   ]
  },
  {
   "cell_type": "code",
   "execution_count": 139,
   "id": "73c2fca8-e131-4278-a869-296c90f15943",
   "metadata": {},
   "outputs": [],
   "source": [
    "# split[0][0]\n",
    "# split[0][1]"
   ]
  },
  {
   "cell_type": "markdown",
   "id": "4e4d5731-cd98-4407-9a96-df5fc76931e9",
   "metadata": {
    "jp-MarkdownHeadingCollapsed": true,
    "tags": []
   },
   "source": [
    "##### For Christie:"
   ]
  },
  {
   "cell_type": "code",
   "execution_count": 113,
   "id": "2faa55d8-59e8-4613-8abb-d427bafc867d",
   "metadata": {},
   "outputs": [],
   "source": [
    "train = X.sort_values(by='date', ascending=True).reset_index()    \n",
    "\n",
    "month_index = []\n",
    "for month in train['date'].unique(): \n",
    "    month_index.append(train[train['date'] == month].shape[0])\n",
    "month_index = pd.DataFrame(month_index, index=train['date'].unique(), columns=['month_index'])\n",
    "month_index = month_index.cumsum()\n",
    "\n",
    "split = [[list(range(0,month_index.iloc[i][0])), \n",
    "                    list(range(month_index.iloc[i][0],month_index.iloc[i+12][0]))] \n",
    "                       for i in np.arange(12,60,12)]"
   ]
  },
  {
   "cell_type": "code",
   "execution_count": 114,
   "id": "ee6a4097-5a76-4005-b21a-b2b4d6800ee9",
   "metadata": {},
   "outputs": [
    {
     "data": {
      "text/html": [
       "<div>\n",
       "<style scoped>\n",
       "    .dataframe tbody tr th:only-of-type {\n",
       "        vertical-align: middle;\n",
       "    }\n",
       "\n",
       "    .dataframe tbody tr th {\n",
       "        vertical-align: top;\n",
       "    }\n",
       "\n",
       "    .dataframe thead th {\n",
       "        text-align: right;\n",
       "    }\n",
       "</style>\n",
       "<table border=\"1\" class=\"dataframe\">\n",
       "  <thead>\n",
       "    <tr style=\"text-align: right;\">\n",
       "      <th></th>\n",
       "      <th>month_index</th>\n",
       "    </tr>\n",
       "  </thead>\n",
       "  <tbody>\n",
       "    <tr>\n",
       "      <th>2005-01-31</th>\n",
       "      <td>98</td>\n",
       "    </tr>\n",
       "    <tr>\n",
       "      <th>2005-02-28</th>\n",
       "      <td>196</td>\n",
       "    </tr>\n",
       "    <tr>\n",
       "      <th>2005-03-31</th>\n",
       "      <td>297</td>\n",
       "    </tr>\n",
       "    <tr>\n",
       "      <th>2005-04-30</th>\n",
       "      <td>402</td>\n",
       "    </tr>\n",
       "    <tr>\n",
       "      <th>2005-05-31</th>\n",
       "      <td>502</td>\n",
       "    </tr>\n",
       "    <tr>\n",
       "      <th>...</th>\n",
       "      <td>...</td>\n",
       "    </tr>\n",
       "    <tr>\n",
       "      <th>2020-08-31</th>\n",
       "      <td>34962</td>\n",
       "    </tr>\n",
       "    <tr>\n",
       "      <th>2020-09-30</th>\n",
       "      <td>35211</td>\n",
       "    </tr>\n",
       "    <tr>\n",
       "      <th>2020-10-31</th>\n",
       "      <td>35447</td>\n",
       "    </tr>\n",
       "    <tr>\n",
       "      <th>2020-11-30</th>\n",
       "      <td>35657</td>\n",
       "    </tr>\n",
       "    <tr>\n",
       "      <th>2020-12-31</th>\n",
       "      <td>35839</td>\n",
       "    </tr>\n",
       "  </tbody>\n",
       "</table>\n",
       "<p>192 rows × 1 columns</p>\n",
       "</div>"
      ],
      "text/plain": [
       "            month_index\n",
       "2005-01-31           98\n",
       "2005-02-28          196\n",
       "2005-03-31          297\n",
       "2005-04-30          402\n",
       "2005-05-31          502\n",
       "...                 ...\n",
       "2020-08-31        34962\n",
       "2020-09-30        35211\n",
       "2020-10-31        35447\n",
       "2020-11-30        35657\n",
       "2020-12-31        35839\n",
       "\n",
       "[192 rows x 1 columns]"
      ]
     },
     "execution_count": 114,
     "metadata": {},
     "output_type": "execute_result"
    }
   ],
   "source": [
    "# Cummulative # of bonds for each month\n",
    "month_index"
   ]
  },
  {
   "cell_type": "code",
   "execution_count": 115,
   "id": "fde5f726-4fc6-4a01-8e15-583afd0c758d",
   "metadata": {},
   "outputs": [
    {
     "data": {
      "text/plain": [
       "1404"
      ]
     },
     "execution_count": 115,
     "metadata": {},
     "output_type": "execute_result"
    }
   ],
   "source": [
    "# total number of bonds in month 12 \n",
    "month_index.iloc[12][0]"
   ]
  },
  {
   "cell_type": "code",
   "execution_count": 116,
   "id": "123133cc-ff88-40c5-af37-879853093275",
   "metadata": {},
   "outputs": [
    {
     "data": {
      "text/html": [
       "<div>\n",
       "<style scoped>\n",
       "    .dataframe tbody tr th:only-of-type {\n",
       "        vertical-align: middle;\n",
       "    }\n",
       "\n",
       "    .dataframe tbody tr th {\n",
       "        vertical-align: top;\n",
       "    }\n",
       "\n",
       "    .dataframe thead th {\n",
       "        text-align: right;\n",
       "    }\n",
       "</style>\n",
       "<table border=\"1\" class=\"dataframe\">\n",
       "  <thead>\n",
       "    <tr style=\"text-align: right;\">\n",
       "      <th></th>\n",
       "      <th></th>\n",
       "      <th>R(0,1)</th>\n",
       "      <th>R(1,1)</th>\n",
       "      <th>R(2,1)</th>\n",
       "      <th>R(3,1)</th>\n",
       "      <th>R(4,1)</th>\n",
       "      <th>R(5,1)</th>\n",
       "      <th>R(6,1)</th>\n",
       "      <th>R(7,1)</th>\n",
       "      <th>R(8,1)</th>\n",
       "      <th>R(9,1)</th>\n",
       "      <th>...</th>\n",
       "      <th>R(14,1)</th>\n",
       "      <th>R(15,1)</th>\n",
       "      <th>R(16,1)</th>\n",
       "      <th>R(17,1)</th>\n",
       "      <th>R(18,1)</th>\n",
       "      <th>R(19,1)</th>\n",
       "      <th>R(20,1)</th>\n",
       "      <th>R(21,1)</th>\n",
       "      <th>R(22,1)</th>\n",
       "      <th>R(23,1)</th>\n",
       "    </tr>\n",
       "    <tr>\n",
       "      <th>date</th>\n",
       "      <th>issue_id</th>\n",
       "      <th></th>\n",
       "      <th></th>\n",
       "      <th></th>\n",
       "      <th></th>\n",
       "      <th></th>\n",
       "      <th></th>\n",
       "      <th></th>\n",
       "      <th></th>\n",
       "      <th></th>\n",
       "      <th></th>\n",
       "      <th></th>\n",
       "      <th></th>\n",
       "      <th></th>\n",
       "      <th></th>\n",
       "      <th></th>\n",
       "      <th></th>\n",
       "      <th></th>\n",
       "      <th></th>\n",
       "      <th></th>\n",
       "      <th></th>\n",
       "      <th></th>\n",
       "    </tr>\n",
       "  </thead>\n",
       "  <tbody>\n",
       "    <tr>\n",
       "      <th rowspan=\"5\" valign=\"top\">2005-01-31</th>\n",
       "      <th>38</th>\n",
       "      <td>0.286900</td>\n",
       "      <td>0.392811</td>\n",
       "      <td>0.090582</td>\n",
       "      <td>0.007757</td>\n",
       "      <td>0.016853</td>\n",
       "      <td>0.030916</td>\n",
       "      <td>0.203523</td>\n",
       "      <td>0.038931</td>\n",
       "      <td>0.139797</td>\n",
       "      <td>-0.047095</td>\n",
       "      <td>...</td>\n",
       "      <td>0.255630</td>\n",
       "      <td>0.194802</td>\n",
       "      <td>0.120720</td>\n",
       "      <td>0.040227</td>\n",
       "      <td>0.576254</td>\n",
       "      <td>0.362272</td>\n",
       "      <td>1.486548</td>\n",
       "      <td>0.096401</td>\n",
       "      <td>0.123870</td>\n",
       "      <td>-0.184631</td>\n",
       "    </tr>\n",
       "    <tr>\n",
       "      <th>54</th>\n",
       "      <td>0.231370</td>\n",
       "      <td>0.326054</td>\n",
       "      <td>0.148467</td>\n",
       "      <td>0.067422</td>\n",
       "      <td>0.002623</td>\n",
       "      <td>0.010135</td>\n",
       "      <td>0.155252</td>\n",
       "      <td>0.019478</td>\n",
       "      <td>0.118495</td>\n",
       "      <td>0.034013</td>\n",
       "      <td>...</td>\n",
       "      <td>0.222012</td>\n",
       "      <td>0.238974</td>\n",
       "      <td>0.055021</td>\n",
       "      <td>0.133504</td>\n",
       "      <td>0.503291</td>\n",
       "      <td>0.357057</td>\n",
       "      <td>1.519604</td>\n",
       "      <td>0.432816</td>\n",
       "      <td>-0.059902</td>\n",
       "      <td>-0.228833</td>\n",
       "    </tr>\n",
       "    <tr>\n",
       "      <th>96</th>\n",
       "      <td>0.085493</td>\n",
       "      <td>0.066137</td>\n",
       "      <td>0.094480</td>\n",
       "      <td>0.029760</td>\n",
       "      <td>0.100990</td>\n",
       "      <td>0.067290</td>\n",
       "      <td>0.044863</td>\n",
       "      <td>0.092494</td>\n",
       "      <td>0.030475</td>\n",
       "      <td>0.021483</td>\n",
       "      <td>...</td>\n",
       "      <td>0.078006</td>\n",
       "      <td>0.066975</td>\n",
       "      <td>0.055521</td>\n",
       "      <td>0.064080</td>\n",
       "      <td>0.067257</td>\n",
       "      <td>0.113711</td>\n",
       "      <td>0.089054</td>\n",
       "      <td>0.056338</td>\n",
       "      <td>0.066614</td>\n",
       "      <td>0.074679</td>\n",
       "    </tr>\n",
       "    <tr>\n",
       "      <th>173</th>\n",
       "      <td>0.060104</td>\n",
       "      <td>0.088349</td>\n",
       "      <td>0.037665</td>\n",
       "      <td>-0.009417</td>\n",
       "      <td>0.134515</td>\n",
       "      <td>0.078055</td>\n",
       "      <td>0.080772</td>\n",
       "      <td>0.031888</td>\n",
       "      <td>0.028691</td>\n",
       "      <td>0.028012</td>\n",
       "      <td>...</td>\n",
       "      <td>0.063895</td>\n",
       "      <td>0.059220</td>\n",
       "      <td>0.069183</td>\n",
       "      <td>-0.001552</td>\n",
       "      <td>0.046521</td>\n",
       "      <td>0.124194</td>\n",
       "      <td>0.089841</td>\n",
       "      <td>0.021358</td>\n",
       "      <td>0.077881</td>\n",
       "      <td>0.043703</td>\n",
       "    </tr>\n",
       "    <tr>\n",
       "      <th>175</th>\n",
       "      <td>0.089175</td>\n",
       "      <td>0.055734</td>\n",
       "      <td>0.076489</td>\n",
       "      <td>0.075762</td>\n",
       "      <td>0.059755</td>\n",
       "      <td>0.056975</td>\n",
       "      <td>0.041182</td>\n",
       "      <td>0.093901</td>\n",
       "      <td>0.062940</td>\n",
       "      <td>0.048435</td>\n",
       "      <td>...</td>\n",
       "      <td>0.078216</td>\n",
       "      <td>0.095595</td>\n",
       "      <td>0.045082</td>\n",
       "      <td>0.007242</td>\n",
       "      <td>0.048845</td>\n",
       "      <td>0.121171</td>\n",
       "      <td>0.089294</td>\n",
       "      <td>0.065060</td>\n",
       "      <td>0.045432</td>\n",
       "      <td>0.072661</td>\n",
       "    </tr>\n",
       "    <tr>\n",
       "      <th>...</th>\n",
       "      <th>...</th>\n",
       "      <td>...</td>\n",
       "      <td>...</td>\n",
       "      <td>...</td>\n",
       "      <td>...</td>\n",
       "      <td>...</td>\n",
       "      <td>...</td>\n",
       "      <td>...</td>\n",
       "      <td>...</td>\n",
       "      <td>...</td>\n",
       "      <td>...</td>\n",
       "      <td>...</td>\n",
       "      <td>...</td>\n",
       "      <td>...</td>\n",
       "      <td>...</td>\n",
       "      <td>...</td>\n",
       "      <td>...</td>\n",
       "      <td>...</td>\n",
       "      <td>...</td>\n",
       "      <td>...</td>\n",
       "      <td>...</td>\n",
       "      <td>...</td>\n",
       "    </tr>\n",
       "    <tr>\n",
       "      <th rowspan=\"5\" valign=\"top\">2006-01-31</th>\n",
       "      <th>174428</th>\n",
       "      <td>0.061806</td>\n",
       "      <td>0.032128</td>\n",
       "      <td>0.051783</td>\n",
       "      <td>0.052054</td>\n",
       "      <td>0.062796</td>\n",
       "      <td>0.056090</td>\n",
       "      <td>0.067017</td>\n",
       "      <td>0.017253</td>\n",
       "      <td>0.070506</td>\n",
       "      <td>0.046974</td>\n",
       "      <td>...</td>\n",
       "      <td>0.065171</td>\n",
       "      <td>0.058082</td>\n",
       "      <td>0.063878</td>\n",
       "      <td>0.073532</td>\n",
       "      <td>0.064840</td>\n",
       "      <td>0.005080</td>\n",
       "      <td>0.029800</td>\n",
       "      <td>0.064078</td>\n",
       "      <td>0.054358</td>\n",
       "      <td>0.071152</td>\n",
       "    </tr>\n",
       "    <tr>\n",
       "      <th>174433</th>\n",
       "      <td>0.070120</td>\n",
       "      <td>0.043819</td>\n",
       "      <td>0.051750</td>\n",
       "      <td>0.030649</td>\n",
       "      <td>0.100945</td>\n",
       "      <td>0.052958</td>\n",
       "      <td>0.072947</td>\n",
       "      <td>0.039181</td>\n",
       "      <td>0.098659</td>\n",
       "      <td>0.042330</td>\n",
       "      <td>...</td>\n",
       "      <td>0.080077</td>\n",
       "      <td>0.058320</td>\n",
       "      <td>0.095279</td>\n",
       "      <td>0.091955</td>\n",
       "      <td>0.074646</td>\n",
       "      <td>-0.006665</td>\n",
       "      <td>0.032841</td>\n",
       "      <td>0.073254</td>\n",
       "      <td>0.080818</td>\n",
       "      <td>0.086660</td>\n",
       "    </tr>\n",
       "    <tr>\n",
       "      <th>176236</th>\n",
       "      <td>0.059031</td>\n",
       "      <td>0.059293</td>\n",
       "      <td>0.035278</td>\n",
       "      <td>0.034725</td>\n",
       "      <td>0.073128</td>\n",
       "      <td>0.009874</td>\n",
       "      <td>0.059301</td>\n",
       "      <td>0.058210</td>\n",
       "      <td>0.071140</td>\n",
       "      <td>0.034817</td>\n",
       "      <td>...</td>\n",
       "      <td>0.053722</td>\n",
       "      <td>0.064465</td>\n",
       "      <td>0.085302</td>\n",
       "      <td>0.046695</td>\n",
       "      <td>0.057847</td>\n",
       "      <td>0.041119</td>\n",
       "      <td>0.001309</td>\n",
       "      <td>0.062836</td>\n",
       "      <td>0.067235</td>\n",
       "      <td>0.039510</td>\n",
       "    </tr>\n",
       "    <tr>\n",
       "      <th>176237</th>\n",
       "      <td>0.055501</td>\n",
       "      <td>0.067891</td>\n",
       "      <td>0.037748</td>\n",
       "      <td>0.017949</td>\n",
       "      <td>0.082798</td>\n",
       "      <td>0.046180</td>\n",
       "      <td>0.049477</td>\n",
       "      <td>0.077858</td>\n",
       "      <td>0.030423</td>\n",
       "      <td>0.046067</td>\n",
       "      <td>...</td>\n",
       "      <td>0.087608</td>\n",
       "      <td>0.101432</td>\n",
       "      <td>0.091749</td>\n",
       "      <td>0.033094</td>\n",
       "      <td>0.037943</td>\n",
       "      <td>0.007264</td>\n",
       "      <td>0.074531</td>\n",
       "      <td>0.076802</td>\n",
       "      <td>0.077960</td>\n",
       "      <td>0.053508</td>\n",
       "    </tr>\n",
       "    <tr>\n",
       "      <th>177623</th>\n",
       "      <td>0.114490</td>\n",
       "      <td>0.056726</td>\n",
       "      <td>0.092648</td>\n",
       "      <td>0.099250</td>\n",
       "      <td>0.093091</td>\n",
       "      <td>0.087828</td>\n",
       "      <td>0.174867</td>\n",
       "      <td>0.078491</td>\n",
       "      <td>0.031083</td>\n",
       "      <td>0.059127</td>\n",
       "      <td>...</td>\n",
       "      <td>0.152343</td>\n",
       "      <td>0.077765</td>\n",
       "      <td>0.073385</td>\n",
       "      <td>-0.033525</td>\n",
       "      <td>0.098591</td>\n",
       "      <td>0.020550</td>\n",
       "      <td>0.046199</td>\n",
       "      <td>0.054689</td>\n",
       "      <td>0.062322</td>\n",
       "      <td>0.065656</td>\n",
       "    </tr>\n",
       "  </tbody>\n",
       "</table>\n",
       "<p>1404 rows × 24 columns</p>\n",
       "</div>"
      ],
      "text/plain": [
       "                       R(0,1)    R(1,1)    R(2,1)    R(3,1)    R(4,1)  \\\n",
       "date       issue_id                                                     \n",
       "2005-01-31 38        0.286900  0.392811  0.090582  0.007757  0.016853   \n",
       "           54        0.231370  0.326054  0.148467  0.067422  0.002623   \n",
       "           96        0.085493  0.066137  0.094480  0.029760  0.100990   \n",
       "           173       0.060104  0.088349  0.037665 -0.009417  0.134515   \n",
       "           175       0.089175  0.055734  0.076489  0.075762  0.059755   \n",
       "...                       ...       ...       ...       ...       ...   \n",
       "2006-01-31 174428    0.061806  0.032128  0.051783  0.052054  0.062796   \n",
       "           174433    0.070120  0.043819  0.051750  0.030649  0.100945   \n",
       "           176236    0.059031  0.059293  0.035278  0.034725  0.073128   \n",
       "           176237    0.055501  0.067891  0.037748  0.017949  0.082798   \n",
       "           177623    0.114490  0.056726  0.092648  0.099250  0.093091   \n",
       "\n",
       "                       R(5,1)    R(6,1)    R(7,1)    R(8,1)    R(9,1)  ...  \\\n",
       "date       issue_id                                                    ...   \n",
       "2005-01-31 38        0.030916  0.203523  0.038931  0.139797 -0.047095  ...   \n",
       "           54        0.010135  0.155252  0.019478  0.118495  0.034013  ...   \n",
       "           96        0.067290  0.044863  0.092494  0.030475  0.021483  ...   \n",
       "           173       0.078055  0.080772  0.031888  0.028691  0.028012  ...   \n",
       "           175       0.056975  0.041182  0.093901  0.062940  0.048435  ...   \n",
       "...                       ...       ...       ...       ...       ...  ...   \n",
       "2006-01-31 174428    0.056090  0.067017  0.017253  0.070506  0.046974  ...   \n",
       "           174433    0.052958  0.072947  0.039181  0.098659  0.042330  ...   \n",
       "           176236    0.009874  0.059301  0.058210  0.071140  0.034817  ...   \n",
       "           176237    0.046180  0.049477  0.077858  0.030423  0.046067  ...   \n",
       "           177623    0.087828  0.174867  0.078491  0.031083  0.059127  ...   \n",
       "\n",
       "                      R(14,1)   R(15,1)   R(16,1)   R(17,1)   R(18,1)  \\\n",
       "date       issue_id                                                     \n",
       "2005-01-31 38        0.255630  0.194802  0.120720  0.040227  0.576254   \n",
       "           54        0.222012  0.238974  0.055021  0.133504  0.503291   \n",
       "           96        0.078006  0.066975  0.055521  0.064080  0.067257   \n",
       "           173       0.063895  0.059220  0.069183 -0.001552  0.046521   \n",
       "           175       0.078216  0.095595  0.045082  0.007242  0.048845   \n",
       "...                       ...       ...       ...       ...       ...   \n",
       "2006-01-31 174428    0.065171  0.058082  0.063878  0.073532  0.064840   \n",
       "           174433    0.080077  0.058320  0.095279  0.091955  0.074646   \n",
       "           176236    0.053722  0.064465  0.085302  0.046695  0.057847   \n",
       "           176237    0.087608  0.101432  0.091749  0.033094  0.037943   \n",
       "           177623    0.152343  0.077765  0.073385 -0.033525  0.098591   \n",
       "\n",
       "                      R(19,1)   R(20,1)   R(21,1)   R(22,1)   R(23,1)  \n",
       "date       issue_id                                                    \n",
       "2005-01-31 38        0.362272  1.486548  0.096401  0.123870 -0.184631  \n",
       "           54        0.357057  1.519604  0.432816 -0.059902 -0.228833  \n",
       "           96        0.113711  0.089054  0.056338  0.066614  0.074679  \n",
       "           173       0.124194  0.089841  0.021358  0.077881  0.043703  \n",
       "           175       0.121171  0.089294  0.065060  0.045432  0.072661  \n",
       "...                       ...       ...       ...       ...       ...  \n",
       "2006-01-31 174428    0.005080  0.029800  0.064078  0.054358  0.071152  \n",
       "           174433   -0.006665  0.032841  0.073254  0.080818  0.086660  \n",
       "           176236    0.041119  0.001309  0.062836  0.067235  0.039510  \n",
       "           176237    0.007264  0.074531  0.076802  0.077960  0.053508  \n",
       "           177623    0.020550  0.046199  0.054689  0.062322  0.065656  \n",
       "\n",
       "[1404 rows x 24 columns]"
      ]
     },
     "execution_count": 116,
     "metadata": {},
     "output_type": "execute_result"
    }
   ],
   "source": [
    "# Verify the # of rows in the first 12 months of the dataset\n",
    "X.loc[:'2006-02']"
   ]
  },
  {
   "cell_type": "code",
   "execution_count": 126,
   "id": "1e5fb4c7-4c77-4a7d-b4ef-47cc7d507255",
   "metadata": {},
   "outputs": [
    {
     "data": {
      "text/plain": [
       "0"
      ]
     },
     "execution_count": 126,
     "metadata": {},
     "output_type": "execute_result"
    }
   ],
   "source": [
    "# first split starts at 0\n",
    "split[0][0][0]"
   ]
  },
  {
   "cell_type": "code",
   "execution_count": 127,
   "id": "55f3e0b1-b8e9-4196-a865-16d7b887e45d",
   "metadata": {},
   "outputs": [
    {
     "data": {
      "text/plain": [
       "1403"
      ]
     },
     "execution_count": 127,
     "metadata": {},
     "output_type": "execute_result"
    }
   ],
   "source": [
    "# first split end at 1403\n",
    "split[0][0][-1]"
   ]
  },
  {
   "cell_type": "code",
   "execution_count": 128,
   "id": "835adc8c-34a1-4ea0-a6c0-2875beb386d1",
   "metadata": {},
   "outputs": [
    {
     "data": {
      "text/plain": [
       "1404"
      ]
     },
     "execution_count": 128,
     "metadata": {},
     "output_type": "execute_result"
    }
   ],
   "source": [
    "# second split starts at 1404\n",
    "split[0][1][0]"
   ]
  },
  {
   "cell_type": "code",
   "execution_count": 138,
   "id": "40583176-6cd5-47f1-bcd1-0a51681b1e7a",
   "metadata": {},
   "outputs": [
    {
     "data": {
      "text/html": [
       "<div>\n",
       "<style scoped>\n",
       "    .dataframe tbody tr th:only-of-type {\n",
       "        vertical-align: middle;\n",
       "    }\n",
       "\n",
       "    .dataframe tbody tr th {\n",
       "        vertical-align: top;\n",
       "    }\n",
       "\n",
       "    .dataframe thead th {\n",
       "        text-align: right;\n",
       "    }\n",
       "</style>\n",
       "<table border=\"1\" class=\"dataframe\">\n",
       "  <thead>\n",
       "    <tr style=\"text-align: right;\">\n",
       "      <th></th>\n",
       "      <th></th>\n",
       "      <th>R(0,1)</th>\n",
       "      <th>R(1,1)</th>\n",
       "      <th>R(2,1)</th>\n",
       "      <th>R(3,1)</th>\n",
       "      <th>R(4,1)</th>\n",
       "      <th>R(5,1)</th>\n",
       "      <th>R(6,1)</th>\n",
       "      <th>R(7,1)</th>\n",
       "      <th>R(8,1)</th>\n",
       "      <th>R(9,1)</th>\n",
       "      <th>...</th>\n",
       "      <th>R(14,1)</th>\n",
       "      <th>R(15,1)</th>\n",
       "      <th>R(16,1)</th>\n",
       "      <th>R(17,1)</th>\n",
       "      <th>R(18,1)</th>\n",
       "      <th>R(19,1)</th>\n",
       "      <th>R(20,1)</th>\n",
       "      <th>R(21,1)</th>\n",
       "      <th>R(22,1)</th>\n",
       "      <th>R(23,1)</th>\n",
       "    </tr>\n",
       "    <tr>\n",
       "      <th>date</th>\n",
       "      <th>issue_id</th>\n",
       "      <th></th>\n",
       "      <th></th>\n",
       "      <th></th>\n",
       "      <th></th>\n",
       "      <th></th>\n",
       "      <th></th>\n",
       "      <th></th>\n",
       "      <th></th>\n",
       "      <th></th>\n",
       "      <th></th>\n",
       "      <th></th>\n",
       "      <th></th>\n",
       "      <th></th>\n",
       "      <th></th>\n",
       "      <th></th>\n",
       "      <th></th>\n",
       "      <th></th>\n",
       "      <th></th>\n",
       "      <th></th>\n",
       "      <th></th>\n",
       "      <th></th>\n",
       "    </tr>\n",
       "  </thead>\n",
       "  <tbody>\n",
       "    <tr>\n",
       "      <th rowspan=\"5\" valign=\"top\">2005-01-31</th>\n",
       "      <th>38</th>\n",
       "      <td>0.286900</td>\n",
       "      <td>0.392811</td>\n",
       "      <td>0.090582</td>\n",
       "      <td>0.007757</td>\n",
       "      <td>0.016853</td>\n",
       "      <td>0.030916</td>\n",
       "      <td>0.203523</td>\n",
       "      <td>0.038931</td>\n",
       "      <td>0.139797</td>\n",
       "      <td>-0.047095</td>\n",
       "      <td>...</td>\n",
       "      <td>0.255630</td>\n",
       "      <td>0.194802</td>\n",
       "      <td>0.120720</td>\n",
       "      <td>0.040227</td>\n",
       "      <td>0.576254</td>\n",
       "      <td>0.362272</td>\n",
       "      <td>1.486548</td>\n",
       "      <td>0.096401</td>\n",
       "      <td>0.123870</td>\n",
       "      <td>-0.184631</td>\n",
       "    </tr>\n",
       "    <tr>\n",
       "      <th>54</th>\n",
       "      <td>0.231370</td>\n",
       "      <td>0.326054</td>\n",
       "      <td>0.148467</td>\n",
       "      <td>0.067422</td>\n",
       "      <td>0.002623</td>\n",
       "      <td>0.010135</td>\n",
       "      <td>0.155252</td>\n",
       "      <td>0.019478</td>\n",
       "      <td>0.118495</td>\n",
       "      <td>0.034013</td>\n",
       "      <td>...</td>\n",
       "      <td>0.222012</td>\n",
       "      <td>0.238974</td>\n",
       "      <td>0.055021</td>\n",
       "      <td>0.133504</td>\n",
       "      <td>0.503291</td>\n",
       "      <td>0.357057</td>\n",
       "      <td>1.519604</td>\n",
       "      <td>0.432816</td>\n",
       "      <td>-0.059902</td>\n",
       "      <td>-0.228833</td>\n",
       "    </tr>\n",
       "    <tr>\n",
       "      <th>96</th>\n",
       "      <td>0.085493</td>\n",
       "      <td>0.066137</td>\n",
       "      <td>0.094480</td>\n",
       "      <td>0.029760</td>\n",
       "      <td>0.100990</td>\n",
       "      <td>0.067290</td>\n",
       "      <td>0.044863</td>\n",
       "      <td>0.092494</td>\n",
       "      <td>0.030475</td>\n",
       "      <td>0.021483</td>\n",
       "      <td>...</td>\n",
       "      <td>0.078006</td>\n",
       "      <td>0.066975</td>\n",
       "      <td>0.055521</td>\n",
       "      <td>0.064080</td>\n",
       "      <td>0.067257</td>\n",
       "      <td>0.113711</td>\n",
       "      <td>0.089054</td>\n",
       "      <td>0.056338</td>\n",
       "      <td>0.066614</td>\n",
       "      <td>0.074679</td>\n",
       "    </tr>\n",
       "    <tr>\n",
       "      <th>173</th>\n",
       "      <td>0.060104</td>\n",
       "      <td>0.088349</td>\n",
       "      <td>0.037665</td>\n",
       "      <td>-0.009417</td>\n",
       "      <td>0.134515</td>\n",
       "      <td>0.078055</td>\n",
       "      <td>0.080772</td>\n",
       "      <td>0.031888</td>\n",
       "      <td>0.028691</td>\n",
       "      <td>0.028012</td>\n",
       "      <td>...</td>\n",
       "      <td>0.063895</td>\n",
       "      <td>0.059220</td>\n",
       "      <td>0.069183</td>\n",
       "      <td>-0.001552</td>\n",
       "      <td>0.046521</td>\n",
       "      <td>0.124194</td>\n",
       "      <td>0.089841</td>\n",
       "      <td>0.021358</td>\n",
       "      <td>0.077881</td>\n",
       "      <td>0.043703</td>\n",
       "    </tr>\n",
       "    <tr>\n",
       "      <th>175</th>\n",
       "      <td>0.089175</td>\n",
       "      <td>0.055734</td>\n",
       "      <td>0.076489</td>\n",
       "      <td>0.075762</td>\n",
       "      <td>0.059755</td>\n",
       "      <td>0.056975</td>\n",
       "      <td>0.041182</td>\n",
       "      <td>0.093901</td>\n",
       "      <td>0.062940</td>\n",
       "      <td>0.048435</td>\n",
       "      <td>...</td>\n",
       "      <td>0.078216</td>\n",
       "      <td>0.095595</td>\n",
       "      <td>0.045082</td>\n",
       "      <td>0.007242</td>\n",
       "      <td>0.048845</td>\n",
       "      <td>0.121171</td>\n",
       "      <td>0.089294</td>\n",
       "      <td>0.065060</td>\n",
       "      <td>0.045432</td>\n",
       "      <td>0.072661</td>\n",
       "    </tr>\n",
       "    <tr>\n",
       "      <th>...</th>\n",
       "      <th>...</th>\n",
       "      <td>...</td>\n",
       "      <td>...</td>\n",
       "      <td>...</td>\n",
       "      <td>...</td>\n",
       "      <td>...</td>\n",
       "      <td>...</td>\n",
       "      <td>...</td>\n",
       "      <td>...</td>\n",
       "      <td>...</td>\n",
       "      <td>...</td>\n",
       "      <td>...</td>\n",
       "      <td>...</td>\n",
       "      <td>...</td>\n",
       "      <td>...</td>\n",
       "      <td>...</td>\n",
       "      <td>...</td>\n",
       "      <td>...</td>\n",
       "      <td>...</td>\n",
       "      <td>...</td>\n",
       "      <td>...</td>\n",
       "      <td>...</td>\n",
       "    </tr>\n",
       "    <tr>\n",
       "      <th rowspan=\"5\" valign=\"top\">2009-01-31</th>\n",
       "      <th>357580</th>\n",
       "      <td>0.210372</td>\n",
       "      <td>0.132090</td>\n",
       "      <td>-0.054827</td>\n",
       "      <td>-0.010666</td>\n",
       "      <td>0.071404</td>\n",
       "      <td>0.040131</td>\n",
       "      <td>0.064418</td>\n",
       "      <td>0.028312</td>\n",
       "      <td>0.086222</td>\n",
       "      <td>0.016586</td>\n",
       "      <td>...</td>\n",
       "      <td>0.016396</td>\n",
       "      <td>0.056771</td>\n",
       "      <td>0.080653</td>\n",
       "      <td>0.034362</td>\n",
       "      <td>0.041428</td>\n",
       "      <td>0.058275</td>\n",
       "      <td>0.017706</td>\n",
       "      <td>0.080240</td>\n",
       "      <td>0.040266</td>\n",
       "      <td>0.069998</td>\n",
       "    </tr>\n",
       "    <tr>\n",
       "      <th>359188</th>\n",
       "      <td>0.111149</td>\n",
       "      <td>0.111672</td>\n",
       "      <td>-0.033871</td>\n",
       "      <td>0.002739</td>\n",
       "      <td>0.039357</td>\n",
       "      <td>0.058634</td>\n",
       "      <td>0.056189</td>\n",
       "      <td>0.039236</td>\n",
       "      <td>0.055558</td>\n",
       "      <td>0.041193</td>\n",
       "      <td>...</td>\n",
       "      <td>0.083934</td>\n",
       "      <td>0.036487</td>\n",
       "      <td>0.072494</td>\n",
       "      <td>0.070176</td>\n",
       "      <td>0.054615</td>\n",
       "      <td>0.042109</td>\n",
       "      <td>0.069812</td>\n",
       "      <td>0.023139</td>\n",
       "      <td>0.086711</td>\n",
       "      <td>0.047850</td>\n",
       "    </tr>\n",
       "    <tr>\n",
       "      <th>359192</th>\n",
       "      <td>0.103189</td>\n",
       "      <td>0.153232</td>\n",
       "      <td>0.010980</td>\n",
       "      <td>-0.113773</td>\n",
       "      <td>0.023172</td>\n",
       "      <td>0.056333</td>\n",
       "      <td>0.056599</td>\n",
       "      <td>0.030913</td>\n",
       "      <td>0.069826</td>\n",
       "      <td>0.049789</td>\n",
       "      <td>...</td>\n",
       "      <td>0.101631</td>\n",
       "      <td>0.052162</td>\n",
       "      <td>0.082185</td>\n",
       "      <td>0.078072</td>\n",
       "      <td>0.057323</td>\n",
       "      <td>0.039472</td>\n",
       "      <td>0.085075</td>\n",
       "      <td>0.003196</td>\n",
       "      <td>0.105256</td>\n",
       "      <td>0.038409</td>\n",
       "    </tr>\n",
       "    <tr>\n",
       "      <th>365559</th>\n",
       "      <td>0.145164</td>\n",
       "      <td>0.680812</td>\n",
       "      <td>-0.144864</td>\n",
       "      <td>-0.324571</td>\n",
       "      <td>0.010373</td>\n",
       "      <td>0.074758</td>\n",
       "      <td>0.041914</td>\n",
       "      <td>0.047701</td>\n",
       "      <td>0.025976</td>\n",
       "      <td>0.066951</td>\n",
       "      <td>...</td>\n",
       "      <td>0.040985</td>\n",
       "      <td>0.048173</td>\n",
       "      <td>0.073209</td>\n",
       "      <td>0.060618</td>\n",
       "      <td>0.054604</td>\n",
       "      <td>0.043864</td>\n",
       "      <td>0.033238</td>\n",
       "      <td>0.050060</td>\n",
       "      <td>0.071174</td>\n",
       "      <td>0.040461</td>\n",
       "    </tr>\n",
       "    <tr>\n",
       "      <th>365561</th>\n",
       "      <td>0.227660</td>\n",
       "      <td>0.679886</td>\n",
       "      <td>-0.210568</td>\n",
       "      <td>-0.298071</td>\n",
       "      <td>-0.038569</td>\n",
       "      <td>0.058237</td>\n",
       "      <td>0.028189</td>\n",
       "      <td>0.031384</td>\n",
       "      <td>0.031567</td>\n",
       "      <td>0.055043</td>\n",
       "      <td>...</td>\n",
       "      <td>0.038725</td>\n",
       "      <td>0.052994</td>\n",
       "      <td>0.069672</td>\n",
       "      <td>0.071114</td>\n",
       "      <td>0.043724</td>\n",
       "      <td>0.035533</td>\n",
       "      <td>0.038281</td>\n",
       "      <td>0.050211</td>\n",
       "      <td>0.077814</td>\n",
       "      <td>0.049731</td>\n",
       "    </tr>\n",
       "  </tbody>\n",
       "</table>\n",
       "<p>5961 rows × 24 columns</p>\n",
       "</div>"
      ],
      "text/plain": [
       "                       R(0,1)    R(1,1)    R(2,1)    R(3,1)    R(4,1)  \\\n",
       "date       issue_id                                                     \n",
       "2005-01-31 38        0.286900  0.392811  0.090582  0.007757  0.016853   \n",
       "           54        0.231370  0.326054  0.148467  0.067422  0.002623   \n",
       "           96        0.085493  0.066137  0.094480  0.029760  0.100990   \n",
       "           173       0.060104  0.088349  0.037665 -0.009417  0.134515   \n",
       "           175       0.089175  0.055734  0.076489  0.075762  0.059755   \n",
       "...                       ...       ...       ...       ...       ...   \n",
       "2009-01-31 357580    0.210372  0.132090 -0.054827 -0.010666  0.071404   \n",
       "           359188    0.111149  0.111672 -0.033871  0.002739  0.039357   \n",
       "           359192    0.103189  0.153232  0.010980 -0.113773  0.023172   \n",
       "           365559    0.145164  0.680812 -0.144864 -0.324571  0.010373   \n",
       "           365561    0.227660  0.679886 -0.210568 -0.298071 -0.038569   \n",
       "\n",
       "                       R(5,1)    R(6,1)    R(7,1)    R(8,1)    R(9,1)  ...  \\\n",
       "date       issue_id                                                    ...   \n",
       "2005-01-31 38        0.030916  0.203523  0.038931  0.139797 -0.047095  ...   \n",
       "           54        0.010135  0.155252  0.019478  0.118495  0.034013  ...   \n",
       "           96        0.067290  0.044863  0.092494  0.030475  0.021483  ...   \n",
       "           173       0.078055  0.080772  0.031888  0.028691  0.028012  ...   \n",
       "           175       0.056975  0.041182  0.093901  0.062940  0.048435  ...   \n",
       "...                       ...       ...       ...       ...       ...  ...   \n",
       "2009-01-31 357580    0.040131  0.064418  0.028312  0.086222  0.016586  ...   \n",
       "           359188    0.058634  0.056189  0.039236  0.055558  0.041193  ...   \n",
       "           359192    0.056333  0.056599  0.030913  0.069826  0.049789  ...   \n",
       "           365559    0.074758  0.041914  0.047701  0.025976  0.066951  ...   \n",
       "           365561    0.058237  0.028189  0.031384  0.031567  0.055043  ...   \n",
       "\n",
       "                      R(14,1)   R(15,1)   R(16,1)   R(17,1)   R(18,1)  \\\n",
       "date       issue_id                                                     \n",
       "2005-01-31 38        0.255630  0.194802  0.120720  0.040227  0.576254   \n",
       "           54        0.222012  0.238974  0.055021  0.133504  0.503291   \n",
       "           96        0.078006  0.066975  0.055521  0.064080  0.067257   \n",
       "           173       0.063895  0.059220  0.069183 -0.001552  0.046521   \n",
       "           175       0.078216  0.095595  0.045082  0.007242  0.048845   \n",
       "...                       ...       ...       ...       ...       ...   \n",
       "2009-01-31 357580    0.016396  0.056771  0.080653  0.034362  0.041428   \n",
       "           359188    0.083934  0.036487  0.072494  0.070176  0.054615   \n",
       "           359192    0.101631  0.052162  0.082185  0.078072  0.057323   \n",
       "           365559    0.040985  0.048173  0.073209  0.060618  0.054604   \n",
       "           365561    0.038725  0.052994  0.069672  0.071114  0.043724   \n",
       "\n",
       "                      R(19,1)   R(20,1)   R(21,1)   R(22,1)   R(23,1)  \n",
       "date       issue_id                                                    \n",
       "2005-01-31 38        0.362272  1.486548  0.096401  0.123870 -0.184631  \n",
       "           54        0.357057  1.519604  0.432816 -0.059902 -0.228833  \n",
       "           96        0.113711  0.089054  0.056338  0.066614  0.074679  \n",
       "           173       0.124194  0.089841  0.021358  0.077881  0.043703  \n",
       "           175       0.121171  0.089294  0.065060  0.045432  0.072661  \n",
       "...                       ...       ...       ...       ...       ...  \n",
       "2009-01-31 357580    0.058275  0.017706  0.080240  0.040266  0.069998  \n",
       "           359188    0.042109  0.069812  0.023139  0.086711  0.047850  \n",
       "           359192    0.039472  0.085075  0.003196  0.105256  0.038409  \n",
       "           365559    0.043864  0.033238  0.050060  0.071174  0.040461  \n",
       "           365561    0.035533  0.038281  0.050211  0.077814  0.049731  \n",
       "\n",
       "[5961 rows x 24 columns]"
      ]
     },
     "execution_count": 138,
     "metadata": {},
     "output_type": "execute_result"
    }
   ],
   "source": [
    "X.loc[:'2009-02']"
   ]
  },
  {
   "cell_type": "code",
   "execution_count": 133,
   "id": "4465a191-b26d-43e1-a545-72698cf918d9",
   "metadata": {},
   "outputs": [
    {
     "data": {
      "text/plain": [
       "0"
      ]
     },
     "execution_count": 133,
     "metadata": {},
     "output_type": "execute_result"
    }
   ],
   "source": [
    "# last split starts at 0\n",
    "split[3][0][0]"
   ]
  },
  {
   "cell_type": "code",
   "execution_count": 132,
   "id": "af95888a-f92a-4ede-bafc-d419556b2228",
   "metadata": {},
   "outputs": [
    {
     "data": {
      "text/plain": [
       "5960"
      ]
     },
     "execution_count": 132,
     "metadata": {},
     "output_type": "execute_result"
    }
   ],
   "source": [
    "# last split ...\n",
    "split[3][0][-1]"
   ]
  },
  {
   "cell_type": "code",
   "execution_count": 135,
   "id": "508acb67-d46b-4388-bfe5-e972c1972111",
   "metadata": {},
   "outputs": [
    {
     "data": {
      "text/plain": [
       "5961"
      ]
     },
     "execution_count": 135,
     "metadata": {},
     "output_type": "execute_result"
    }
   ],
   "source": [
    "# last split ...\n",
    "split[3][1][0]"
   ]
  },
  {
   "cell_type": "code",
   "execution_count": 136,
   "id": "919cbf65-d707-486a-ae50-6fbb6e9bc93a",
   "metadata": {},
   "outputs": [
    {
     "data": {
      "text/plain": [
       "4"
      ]
     },
     "execution_count": 136,
     "metadata": {},
     "output_type": "execute_result"
    }
   ],
   "source": [
    "# \n",
    "len(split)"
   ]
  },
  {
   "cell_type": "markdown",
   "id": "2ab4a79a-b405-4ce4-a539-5f5934ba9205",
   "metadata": {},
   "source": [
    "## X"
   ]
  },
  {
   "cell_type": "code",
   "execution_count": null,
   "id": "c7689eeb-ba4f-4e74-ae7a-1df60047ffa5",
   "metadata": {},
   "outputs": [],
   "source": []
  }
 ],
 "metadata": {
  "kernelspec": {
   "display_name": "Python 3 (ipykernel)",
   "language": "python",
   "name": "python3"
  },
  "language_info": {
   "codemirror_mode": {
    "name": "ipython",
    "version": 3
   },
   "file_extension": ".py",
   "mimetype": "text/x-python",
   "name": "python",
   "nbconvert_exporter": "python",
   "pygments_lexer": "ipython3",
   "version": "3.9.12"
  }
 },
 "nbformat": 4,
 "nbformat_minor": 5
}
