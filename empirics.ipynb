{
 "cells": [
  {
   "cell_type": "markdown",
   "id": "5fb13944-8156-4f45-bcdc-cbbe96541ea7",
   "metadata": {},
   "source": [
    "Version notes:\n",
    "- try other bond characteristics"
   ]
  },
  {
   "cell_type": "markdown",
   "id": "498e5843-0774-4d7d-851d-0de5d676d5ef",
   "metadata": {
    "tags": []
   },
   "source": [
    "# ML Analysis"
   ]
  },
  {
   "cell_type": "code",
   "execution_count": 1,
   "id": "41658cad-4df8-4f50-bb8b-f891e1295189",
   "metadata": {},
   "outputs": [],
   "source": [
    "import pandas as pd\n",
    "import numpy as np"
   ]
  },
  {
   "cell_type": "markdown",
   "id": "cd43db57-6293-4080-a459-f4e5d709207c",
   "metadata": {
    "jp-MarkdownHeadingCollapsed": true,
    "tags": []
   },
   "source": [
    "## Data\n",
    "Data are from 'data_cleaning.ipynb', which uses a subset of merged TRACE and Mergent FISD daily bond data. It follows the sample exclusion criteria of Bai, Bali & Wen (2019) and aggregates returns to monthly based on their methodologies."
   ]
  },
  {
   "cell_type": "markdown",
   "id": "a043f5f9-f4d4-4850-8e91-95dac40b11e3",
   "metadata": {},
   "source": [
    "Following Moritz and Zimmerman (2016) (MZ), the goal is to estimate the expected return of stock i in time period t+1, conditional on information in period t.\n",
    "\n",
    "In the context of corporate bonds, our aim will be to predict the return of bond i. Then based on the predicted return for t+1, bonds are sorted into deciles based on the expected return, and the trading strategy goes long the top decile (ie. highest predicted returns) and short the bottom decile. The out-of-sample test is implemented on a rolling basis: the model is estimated every year, using data from the past 5 years. Returns are predicted for the next 12 months, and in each month the decile portfolio strategy is implemented.\n",
    "\n",
    "Given the bond characteristics, such as credit rating, duration, and yield-to-maturity (which are all known factors to affect returns), three types of return models can be implemented. The first can focus on raw returns, the second could focus on returns in \"excess\" of these other factors, and the third can incorporate these characteristics and return-based factors simultaneously. The first model ignores potential correlation between the return-based factors and other bond characteristics, however it follows Moritz and Zimmerman's methodology. The second model would involve first orthogonalizing returns to the bond factors (using linear regression), and then predicting the residual returns; this is appealing, but introduces estimation uncertainty (ie. what if the relationship is non-linear). Lastly, the third methodology is the most flexible. For example, it may be optimal to first sort on duration, and then on past returns etc. \n",
    "\n",
    "\n",
    "Thus, the outcome variables (ie. to be predicted) is the next month's return, up to the next 11 months. ~~To simplify things, it may be worthwhile to consider a buy-and-hold strategy: estimate the model, predict the next cummulative X month return (say 3 or 12 months), sort stocks, and go long/sort the portfolios with a holding period of X months. This would have significantly less turnover and hence less transaction costs. This could be used as a robustness check.~~ (This is impractical data wise)\n",
    "\n",
    "The predictor variables are the past 24 months of 1 month returns (ie. the return over month t-k to t-k+1 for k = (1,...24)). The notation used by Moritz and Zimmerman is $ R_{i,t}(k,1) $. Thus the tree-based model effectively estimates a more complicated version of:\n",
    "\n",
    "$\n",
    "r_{i,t+1} = \\mu_{1t} I(R_{i,t}(k,1) \\lt \\tau_t) + \\mu_{2t} I(R_{i,t}(k,1) \\ge \\tau_t)\n",
    "$\n",
    "\n",
    "Where $\\mu_1t$ can be interpreted as the return on a portfolio for which all stocks $i$ satisfy $R_{i,t}(k,1) \\lt \\tau_t$ in period $t$. Hence instead of simply sorting on a particular decile, stocks are sorted deeply on potentially many different criteria.\n",
    "\n",
    "In terms of implementation practicicality, the ML model can be estimated akin to the Fama-MacBeth procedure. Using the past 5 years (60 months) of data, predictions can be formed. The estimation is over the time-dimension (in an OLS framework equivalent to averaging the results of 60 cross-sectional regressions), while the prediction is over the cross-sectional dimension (ie. bonds are ranked by highest return in the next cross-section). \n",
    "\n",
    "Hence the data should be indexed at the bond-month level (ie. all predictors and outcomes should be aligned to month t for bond i). Thus estimating a model for bond i using data from t-60 to t is equivalent to a pooled cross-section. "
   ]
  },
  {
   "cell_type": "code",
   "execution_count": 2,
   "id": "fb51a46e-c579-46a3-907a-25e7c2c40bd4",
   "metadata": {},
   "outputs": [],
   "source": [
    "data = pd.read_csv('monthly_data.csv', index_col=0)"
   ]
  },
  {
   "cell_type": "code",
   "execution_count": 3,
   "id": "6e4323e1-e52d-4327-a613-14b06593a04c",
   "metadata": {},
   "outputs": [
    {
     "data": {
      "text/html": [
       "<div>\n",
       "<style scoped>\n",
       "    .dataframe tbody tr th:only-of-type {\n",
       "        vertical-align: middle;\n",
       "    }\n",
       "\n",
       "    .dataframe tbody tr th {\n",
       "        vertical-align: top;\n",
       "    }\n",
       "\n",
       "    .dataframe thead th {\n",
       "        text-align: right;\n",
       "    }\n",
       "</style>\n",
       "<table border=\"1\" class=\"dataframe\">\n",
       "  <thead>\n",
       "    <tr style=\"text-align: right;\">\n",
       "      <th></th>\n",
       "      <th>date</th>\n",
       "      <th>issue_id</th>\n",
       "      <th>cusip_id</th>\n",
       "      <th>volume</th>\n",
       "      <th>issuer_id</th>\n",
       "      <th>prospectus_issuer_name</th>\n",
       "      <th>maturity</th>\n",
       "      <th>offering_amt</th>\n",
       "      <th>interest_frequency</th>\n",
       "      <th>cusip</th>\n",
       "      <th>...</th>\n",
       "      <th>rating_spr</th>\n",
       "      <th>rating_mdy</th>\n",
       "      <th>amount_outstanding</th>\n",
       "      <th>tau</th>\n",
       "      <th>age</th>\n",
       "      <th>ytm</th>\n",
       "      <th>duration</th>\n",
       "      <th>tr_dirty_price</th>\n",
       "      <th>tr_ytm</th>\n",
       "      <th>return</th>\n",
       "    </tr>\n",
       "  </thead>\n",
       "  <tbody>\n",
       "    <tr>\n",
       "      <th>0</th>\n",
       "      <td>2002-08-31</td>\n",
       "      <td>98694</td>\n",
       "      <td>010392DN5</td>\n",
       "      <td>25000.0</td>\n",
       "      <td>86.0</td>\n",
       "      <td>ALABAMA PWR CO</td>\n",
       "      <td>2004-08-15</td>\n",
       "      <td>250000.0</td>\n",
       "      <td>2.0</td>\n",
       "      <td>010392DN5</td>\n",
       "      <td>...</td>\n",
       "      <td>A</td>\n",
       "      <td>A2</td>\n",
       "      <td>250000.0</td>\n",
       "      <td>1.972603</td>\n",
       "      <td>3.038356</td>\n",
       "      <td>3.672086</td>\n",
       "      <td>1.872172</td>\n",
       "      <td>109.77133</td>\n",
       "      <td>2.142072</td>\n",
       "      <td>-0.024568</td>\n",
       "    </tr>\n",
       "    <tr>\n",
       "      <th>1</th>\n",
       "      <td>2002-08-31</td>\n",
       "      <td>99961</td>\n",
       "      <td>010392DP0</td>\n",
       "      <td>15000.0</td>\n",
       "      <td>86.0</td>\n",
       "      <td>ALABAMA PWR CO</td>\n",
       "      <td>2007-10-01</td>\n",
       "      <td>200000.0</td>\n",
       "      <td>2.0</td>\n",
       "      <td>010392DP0</td>\n",
       "      <td>...</td>\n",
       "      <td>A</td>\n",
       "      <td>A2</td>\n",
       "      <td>200000.0</td>\n",
       "      <td>5.101370</td>\n",
       "      <td>2.931507</td>\n",
       "      <td>4.540522</td>\n",
       "      <td>4.299664</td>\n",
       "      <td>120.46437</td>\n",
       "      <td>3.339660</td>\n",
       "      <td>0.013677</td>\n",
       "    </tr>\n",
       "    <tr>\n",
       "      <th>2</th>\n",
       "      <td>2002-08-31</td>\n",
       "      <td>144179</td>\n",
       "      <td>00079FAW2</td>\n",
       "      <td>20000.0</td>\n",
       "      <td>37284.0</td>\n",
       "      <td>ABN AMRO BK N V</td>\n",
       "      <td>2003-12-19</td>\n",
       "      <td>4500.0</td>\n",
       "      <td>2.0</td>\n",
       "      <td>00079FAW2</td>\n",
       "      <td>...</td>\n",
       "      <td>AA</td>\n",
       "      <td>Aa2</td>\n",
       "      <td>4500.0</td>\n",
       "      <td>1.315068</td>\n",
       "      <td>0.200000</td>\n",
       "      <td>12.814093</td>\n",
       "      <td>1.230101</td>\n",
       "      <td>115.34654</td>\n",
       "      <td>1.844255</td>\n",
       "      <td>0.006316</td>\n",
       "    </tr>\n",
       "    <tr>\n",
       "      <th>3</th>\n",
       "      <td>2002-08-31</td>\n",
       "      <td>97686</td>\n",
       "      <td>013104AE4</td>\n",
       "      <td>215000.0</td>\n",
       "      <td>93.0</td>\n",
       "      <td>ALBERTSONS INC</td>\n",
       "      <td>2009-08-01</td>\n",
       "      <td>350000.0</td>\n",
       "      <td>2.0</td>\n",
       "      <td>013104AE4</td>\n",
       "      <td>...</td>\n",
       "      <td>BBB+</td>\n",
       "      <td>Baa1</td>\n",
       "      <td>350000.0</td>\n",
       "      <td>6.936986</td>\n",
       "      <td>3.098630</td>\n",
       "      <td>5.601379</td>\n",
       "      <td>5.647303</td>\n",
       "      <td>119.27208</td>\n",
       "      <td>3.834566</td>\n",
       "      <td>-0.001913</td>\n",
       "    </tr>\n",
       "    <tr>\n",
       "      <th>4</th>\n",
       "      <td>2002-08-31</td>\n",
       "      <td>102864</td>\n",
       "      <td>029050AB7</td>\n",
       "      <td>2000000.0</td>\n",
       "      <td>33708.0</td>\n",
       "      <td>AMERICAN PLUMBING &amp; MECHANICAL</td>\n",
       "      <td>2008-10-15</td>\n",
       "      <td>125000.0</td>\n",
       "      <td>2.0</td>\n",
       "      <td>029050AB7</td>\n",
       "      <td>...</td>\n",
       "      <td>B-</td>\n",
       "      <td>B3</td>\n",
       "      <td>125000.0</td>\n",
       "      <td>6.142466</td>\n",
       "      <td>2.734246</td>\n",
       "      <td>29.812586</td>\n",
       "      <td>3.527641</td>\n",
       "      <td>148.25096</td>\n",
       "      <td>3.569999</td>\n",
       "      <td>0.012265</td>\n",
       "    </tr>\n",
       "  </tbody>\n",
       "</table>\n",
       "<p>5 rows × 22 columns</p>\n",
       "</div>"
      ],
      "text/plain": [
       "         date  issue_id   cusip_id     volume  issuer_id  \\\n",
       "0  2002-08-31     98694  010392DN5    25000.0       86.0   \n",
       "1  2002-08-31     99961  010392DP0    15000.0       86.0   \n",
       "2  2002-08-31    144179  00079FAW2    20000.0    37284.0   \n",
       "3  2002-08-31     97686  013104AE4   215000.0       93.0   \n",
       "4  2002-08-31    102864  029050AB7  2000000.0    33708.0   \n",
       "\n",
       "           prospectus_issuer_name    maturity  offering_amt  \\\n",
       "0                  ALABAMA PWR CO  2004-08-15      250000.0   \n",
       "1                  ALABAMA PWR CO  2007-10-01      200000.0   \n",
       "2                 ABN AMRO BK N V  2003-12-19        4500.0   \n",
       "3                  ALBERTSONS INC  2009-08-01      350000.0   \n",
       "4  AMERICAN PLUMBING & MECHANICAL  2008-10-15      125000.0   \n",
       "\n",
       "   interest_frequency      cusip  ...  rating_spr  rating_mdy  \\\n",
       "0                 2.0  010392DN5  ...           A          A2   \n",
       "1                 2.0  010392DP0  ...           A          A2   \n",
       "2                 2.0  00079FAW2  ...          AA         Aa2   \n",
       "3                 2.0  013104AE4  ...        BBB+        Baa1   \n",
       "4                 2.0  029050AB7  ...          B-          B3   \n",
       "\n",
       "  amount_outstanding       tau       age        ytm  duration  tr_dirty_price  \\\n",
       "0           250000.0  1.972603  3.038356   3.672086  1.872172       109.77133   \n",
       "1           200000.0  5.101370  2.931507   4.540522  4.299664       120.46437   \n",
       "2             4500.0  1.315068  0.200000  12.814093  1.230101       115.34654   \n",
       "3           350000.0  6.936986  3.098630   5.601379  5.647303       119.27208   \n",
       "4           125000.0  6.142466  2.734246  29.812586  3.527641       148.25096   \n",
       "\n",
       "     tr_ytm    return  \n",
       "0  2.142072 -0.024568  \n",
       "1  3.339660  0.013677  \n",
       "2  1.844255  0.006316  \n",
       "3  3.834566 -0.001913  \n",
       "4  3.569999  0.012265  \n",
       "\n",
       "[5 rows x 22 columns]"
      ]
     },
     "execution_count": 3,
     "metadata": {},
     "output_type": "execute_result"
    }
   ],
   "source": [
    "data.head()"
   ]
  },
  {
   "cell_type": "markdown",
   "id": "83eebcf7-fad5-49fd-a412-67caea7ec05a",
   "metadata": {
    "jp-MarkdownHeadingCollapsed": true,
    "tags": []
   },
   "source": [
    "## Summary Stats"
   ]
  },
  {
   "cell_type": "code",
   "execution_count": 4,
   "id": "b5c30698-c805-4ac9-90b5-a3f2b1724cfb",
   "metadata": {},
   "outputs": [],
   "source": [
    "# Chronological order, indexes by month-bond\n",
    "data = data.sort_values(by=['date', 'issue_id'])\n",
    "data = data.set_index(['date', 'issue_id'])"
   ]
  },
  {
   "cell_type": "code",
   "execution_count": 5,
   "id": "e2152861-d5c0-42ae-9fb7-1682bb20ee52",
   "metadata": {},
   "outputs": [
    {
     "name": "stdout",
     "output_type": "stream",
     "text": [
      "There are 234  unique months in the panel\n"
     ]
    }
   ],
   "source": [
    "print('There are', len(data.index.get_level_values(0).unique()), ' unique months in the panel')"
   ]
  },
  {
   "cell_type": "code",
   "execution_count": 6,
   "id": "f4eb974b-34d9-4020-9e18-29092add2001",
   "metadata": {},
   "outputs": [],
   "source": [
    "bond_count = {}\n",
    "for month in data.index.get_level_values(0).unique():\n",
    "    bond_count[month] = len(data.loc[month])\n",
    "\n",
    "bonds = pd.DataFrame.from_dict(bond_count, orient='index', columns=['Bond Count'])"
   ]
  },
  {
   "cell_type": "code",
   "execution_count": 7,
   "id": "601ada96-186a-47fa-82a6-8fc310996cfb",
   "metadata": {},
   "outputs": [
    {
     "name": "stdout",
     "output_type": "stream",
     "text": [
      "There are on average  373  bonds in each monthly cross-section, with as few as  190.0  and as many as  594.0\n"
     ]
    }
   ],
   "source": [
    "print('There are on average ', bonds.describe().loc['mean'][0].astype(int), \n",
    "      ' bonds in each monthly cross-section, with as few as ', bonds.describe().loc['min'][0], \n",
    "      ' and as many as ', bonds.describe().loc['max'][0])"
   ]
  },
  {
   "cell_type": "markdown",
   "id": "049c5d4d-a087-42d7-85a7-2a062d0f33b1",
   "metadata": {
    "jp-MarkdownHeadingCollapsed": true,
    "tags": []
   },
   "source": [
    "## Outcome-Predictor Organization"
   ]
  },
  {
   "cell_type": "markdown",
   "id": "a92c1e12-0861-4ab8-8b76-3cd81e73bf24",
   "metadata": {},
   "source": [
    "Since predictors and outcomes are both returns, the notation will follow from MZ, where predictors will be denoted as R(k,1) (ie. the historical 1 month return for month k), while the outcome will be denoted as r(k,t) (ie. the t-month cummulative return of holding the bond k months ahead). As mentioned previously, the main outcomes will be {r(1,1),...,r(12,1)} ~~as well as {r(1,3),r(1,12)}.~~"
   ]
  },
  {
   "cell_type": "code",
   "execution_count": 8,
   "id": "d7dd6fe4-976b-4b73-9902-7a02d70a1056",
   "metadata": {},
   "outputs": [],
   "source": [
    "df = data.copy().reset_index()"
   ]
  },
  {
   "cell_type": "code",
   "execution_count": 9,
   "id": "1ab0617f-fbc5-4028-b6b7-321ab91a967c",
   "metadata": {},
   "outputs": [],
   "source": [
    "# Risk-free rate\n",
    "crsp_data = pd.read_csv(\"crsp_data.csv\", index_col='MthCalDt', parse_dates=True)\n",
    "crsp_data = crsp_data.pivot(columns=\"IndNm\", values='COL1')\n",
    "crsp_data.index = crsp_data.index + pd.tseries.offsets.MonthEnd(0)\n",
    "crsp_data.columns = ['20y_return', 'rf', '30y_return', '90day', 'mkt']\n",
    "crsp_data.index.name = 'Date'\n",
    "\n",
    "risk_free = crsp_data['rf'].loc[data.index[0][0]:data.index[-1][0]]"
   ]
  },
  {
   "cell_type": "code",
   "execution_count": 10,
   "id": "1dc8aefc-6911-4ec6-ab55-baeab5b88d3d",
   "metadata": {},
   "outputs": [],
   "source": [
    "# Excess Returns\n",
    "df['excess_return'] = df['return'] - df.groupby('date')['date'].transform(lambda x: risk_free.loc[x.iloc[0]])\n",
    "df = df.set_index(['date', 'issue_id'])"
   ]
  },
  {
   "cell_type": "code",
   "execution_count": 11,
   "id": "b33f6ce3-f081-455a-b314-39bdecd79f38",
   "metadata": {},
   "outputs": [],
   "source": [
    "# Predictors: Past 1-month Returns\n",
    "for i in range(24):\n",
    "    df['R('+str(i)+',1)'] = df.groupby(level=1)['excess_return'].shift(i+1)"
   ]
  },
  {
   "cell_type": "code",
   "execution_count": 12,
   "id": "5a943ed3-6ece-4576-9a4e-0755f4715321",
   "metadata": {},
   "outputs": [],
   "source": [
    "# Outcomes:\n",
    "# 12 months of 1-month returns\n",
    "for i in range(12):\n",
    "    df['r('+str(i+1)+',1)'] = df.groupby(level=1)['excess_return'].shift(-(i+1))"
   ]
  },
  {
   "cell_type": "code",
   "execution_count": 13,
   "id": "53f66422-a44b-43f1-862b-382aec5a24fa",
   "metadata": {},
   "outputs": [],
   "source": [
    "# df.to_csv('model_data.csv')"
   ]
  },
  {
   "cell_type": "markdown",
   "id": "80cd09a5-b4d3-4bb5-8c75-40a27a971fea",
   "metadata": {},
   "source": [
    "## Model Estimation"
   ]
  },
  {
   "cell_type": "markdown",
   "id": "c3403597-5147-47ea-a6c4-adc42bae47c6",
   "metadata": {},
   "source": [
    "Several models can be implemented. \n",
    "\n",
    "1) OLS\n",
    "- All 24 past returns can be used as predictors\n",
    "\n",
    "~~2) Regularization~~\n",
    "- ~~Same predictors as OLS, but can include all combinations of 2 or 3 way interactions~~\n",
    "- ~~LASSO seems like an obvious candidate~~\n",
    "\n",
    "3) Regression Tree\n",
    "- Can be used to demonstrate the underlying mechanics and interpretation\n",
    "- Will likely overfit, but still worthwhile to implement\n",
    "\n",
    "4) Random Forest\n",
    "- Follows from MZ\n",
    "\n",
    "5) XGBoost\n",
    "6) Neural Network???"
   ]
  },
  {
   "cell_type": "markdown",
   "id": "341b6fb5-4607-46bf-bc6b-fdc1e5a55fc0",
   "metadata": {
    "tags": []
   },
   "source": [
    "Regardless of which model is implemented, the out-of-sample procedure is identical. Specifically, the out-of-sample procedure is equivalent to a rolling train-test split which would be akin to what a researcher would implement in real time. \n",
    "\n",
    "MZ don't explicitly use cross-validation to tune hyperparameters, noting \"we construct 200 tree-based conditional portfolio sorts and we use 8 out of 25 regressors in each of them. We have tried other values for the [hyperparameters] but have found that results do not vary much with these choices. We settled on the share of 30 percent of regressors because it is a standard \n",
    "recommendation in the random forest literature, and we chose B = 200 because higher values did not have any apparent benefit for the estimation but are more costly in terms of computation.\"\n",
    "\n",
    "The out-of-sample procedure is as follows:\n",
    "1) Estimate the model using data from the past 5 years (60 months)\n",
    "2) Predict returns for the next 12 months\n",
    "3) Based on the predictions, for each month, sort bonds into ~~deciles~~ quintiles, and go long the top ~~decile~~ and short the bottom ~~decile~~ quintiles\n",
    "4) The trading strategy rebalances monthly based on the rankings from the previous step\n",
    "5) After 1 year, the model is re-estimated and the process repeats\n",
    "\n",
    "An alternative strategy, which would reduce monthly turnover, could re-rank bonds based on their average decile over the next 12 months, and then go long/short the top/bottom decile of the second-order sorting. The long/short would be held for the next 12 months, and the strategy would be rebalanced annually. \n",
    "\n",
    "Note: Quintiles are used due to the limited sample in each cross-section."
   ]
  },
  {
   "cell_type": "code",
   "execution_count": 2,
   "id": "7f3c3bc2-53f3-4a61-83bc-165f7b093973",
   "metadata": {},
   "outputs": [],
   "source": [
    "# Models\n",
    "from statsmodels.api import OLS\n",
    "from sklearn.tree import DecisionTreeRegressor as tree\n",
    "from sklearn.ensemble import RandomForestRegressor as forest\n",
    "from sklearn.neural_network import MLPRegressor as neural_net\n",
    "from xgboost import XGBRegressor as xgboost\n",
    "from sklearn.tree import DecisionTreeRegressor, plot_tree, export_graphviz, export_text"
   ]
  },
  {
   "cell_type": "code",
   "execution_count": 3,
   "id": "11289cdb-b78b-4f9b-9b4b-b6c4a3cc5c4a",
   "metadata": {},
   "outputs": [],
   "source": [
    "df = pd.read_csv('model_data.csv').sort_values(by=['date', 'issue_id']).set_index(['date', 'issue_id'])"
   ]
  },
  {
   "cell_type": "code",
   "execution_count": 4,
   "id": "15e9a776-36cb-4216-86cb-25e736feb2bc",
   "metadata": {},
   "outputs": [],
   "source": [
    "model_data = df.loc[\"2004-7\":].dropna()"
   ]
  },
  {
   "cell_type": "code",
   "execution_count": 5,
   "id": "2b8be8df-6f7b-4404-b546-3fe222bb5e8a",
   "metadata": {},
   "outputs": [],
   "source": [
    "X = model_data.loc[:,'R(0,1)':'R(23,1)']\n",
    "Y = model_data.loc[:,'r(1,1)':'r(12,1)']"
   ]
  },
  {
   "cell_type": "code",
   "execution_count": 6,
   "id": "e4fe939a-4249-4e96-8eee-c9865a7eaa7a",
   "metadata": {},
   "outputs": [
    {
     "data": {
      "text/plain": [
       "<AxesSubplot:ylabel='Frequency'>"
      ]
     },
     "execution_count": 6,
     "metadata": {},
     "output_type": "execute_result"
    },
    {
     "data": {
      "image/png": "[encoded data removed]",
      "text/plain": [
       "<Figure size 432x288 with 1 Axes>"
      ]
     },
     "metadata": {
      "needs_background": "light"
     },
     "output_type": "display_data"
    }
   ],
   "source": [
    "X['R(0,1)'].plot.hist(bins=100, range=[-0.2,0.2])"
   ]
  },
  {
   "cell_type": "code",
   "execution_count": 7,
   "id": "3bfb0076-91fe-4ab0-8e6b-d8db7846fb7a",
   "metadata": {},
   "outputs": [],
   "source": [
    "# Standardizes the data\n",
    "from sklearn.preprocessing import StandardScaler\n",
    "\n",
    "scaler = StandardScaler()\n",
    "scaled_X = scaler.fit_transform(X)\n",
    "\n",
    "X_scaled = pd.DataFrame(scaled_X, columns=X.columns, index=X.index)"
   ]
  },
  {
   "cell_type": "code",
   "execution_count": 8,
   "id": "995c93bc-60df-4d3a-b442-796dd8c950bd",
   "metadata": {},
   "outputs": [],
   "source": [
    "# Handles missing data (???)"
   ]
  },
  {
   "cell_type": "code",
   "execution_count": 9,
   "id": "846da8e3-956c-46ef-80f0-e5efb8034352",
   "metadata": {},
   "outputs": [],
   "source": [
    "def model_est(model_name,y,x,start):\n",
    "    '''\n",
    "    Function to train a model on the data. Outputs predicted values. \n",
    "    'start' should be incremented by 12 for the model to be re-estimated every 12 months.\n",
    "    'model_name' should be 'ols', 'tree', 'forest', 'neural_net', 'xgboost'.\n",
    "    '''\n",
    "    Y = y.loc[y.index.levels[0][30:].values[start:start+60]]\n",
    "    X = x.loc[x.index.levels[0][30:].values[start:start+60]]\n",
    "    \n",
    "    # Estimates the model\n",
    "    if model_name=='ols':\n",
    "        model = OLS(Y,X).fit()\n",
    "    \n",
    "    if model_name=='tree':\n",
    "        model = tree(splitter='best', max_depth=100, random_state=1).fit(X,Y)\n",
    "    \n",
    "    if model_name=='forest':\n",
    "        model = forest(n_estimators=200, max_depth=25, max_features=8, random_state=1).fit(X,Y) # based on MZ\n",
    "    \n",
    "    if model_name=='neural_net':\n",
    "        model = neural_net(hidden_layer_sizes=(24, 12, 6), activation='relu', \n",
    "                           solver='sgd', random_state=1).fit(X,Y) # 3 hidden layers with neurons as per Gu, Kelly, Xiu (2019)\n",
    "    \n",
    "    if model_name=='xgboost':\n",
    "        model = xgboost(n_estimators=200, max_depth=5, subsample=0.8, random_state=1).fit(X,Y) # similar parameters to forest\n",
    "\n",
    "\n",
    "    # Optimized Models\n",
    "    if model_name=='tree_optimal':\n",
    "        model = tree(splitter='best', max_depth=25, random_state=1).fit(X,Y)\n",
    "    \n",
    "    if model_name=='forest_optimal':\n",
    "        model = forest(n_estimators=150, max_depth=15, max_features=2, min_samples_leaf=15, random_state=1).fit(X,Y) # based on MZ\n",
    "    \n",
    "    if model_name=='neural_net_optimal':\n",
    "        model = neural_net(hidden_layer_sizes=(24, 12, 6), activation='relu', \n",
    "                           solver='sgd', alpha=0.1, random_state=1).fit(X,Y)\n",
    "    \n",
    "    if model_name=='xgboost_optimal':\n",
    "        model = xgboost(n_estimators=150, max_depth=15, subsample=0.65, random_state=1).fit(X,Y) # similar parameters to forest\n",
    "   \n",
    "\n",
    "    # Model output\n",
    "    Y_hat = model.predict(x.loc[x.index.levels[0][30:].values[start+60]]) # next month\n",
    "    Y_true = y.loc[y.index.levels[0][30:].values[start+60]]\n",
    "    \n",
    "    if model_name=='ols':\n",
    "        Y_hat.columns = Y.columns\n",
    "\n",
    "    else:\n",
    "        Y_hat = pd.DataFrame(Y_hat, columns=Y.columns, index=x.loc[x.index.levels[0][30:].values[start+60]].index)\n",
    "    \n",
    "    index = y.index.levels[0][30:][start+60:start+60+12]\n",
    "    \n",
    "    return (Y_hat, Y_true, index)"
   ]
  },
  {
   "cell_type": "code",
   "execution_count": 10,
   "id": "7cf6f432-078e-492a-a538-b14ce814643f",
   "metadata": {},
   "outputs": [],
   "source": [
    "def index_forecast(y, y_hat, index, start):\n",
    "    '''\n",
    "    Function to multi-index a cross-section with the respective starting year.\n",
    "    '''\n",
    "    y_hat['date'] = index[0]\n",
    "    y_hat = y_hat.reset_index().set_index(['date', 'issue_id'])\n",
    "    \n",
    "    return y_hat"
   ]
  },
  {
   "cell_type": "code",
   "execution_count": 11,
   "id": "2e4f1e1e-1bf1-4c4a-919b-6169fc23303d",
   "metadata": {
    "tags": []
   },
   "outputs": [],
   "source": [
    "def compute_deciles(df):\n",
    "    '''\n",
    "    Computes deciles of each column.\n",
    "    '''\n",
    "    deciles = df.apply(lambda x: pd.qcut(x, 5, labels=False, duplicates='drop'), axis=0)\n",
    "    deciles.columns = df.columns+'_decile'\n",
    "    \n",
    "    return deciles"
   ]
  },
  {
   "cell_type": "code",
   "execution_count": 12,
   "id": "61641bc5-3aff-4259-85ea-ba995aa579ba",
   "metadata": {},
   "outputs": [],
   "source": [
    "def value_weight(df, group, value, weight):\n",
    "    '''\n",
    "    Function to take the value-weighted average return for a particular decile.\n",
    "    '''\n",
    "    \n",
    "    group_sum = (df[value] * df[weight]).groupby(df[group]).sum()\n",
    "    group_weight = df[weight].groupby(df[group]).sum()\n",
    "    \n",
    "    group_weighted_avg = group_sum / group_weight\n",
    "    \n",
    "    return group_weighted_avg"
   ]
  },
  {
   "cell_type": "code",
   "execution_count": 13,
   "id": "aa4974cc-37fe-4f50-a635-e4611bcbd6b3",
   "metadata": {},
   "outputs": [],
   "source": [
    "def amt_out(y_hat, index):\n",
    "    '''\n",
    "    Function to organize the amount-outstanding for the purposes of value-weighting the return.\n",
    "    It takes in the index corresponding to the forecast period. \n",
    "    '''\n",
    "    \n",
    "    # Subsets the amount outstanding, and converts index from dates to t+k ahead return\n",
    "    amt = model_data[\"amount_outstanding\"].loc[index]\n",
    "    index_return = pd.DataFrame(y_hat.columns, index=index, columns=['return'])\n",
    "    amt = amt.reset_index().merge(index_return, on='date').set_index(['return','issue_id']).drop('date', axis=1)\n",
    "    \n",
    "    # Gets the first value\n",
    "    amt = amt.unstack(-1).bfill().ffill()\n",
    "    amt = amt.iloc[0].to_frame()\n",
    "    amt = amt.reset_index().set_index('issue_id').drop('level_0', axis=1)\n",
    "    amt.columns = ['amt_out']\n",
    "\n",
    "    return amt"
   ]
  },
  {
   "cell_type": "code",
   "execution_count": 14,
   "id": "18a11f8c-cff5-4164-b02d-366ace505ff7",
   "metadata": {},
   "outputs": [],
   "source": [
    "def trading_strategy(y_hat, y_true, index, weight='value'):\n",
    "    '''\n",
    "    Function to output results of the trading strategy.\n",
    "    The inputs are the results from the model: the fitted values and the true values\n",
    "    '''\n",
    "    # Computes return deciles based on fitted values\n",
    "    deciles = compute_deciles(y_hat)\n",
    "    \n",
    "    # Merges deciles with actual values\n",
    "    y_deciles = pd.concat([y_true, deciles], axis=1)\n",
    "    y_deciles = pd.merge(y_deciles, amt_out(y_hat, index), how=\"left\", on=\"issue_id\")\n",
    "\n",
    "    # Portfolio Formation\n",
    "    columns = y_deciles.columns[:12]\n",
    "    month_ahead_return_ew = []\n",
    "    month_ahead_return_vw = []\n",
    "    \n",
    "    if weight == 'equal':\n",
    "        # Equal-weighted average\n",
    "        for column in columns:\n",
    "            month_ahead_return_ew.append(y_deciles.groupby(column+'_decile')[column].mean())\n",
    "        \n",
    "        decile_portfolios = pd.concat(month_ahead_return_ew, axis=1)\n",
    "            \n",
    "    else:\n",
    "    # Value-weighted average\n",
    "        for column in columns:\n",
    "            gwa = value_weight(y_deciles, (column+'_decile'), column, \"amt_out\")\n",
    "            month_ahead_return_vw.append(gwa)\n",
    "        decile_portfolios = pd.concat(month_ahead_return_vw, axis=1)\n",
    "\n",
    "    decile_portfolios.index.names = ['decile']\n",
    "    \n",
    "    strategy_return = decile_portfolios.T[4] - decile_portfolios.T[0]\n",
    "    strategy_return.index = index\n",
    "    \n",
    "    return strategy_return"
   ]
  },
  {
   "cell_type": "code",
   "execution_count": 15,
   "id": "b8085f96-daee-4f04-be3b-11c344d21366",
   "metadata": {},
   "outputs": [],
   "source": [
    "def out_of_sample_procedure(model_name,y,x):\n",
    "    '''\n",
    "    Function to run the rolling annual model training and forecasting.\n",
    "    Outputs the trading strategy return as well as the fitted values for each both for each month.\n",
    "    'model_name' should be 'ols', 'tree', 'forest', 'neural_net', 'xgboost'.\n",
    "    '''\n",
    "    strat_returns = []\n",
    "    actual_y = []\n",
    "    forecast_y = []\n",
    "    \n",
    "    for step in np.arange(0,len(X.index.levels[0][30:].unique()),12)[:11]:\n",
    "        y_hat, y_true, index = model_est(model_name, y, x, step)\n",
    "        model = trading_strategy(y_hat, y_true, index)\n",
    "        \n",
    "        strat_returns.append(model)\n",
    "        actual_y.append(index_forecast(y, y_true, index, step))\n",
    "        forecast_y.append(index_forecast(y, y_hat, index, step))\n",
    "        \n",
    "    strat_returns_df = pd.concat(strat_returns)\n",
    "    actual_y_df= pd.concat(actual_y)\n",
    "    forecast_y_df = pd.concat(forecast_y)\n",
    "    \n",
    "    return (strat_returns_df, actual_y_df, forecast_y_df)"
   ]
  },
  {
   "cell_type": "code",
   "execution_count": 16,
   "id": "1be02e72-962c-4abe-89b1-bf22eae454dd",
   "metadata": {},
   "outputs": [],
   "source": [
    "from sklearn.metrics import r2_score as R2\n",
    "\n",
    "def results(model):\n",
    "    '''\n",
    "    Function to output R-Squared and cummulative strategy return plot.\n",
    "    '''\n",
    "    returns, y_true, y_hat = out_of_sample_procedure(model,Y,X)\n",
    "    returns1, y_true1, y_hat1 = out_of_sample_procedure(model+'_optimal',Y,X)\n",
    "    \n",
    "    rets = pd.concat([returns,returns1], axis=1)\n",
    "    rets.columns = ['Default','Optimal']\n",
    "    (1+rets).cumprod().plot()\n",
    "    print('Default R2: ', R2(y_true,y_hat), 'Optimal R2: ', R2(y_true,y_hat1))"
   ]
  },
  {
   "cell_type": "code",
   "execution_count": 105,
   "id": "c586e331-8410-4516-87ce-52356016bd70",
   "metadata": {},
   "outputs": [
    {
     "name": "stdout",
     "output_type": "stream",
     "text": [
      "-0.07181073108448154\n"
     ]
    },
    {
     "data": {
      "image/png": "[encoded data removed]",
      "text/plain": [
       "<Figure size 576x396 with 1 Axes>"
      ]
     },
     "metadata": {},
     "output_type": "display_data"
    }
   ],
   "source": [
    "returns, y_true, y_hat = out_of_sample_procedure('ols',Y,X)\n",
    "(1+returns).cumprod().plot()\n",
    "print(R2(y_true,y_hat))"
   ]
  },
  {
   "cell_type": "code",
   "execution_count": 20,
   "id": "75dec70a-d31b-4f5a-8533-94eef7e936b9",
   "metadata": {},
   "outputs": [
    {
     "name": "stdout",
     "output_type": "stream",
     "text": [
      "Default R2:  -1.0559267801502261 Optimal R2:  -0.8051611665688041\n"
     ]
    },
    {
     "data": {
      "image/png": "[encoded data removed]",
      "text/plain": [
       "<Figure size 432x288 with 1 Axes>"
      ]
     },
     "metadata": {
      "needs_background": "light"
     },
     "output_type": "display_data"
    }
   ],
   "source": [
    "results('tree')"
   ]
  },
  {
   "cell_type": "code",
   "execution_count": 17,
   "id": "62dbbf57-3548-44bc-a606-07c667f3a18f",
   "metadata": {},
   "outputs": [],
   "source": [
    "results('forest')"
   ]
  },
  {
   "cell_type": "code",
   "execution_count": null,
   "id": "a2651edf-38db-4577-a2bf-42a5e1017cd1",
   "metadata": {},
   "outputs": [],
   "source": [
    "results('neural_net')"
   ]
  },
  {
   "cell_type": "code",
   "execution_count": null,
   "id": "66e014ae-58a0-435b-9cea-bc3985bd2842",
   "metadata": {},
   "outputs": [],
   "source": [
    "results('xgboost')"
   ]
  },
  {
   "cell_type": "code",
   "execution_count": 73,
   "id": "2e3ea9f0-6834-44b5-91db-55e59d96a377",
   "metadata": {},
   "outputs": [],
   "source": [
    "# # OLS Model Detailed Output\n",
    "# from linearmodels.system.model import SUR\n",
    "# model = SUR.multivariate_ls(Y, X).fit(cov_type='kernel', kernel='bartlett')\n",
    "# print(model)"
   ]
  },
  {
   "cell_type": "markdown",
   "id": "36617340-9608-43cd-8aa9-7da6e3301e82",
   "metadata": {
    "jp-MarkdownHeadingCollapsed": true,
    "tags": []
   },
   "source": [
    "## Hyperparameter Tuning: Cross-Validation & GridSearch"
   ]
  },
  {
   "cell_type": "markdown",
   "id": "11e19c06-f4ef-4a36-b8bf-39d8c15acaf4",
   "metadata": {},
   "source": [
    "Since we are working with unbalanced panel data, that is for every month we have a cross-section of bonds (which potentially differ each month), sklearn does not have a built-in cross-validation splitter which is appropriate for this type of data. Hence it is crucial to create a cross-validation splitter object which adheres to the principal of a time-series splitter (ie. not train on future data), while also being mindful of the cross-sectional dimension.\n",
    "\n",
    "More generally with respect to cross-validation, the models and forecasts are computed on a rolling basis; this is akin to a rolling time-series cross-validation. The model is re-estimated every year, with data from the past 5 years. So it makes sense to incorporate a 5 fold time-series split; train on 1 year, validate on 1 (then train on 2, validate on the next etc). However this is computationally cumbersome since it would require grid searching 17 times (ie. every time a model is estimated). In particular due to the rolling nature, only 20% of the sample (ie. 1/5 years) will be \"new\" data, so potentially there will be similarity in the optimal hyperparameters across models. \n",
    "\n",
    "Therefore a sensible hyperparameter tuning strategy would be to initially tune the model, and keep those same hyperparameter estimates the same for the remainder of the sample. Another strategy would be to tune the model every 5 years, so that the cross-validation data is always fresh."
   ]
  },
  {
   "cell_type": "code",
   "execution_count": 27,
   "id": "1d61d789-dadd-4d93-ba6b-01c8e6efab62",
   "metadata": {},
   "outputs": [],
   "source": [
    "def cv_splitter(df):\n",
    "    train = df.sort_values(by='date', ascending=True).reset_index()    \n",
    "\n",
    "    month_index = []\n",
    "    for month in train['date'].unique(): \n",
    "        month_index.append(train[train['date'] == month].shape[0])\n",
    "    month_index = pd.DataFrame(month_index, index=train['date'].unique(), columns=['month_index'])\n",
    "    month_index = month_index.cumsum()\n",
    "\n",
    "    return [[list(range(0,month_index.iloc[i][0])), \n",
    "                        list(range(month_index.iloc[i][0],month_index.iloc[i+2][0]))] \n",
    "                           for i in np.arange(12,60,12)]"
   ]
  },
  {
   "cell_type": "code",
   "execution_count": 28,
   "id": "7e9e8c7e-9090-465c-8582-e671fc664e5b",
   "metadata": {},
   "outputs": [],
   "source": [
    "# split = cv_splitter(X)"
   ]
  },
  {
   "cell_type": "code",
   "execution_count": 29,
   "id": "73c2fca8-e131-4278-a869-296c90f15943",
   "metadata": {},
   "outputs": [],
   "source": [
    "# split[0][0]\n",
    "# split[0][1]"
   ]
  },
  {
   "cell_type": "markdown",
   "id": "255122c6-2f72-4770-9137-1c8cd1add367",
   "metadata": {},
   "source": [
    "Grid search below was non-exhaustive, but combinations were iterating manually."
   ]
  },
  {
   "cell_type": "code",
   "execution_count": 51,
   "id": "8a6d499a-bac5-459e-a760-0c2a5a367b59",
   "metadata": {},
   "outputs": [],
   "source": [
    "from sklearn.model_selection import GridSearchCV\n",
    "\n",
    "def param_tune(model):\n",
    "    '''\n",
    "    Function to tune the hyperparameters for the first 5 years of the sample.\n",
    "    Uses a panel-based cross-validation splitter and grid-search over main hyperparamters\n",
    "    '''\n",
    "    \n",
    "    # Model Parameters\n",
    "    tree_params = {\"max_depth\":list(range(1,20)), \"min_samples_leaf\":list(range(1,20))}\n",
    "    \n",
    "    forest_params = {'n_estimators':[150,200,250], \"max_depth\":[15,20,25], 'max_features':[2,4,6,8], 'min_samples_leaf':[10,15,20,25]}\n",
    "    \n",
    "    hidden_layers = [(24,), (24,24), (24,12), (24,12,6), (24,12,12), (12,12,12), (24,24,24),\n",
    "                     (48,), (48,48), (48,24), (48,24,12), (48,24,24), (48,48,48),\n",
    "                     (96,), (96,96), (96,48), (96,48,24), (96,48,48), (96,96,96), (96,48,24,12), (96,48,24,12,6)]\n",
    "    neural_net_params = {'hidden_layer_sizes':hidden_layers, 'alpha':[0.1, 0.01, 0.001, 0.0001, 0.00001]}\n",
    "\n",
    "    xgboost_params = {'n_estimators':[150,200,250], 'max_depth':[15,20,25], 'subsample':[0.5,0.65,0.8]}\n",
    "\n",
    "    # Models\n",
    "    models = {'tree': {tree(splitter='best', random_state=1): tree_params},\n",
    "              'forest': {forest(random_state=1): forest_params}, \n",
    "              'neural_net': {neural_net(activation='relu', solver='sgd', learning_rate='adaptive', random_state=1): neural_net_params}, \n",
    "              'xgboost': {xgboost(random_state=1): xgboost_params}}\n",
    "    \n",
    "    # Performs cross-validation over grid of parameters\n",
    "    grid_search = GridSearchCV(list(models[model].keys())[0], \n",
    "                               list(models[model].values())[0], scoring='r2', cv=cv_splitter(X))\n",
    "    grid_search.fit(X,Y)\n",
    "\n",
    "    print('Best parameters:', grid_search.best_params_, \"Accuracy score: \", grid_search.best_score_)"
   ]
  },
  {
   "cell_type": "code",
   "execution_count": 37,
   "id": "92aeed75-4263-42d9-81d2-783b72d8f495",
   "metadata": {},
   "outputs": [
    {
     "name": "stdout",
     "output_type": "stream",
     "text": [
      "Best parameters: {'max_depth': 1, 'min_samples_leaf': 1} Accuracy score:  -0.14135730235689425\n",
      "CPU times: total: 46.6 s\n",
      "Wall time: 1min 18s\n"
     ]
    }
   ],
   "source": [
    "%%time\n",
    "param_tune('tree')"
   ]
  },
  {
   "cell_type": "markdown",
   "id": "646c5943-0ca8-4691-8766-a0cb08ba76c7",
   "metadata": {},
   "source": [
    "Optimal tree does not work ({'max_depth': 1, 'min_samples_leaf': 1})"
   ]
  },
  {
   "cell_type": "code",
   "execution_count": 47,
   "id": "96749c2d-fcbd-4390-afbc-cf4dbb5c241f",
   "metadata": {},
   "outputs": [
    {
     "name": "stdout",
     "output_type": "stream",
     "text": [
      "Best parameters: {'max_depth': 15, 'max_features': 2, 'min_samples_leaf': 15, 'n_estimators': 150} Accuracy score:  -0.10213417155979834\n",
      "CPU times: total: 9min 1s\n",
      "Wall time: 16min 21s\n"
     ]
    }
   ],
   "source": [
    "%%time\n",
    "param_tune('forest')"
   ]
  },
  {
   "cell_type": "markdown",
   "id": "ea7c06f9-d187-42c5-a5ad-0f0ca574864c",
   "metadata": {},
   "source": [
    "Seems like forest is not very sensitive to number of trees; 50 to 200 seem to have marginal difference in accuracy (band of sub-1%). Could be a result of other parameters not being in their optimal ranges."
   ]
  },
  {
   "cell_type": "code",
   "execution_count": 52,
   "id": "06121828-3ecc-4a46-b2bf-e6647c062826",
   "metadata": {},
   "outputs": [
    {
     "name": "stdout",
     "output_type": "stream",
     "text": [
      "Best parameters: {'alpha': 0.1, 'hidden_layer_sizes': (24, 12, 6)} Accuracy score:  -0.16421049053201417\n",
      "CPU times: total: 16 s\n",
      "Wall time: 5min 38s\n"
     ]
    }
   ],
   "source": [
    "%%time\n",
    "param_tune('neural_net')"
   ]
  },
  {
   "cell_type": "code",
   "execution_count": 53,
   "id": "96978707-f977-48df-bc4c-628e2d3eb8a9",
   "metadata": {},
   "outputs": [
    {
     "name": "stdout",
     "output_type": "stream",
     "text": [
      "Best parameters: {'max_depth': 15, 'n_estimators': 150, 'subsample': 0.65} Accuracy score:  -0.793539577918309\n",
      "CPU times: total: 2h 30min 45s\n",
      "Wall time: 10min 35s\n"
     ]
    }
   ],
   "source": [
    "%%time\n",
    "param_tune('xgboost')"
   ]
  },
  {
   "cell_type": "markdown",
   "id": "6b078ce5-d829-4b65-bc0a-e9da23f19c6e",
   "metadata": {},
   "source": [
    "XGBoost default values do better?"
   ]
  },
  {
   "cell_type": "markdown",
   "id": "9d52cf80-43c1-4333-b484-419b0ea0f9a8",
   "metadata": {},
   "source": [
    "## Results and Plots"
   ]
  },
  {
   "cell_type": "markdown",
   "id": "a798bfd9-e768-4921-b577-3059b1a3df4e",
   "metadata": {
    "jp-MarkdownHeadingCollapsed": true,
    "tags": []
   },
   "source": [
    "### Quasi-Classification Accuracy"
   ]
  },
  {
   "cell_type": "code",
   "execution_count": 19,
   "id": "6b054413-5ae4-4e93-87ec-112223bbda6f",
   "metadata": {},
   "outputs": [],
   "source": [
    "deciles_hat = compute_deciles(y_hat)\n",
    "deciles_true = compute_deciles(y_true)"
   ]
  },
  {
   "cell_type": "code",
   "execution_count": 21,
   "id": "bad5a2df-8b4b-4006-aac5-b65206a4a66b",
   "metadata": {},
   "outputs": [
    {
     "data": {
      "text/plain": [
       "Index(['r(1,1)_decile', 'r(2,1)_decile', 'r(3,1)_decile', 'r(4,1)_decile',\n",
       "       'r(5,1)_decile', 'r(6,1)_decile', 'r(7,1)_decile', 'r(8,1)_decile',\n",
       "       'r(9,1)_decile', 'r(10,1)_decile', 'r(11,1)_decile', 'r(12,1)_decile'],\n",
       "      dtype='object')"
      ]
     },
     "execution_count": 21,
     "metadata": {},
     "output_type": "execute_result"
    }
   ],
   "source": [
    "deciles_hat.columns"
   ]
  },
  {
   "cell_type": "code",
   "execution_count": 54,
   "id": "99a46961-20ef-4b73-a6f6-407ea15e5b3d",
   "metadata": {},
   "outputs": [],
   "source": [
    "from sklearn.metrics import classification_report as acc\n",
    "from sklearn.metrics import confusion_matrix as cfm"
   ]
  },
  {
   "cell_type": "code",
   "execution_count": 38,
   "id": "eeb1eaf6-d91b-45d9-98f0-59ae2882ae53",
   "metadata": {},
   "outputs": [],
   "source": [
    "accuracy = {}\n",
    "for col in deciles_hat.columns:\n",
    "    accuracy[col] = acc(deciles_true[col], deciles_hat[col])"
   ]
  },
  {
   "cell_type": "code",
   "execution_count": 43,
   "id": "c92ede44-9a35-4e2f-9749-3eb9ae81567d",
   "metadata": {},
   "outputs": [
    {
     "name": "stdout",
     "output_type": "stream",
     "text": [
      "              precision    recall  f1-score   support\n",
      "\n",
      "           0       0.36      0.36      0.36       483\n",
      "           1       0.19      0.19      0.19       483\n",
      "           2       0.34      0.34      0.34       483\n",
      "           3       0.18      0.18      0.18       483\n",
      "           4       0.24      0.24      0.24       483\n",
      "\n",
      "    accuracy                           0.26      2415\n",
      "   macro avg       0.26      0.26      0.26      2415\n",
      "weighted avg       0.26      0.26      0.26      2415\n",
      "\n"
     ]
    }
   ],
   "source": [
    "print(accuracy['r(1,1)_decile'])"
   ]
  },
  {
   "cell_type": "code",
   "execution_count": 55,
   "id": "4c8a1b05-6fc9-4eb2-9c23-11ebe4714aaa",
   "metadata": {},
   "outputs": [],
   "source": [
    "accuracy = {}\n",
    "for col in deciles_hat.columns:\n",
    "    accuracy[col] = cfm(deciles_true[col], deciles_hat[col])"
   ]
  },
  {
   "cell_type": "code",
   "execution_count": 57,
   "id": "2fba652c-3ee2-41f3-bf0b-7044e7d5b6e3",
   "metadata": {},
   "outputs": [
    {
     "data": {
      "text/plain": [
       "array([[173, 105,  72,  73,  60],\n",
       "       [ 57,  92, 130, 134,  70],\n",
       "       [ 34,  70, 165, 137,  77],\n",
       "       [ 59, 108,  70,  86, 160],\n",
       "       [160, 108,  46,  53, 116]], dtype=int64)"
      ]
     },
     "execution_count": 57,
     "metadata": {},
     "output_type": "execute_result"
    }
   ],
   "source": [
    "accuracy['r(1,1)_decile']"
   ]
  },
  {
   "cell_type": "code",
   "execution_count": 61,
   "id": "806ba9fa-6f43-49f1-8490-4134dcb6a0d9",
   "metadata": {},
   "outputs": [
    {
     "data": {
      "text/html": [
       "<div>\n",
       "<style scoped>\n",
       "    .dataframe tbody tr th:only-of-type {\n",
       "        vertical-align: middle;\n",
       "    }\n",
       "\n",
       "    .dataframe tbody tr th {\n",
       "        vertical-align: top;\n",
       "    }\n",
       "\n",
       "    .dataframe thead th {\n",
       "        text-align: right;\n",
       "    }\n",
       "</style>\n",
       "<table border=\"1\" class=\"dataframe\">\n",
       "  <thead>\n",
       "    <tr style=\"text-align: right;\">\n",
       "      <th></th>\n",
       "      <th></th>\n",
       "      <th>r(1,1)</th>\n",
       "      <th>r(2,1)</th>\n",
       "      <th>r(3,1)</th>\n",
       "      <th>r(4,1)</th>\n",
       "      <th>r(5,1)</th>\n",
       "      <th>r(6,1)</th>\n",
       "      <th>r(7,1)</th>\n",
       "      <th>r(8,1)</th>\n",
       "      <th>r(9,1)</th>\n",
       "      <th>r(10,1)</th>\n",
       "      <th>r(11,1)</th>\n",
       "      <th>r(12,1)</th>\n",
       "    </tr>\n",
       "    <tr>\n",
       "      <th>date</th>\n",
       "      <th>issue_id</th>\n",
       "      <th></th>\n",
       "      <th></th>\n",
       "      <th></th>\n",
       "      <th></th>\n",
       "      <th></th>\n",
       "      <th></th>\n",
       "      <th></th>\n",
       "      <th></th>\n",
       "      <th></th>\n",
       "      <th></th>\n",
       "      <th></th>\n",
       "      <th></th>\n",
       "    </tr>\n",
       "  </thead>\n",
       "  <tbody>\n",
       "    <tr>\n",
       "      <th rowspan=\"5\" valign=\"top\">2010-01-31</th>\n",
       "      <th>38</th>\n",
       "      <td>0.003667</td>\n",
       "      <td>-0.040628</td>\n",
       "      <td>0.007423</td>\n",
       "      <td>0.015629</td>\n",
       "      <td>0.011068</td>\n",
       "      <td>0.018122</td>\n",
       "      <td>-0.026722</td>\n",
       "      <td>0.002048</td>\n",
       "      <td>-0.005614</td>\n",
       "      <td>-0.024971</td>\n",
       "      <td>0.009731</td>\n",
       "      <td>-0.006034</td>\n",
       "    </tr>\n",
       "    <tr>\n",
       "      <th>49</th>\n",
       "      <td>0.008665</td>\n",
       "      <td>0.021510</td>\n",
       "      <td>-0.008683</td>\n",
       "      <td>0.003572</td>\n",
       "      <td>-0.029274</td>\n",
       "      <td>-0.000279</td>\n",
       "      <td>0.013290</td>\n",
       "      <td>0.025172</td>\n",
       "      <td>0.006480</td>\n",
       "      <td>-0.030356</td>\n",
       "      <td>0.021411</td>\n",
       "      <td>0.016172</td>\n",
       "    </tr>\n",
       "    <tr>\n",
       "      <th>173</th>\n",
       "      <td>0.003725</td>\n",
       "      <td>-0.033184</td>\n",
       "      <td>0.003793</td>\n",
       "      <td>0.008166</td>\n",
       "      <td>0.012982</td>\n",
       "      <td>0.002918</td>\n",
       "      <td>0.008098</td>\n",
       "      <td>-0.024918</td>\n",
       "      <td>0.002705</td>\n",
       "      <td>-0.002945</td>\n",
       "      <td>-0.005277</td>\n",
       "      <td>0.002197</td>\n",
       "    </tr>\n",
       "    <tr>\n",
       "      <th>175</th>\n",
       "      <td>-0.032220</td>\n",
       "      <td>-0.002318</td>\n",
       "      <td>0.011005</td>\n",
       "      <td>0.042970</td>\n",
       "      <td>0.034067</td>\n",
       "      <td>-0.000827</td>\n",
       "      <td>0.035087</td>\n",
       "      <td>-0.005642</td>\n",
       "      <td>-0.010702</td>\n",
       "      <td>-0.012216</td>\n",
       "      <td>-0.035535</td>\n",
       "      <td>-0.001246</td>\n",
       "    </tr>\n",
       "    <tr>\n",
       "      <th>433</th>\n",
       "      <td>0.002551</td>\n",
       "      <td>-0.005332</td>\n",
       "      <td>0.004778</td>\n",
       "      <td>0.006993</td>\n",
       "      <td>-0.019425</td>\n",
       "      <td>0.005479</td>\n",
       "      <td>0.003935</td>\n",
       "      <td>0.004604</td>\n",
       "      <td>-0.003640</td>\n",
       "      <td>-0.035567</td>\n",
       "      <td>0.001590</td>\n",
       "      <td>-0.000004</td>\n",
       "    </tr>\n",
       "    <tr>\n",
       "      <th>...</th>\n",
       "      <th>...</th>\n",
       "      <td>...</td>\n",
       "      <td>...</td>\n",
       "      <td>...</td>\n",
       "      <td>...</td>\n",
       "      <td>...</td>\n",
       "      <td>...</td>\n",
       "      <td>...</td>\n",
       "      <td>...</td>\n",
       "      <td>...</td>\n",
       "      <td>...</td>\n",
       "      <td>...</td>\n",
       "      <td>...</td>\n",
       "    </tr>\n",
       "    <tr>\n",
       "      <th rowspan=\"5\" valign=\"top\">2020-01-31</th>\n",
       "      <th>724575</th>\n",
       "      <td>0.077951</td>\n",
       "      <td>0.067481</td>\n",
       "      <td>0.026515</td>\n",
       "      <td>-0.049705</td>\n",
       "      <td>0.001424</td>\n",
       "      <td>0.045720</td>\n",
       "      <td>-0.032217</td>\n",
       "      <td>-0.007564</td>\n",
       "      <td>-0.039564</td>\n",
       "      <td>0.007712</td>\n",
       "      <td>-0.021459</td>\n",
       "      <td>-0.005029</td>\n",
       "    </tr>\n",
       "    <tr>\n",
       "      <th>727093</th>\n",
       "      <td>0.013674</td>\n",
       "      <td>0.015343</td>\n",
       "      <td>0.002434</td>\n",
       "      <td>0.002071</td>\n",
       "      <td>-0.012967</td>\n",
       "      <td>0.001653</td>\n",
       "      <td>-0.000679</td>\n",
       "      <td>0.000203</td>\n",
       "      <td>-0.000788</td>\n",
       "      <td>0.000464</td>\n",
       "      <td>-0.013070</td>\n",
       "      <td>0.000138</td>\n",
       "    </tr>\n",
       "    <tr>\n",
       "      <th>727095</th>\n",
       "      <td>0.031997</td>\n",
       "      <td>0.029139</td>\n",
       "      <td>0.006473</td>\n",
       "      <td>0.002591</td>\n",
       "      <td>0.001311</td>\n",
       "      <td>-0.007113</td>\n",
       "      <td>-0.007909</td>\n",
       "      <td>0.005113</td>\n",
       "      <td>-0.011547</td>\n",
       "      <td>0.002819</td>\n",
       "      <td>-0.000940</td>\n",
       "      <td>-0.022120</td>\n",
       "    </tr>\n",
       "    <tr>\n",
       "      <th>729007</th>\n",
       "      <td>0.020459</td>\n",
       "      <td>0.023321</td>\n",
       "      <td>0.003377</td>\n",
       "      <td>0.003323</td>\n",
       "      <td>-0.018944</td>\n",
       "      <td>0.004194</td>\n",
       "      <td>-0.002746</td>\n",
       "      <td>0.000965</td>\n",
       "      <td>-0.004629</td>\n",
       "      <td>0.001483</td>\n",
       "      <td>-0.019701</td>\n",
       "      <td>-0.002776</td>\n",
       "    </tr>\n",
       "    <tr>\n",
       "      <th>749578</th>\n",
       "      <td>0.029603</td>\n",
       "      <td>0.016129</td>\n",
       "      <td>0.004383</td>\n",
       "      <td>0.003665</td>\n",
       "      <td>0.001371</td>\n",
       "      <td>0.005576</td>\n",
       "      <td>-0.004261</td>\n",
       "      <td>-0.008720</td>\n",
       "      <td>-0.006955</td>\n",
       "      <td>0.002078</td>\n",
       "      <td>0.000058</td>\n",
       "      <td>-0.010196</td>\n",
       "    </tr>\n",
       "  </tbody>\n",
       "</table>\n",
       "<p>2415 rows × 12 columns</p>\n",
       "</div>"
      ],
      "text/plain": [
       "                       r(1,1)    r(2,1)    r(3,1)    r(4,1)    r(5,1)  \\\n",
       "date       issue_id                                                     \n",
       "2010-01-31 38        0.003667 -0.040628  0.007423  0.015629  0.011068   \n",
       "           49        0.008665  0.021510 -0.008683  0.003572 -0.029274   \n",
       "           173       0.003725 -0.033184  0.003793  0.008166  0.012982   \n",
       "           175      -0.032220 -0.002318  0.011005  0.042970  0.034067   \n",
       "           433       0.002551 -0.005332  0.004778  0.006993 -0.019425   \n",
       "...                       ...       ...       ...       ...       ...   \n",
       "2020-01-31 724575    0.077951  0.067481  0.026515 -0.049705  0.001424   \n",
       "           727093    0.013674  0.015343  0.002434  0.002071 -0.012967   \n",
       "           727095    0.031997  0.029139  0.006473  0.002591  0.001311   \n",
       "           729007    0.020459  0.023321  0.003377  0.003323 -0.018944   \n",
       "           749578    0.029603  0.016129  0.004383  0.003665  0.001371   \n",
       "\n",
       "                       r(6,1)    r(7,1)    r(8,1)    r(9,1)   r(10,1)  \\\n",
       "date       issue_id                                                     \n",
       "2010-01-31 38        0.018122 -0.026722  0.002048 -0.005614 -0.024971   \n",
       "           49       -0.000279  0.013290  0.025172  0.006480 -0.030356   \n",
       "           173       0.002918  0.008098 -0.024918  0.002705 -0.002945   \n",
       "           175      -0.000827  0.035087 -0.005642 -0.010702 -0.012216   \n",
       "           433       0.005479  0.003935  0.004604 -0.003640 -0.035567   \n",
       "...                       ...       ...       ...       ...       ...   \n",
       "2020-01-31 724575    0.045720 -0.032217 -0.007564 -0.039564  0.007712   \n",
       "           727093    0.001653 -0.000679  0.000203 -0.000788  0.000464   \n",
       "           727095   -0.007113 -0.007909  0.005113 -0.011547  0.002819   \n",
       "           729007    0.004194 -0.002746  0.000965 -0.004629  0.001483   \n",
       "           749578    0.005576 -0.004261 -0.008720 -0.006955  0.002078   \n",
       "\n",
       "                      r(11,1)   r(12,1)  \n",
       "date       issue_id                      \n",
       "2010-01-31 38        0.009731 -0.006034  \n",
       "           49        0.021411  0.016172  \n",
       "           173      -0.005277  0.002197  \n",
       "           175      -0.035535 -0.001246  \n",
       "           433       0.001590 -0.000004  \n",
       "...                       ...       ...  \n",
       "2020-01-31 724575   -0.021459 -0.005029  \n",
       "           727093   -0.013070  0.000138  \n",
       "           727095   -0.000940 -0.022120  \n",
       "           729007   -0.019701 -0.002776  \n",
       "           749578    0.000058 -0.010196  \n",
       "\n",
       "[2415 rows x 12 columns]"
      ]
     },
     "execution_count": 61,
     "metadata": {},
     "output_type": "execute_result"
    }
   ],
   "source": [
    "y_true"
   ]
  },
  {
   "cell_type": "code",
   "execution_count": 62,
   "id": "771cc048-e3b4-4614-a112-1ba35aad7ab8",
   "metadata": {},
   "outputs": [],
   "source": [
    "rsq = {}\n",
    "for col in y_true.columns:\n",
    "    rsq[col] = R2(y_true[col], y_hat[col])"
   ]
  },
  {
   "cell_type": "code",
   "execution_count": 63,
   "id": "08eb0cef-e044-4f1a-94f5-4c1f379ad029",
   "metadata": {},
   "outputs": [
    {
     "data": {
      "text/plain": [
       "{'r(1,1)': -0.054541194893782396,\n",
       " 'r(2,1)': -0.0050576966019859615,\n",
       " 'r(3,1)': -0.11466145251598348,\n",
       " 'r(4,1)': -0.14514834242632912,\n",
       " 'r(5,1)': -0.03363458686867471,\n",
       " 'r(6,1)': -0.1053329012586961,\n",
       " 'r(7,1)': -0.13236786775296183,\n",
       " 'r(8,1)': -0.15061729765819942,\n",
       " 'r(9,1)': -0.050671078163275984,\n",
       " 'r(10,1)': -0.03365176994722652,\n",
       " 'r(11,1)': -0.00948615055479407,\n",
       " 'r(12,1)': -0.026558434371868778}"
      ]
     },
     "execution_count": 63,
     "metadata": {},
     "output_type": "execute_result"
    }
   ],
   "source": [
    "rsq"
   ]
  },
  {
   "cell_type": "markdown",
   "id": "3ed8dde2-e103-4463-a145-47fe0113ba0e",
   "metadata": {
    "tags": []
   },
   "source": [
    "### Plots"
   ]
  },
  {
   "cell_type": "code",
   "execution_count": 18,
   "id": "3d761d04-2e18-4ba1-8d1e-05130736c8bc",
   "metadata": {},
   "outputs": [],
   "source": [
    "from sklearn.inspection import permutation_importance\n",
    "import matplotlib.pyplot as plt\n",
    "plt.style.use('seaborn')"
   ]
  },
  {
   "cell_type": "markdown",
   "id": "56fac210-e32a-4131-bcab-876b745f3695",
   "metadata": {
    "jp-MarkdownHeadingCollapsed": true,
    "tags": []
   },
   "source": [
    "#### Feature Importance"
   ]
  },
  {
   "cell_type": "code",
   "execution_count": 100,
   "id": "e1965633-8c42-4560-9eba-0c8da5d14a4a",
   "metadata": {},
   "outputs": [],
   "source": [
    "def feature_importance(model):\n",
    "    '''\n",
    "    Function to create feature importance dataframe for every model.\n",
    "    '''\n",
    "    importance = permutation_importance(model, X, Y, scoring='r2', random_state=1)\n",
    "    \n",
    "    return pd.DataFrame(importance['importances_mean'], index=X.columns, columns=['Feature Importance'])"
   ]
  },
  {
   "cell_type": "code",
   "execution_count": 36,
   "id": "c2ab39e8-8af6-4b9e-b558-71bd61962cf3",
   "metadata": {},
   "outputs": [],
   "source": [
    "model_tree = tree(splitter='best', max_depth=25, random_state=1).fit(X,Y)\n",
    "\n",
    "model_forest = forest(n_estimators=150, max_depth=15, max_features=2, min_samples_leaf=15, random_state=1).fit(X,Y)\n",
    "\n",
    "model_nn = neural_net(hidden_layer_sizes=(24, 12, 6), activation='relu', \n",
    "                       solver='sgd', alpha=0.1, random_state=1).fit(X,Y)\n",
    "\n",
    "model_xgboost = xgboost(n_estimators=150, max_depth=15, subsample=0.65, random_state=1).fit(X,Y)"
   ]
  },
  {
   "cell_type": "code",
   "execution_count": 63,
   "id": "26030365-6c1d-4f25-a04b-1514068f365a",
   "metadata": {},
   "outputs": [],
   "source": [
    "importances = pd.concat([feature_importance(model_tree), feature_importance(model_forest),\n",
    "                        feature_importance(model_nn), feature_importance(model_xgboost)], axis=1)\n",
    "importances.columns = ['Tree', 'Forest', 'Neural Network', 'XGBoost']"
   ]
  },
  {
   "cell_type": "code",
   "execution_count": 111,
   "id": "71d8c958-5d0b-4436-8603-31869bc234c6",
   "metadata": {},
   "outputs": [
    {
     "data": {
      "image/png": "[encoded data removed]",
      "text/plain": [
       "<Figure size 1152x432 with 4 Axes>"
      ]
     },
     "metadata": {},
     "output_type": "display_data"
    }
   ],
   "source": [
    "fig, ax = plt.subplots(1, 4, figsize=(16,6))\n",
    "\n",
    "fig.suptitle('Feature Importance', fontsize=20)\n",
    "\n",
    "ax1 = importances[\"Tree\"].plot.bar(ax=ax[0])\n",
    "ax1.set_title('Tree', fontsize=16)\n",
    "ax1.set_xlabel(\"\")\n",
    "\n",
    "ax2 = importances[\"Forest\"].plot.bar(ax=ax[1])\n",
    "ax2.set_title('Forest', fontsize=16)\n",
    "ax2.set_xlabel(\"\")\n",
    "\n",
    "ax3 = importances[\"Neural Network\"].plot.bar(ax=ax[2])\n",
    "ax3.set_title('Neural Network', fontsize=16)\n",
    "ax3.set_xlabel(\"\")\n",
    "\n",
    "ax4 = importances[\"XGBoost\"].plot.bar(ax=ax[3])\n",
    "ax4.set_title('XGBoost', fontsize=16)\n",
    "ax4.set_xlabel(\"\")\n",
    "\n",
    "fig.tight_layout()\n",
    "plt.show()\n",
    "\n",
    "# plt.savefig('Feature Importance.jpg')"
   ]
  },
  {
   "cell_type": "markdown",
   "id": "6c0a7110-6a37-45de-a44e-8c4d325111f8",
   "metadata": {
    "jp-MarkdownHeadingCollapsed": true,
    "tags": []
   },
   "source": [
    "#### OLS Feature Importance"
   ]
  },
  {
   "cell_type": "code",
   "execution_count": 17,
   "id": "b0d9ff3f-2f25-4b5a-ba9a-f6fe1522e88d",
   "metadata": {},
   "outputs": [],
   "source": [
    "from linearmodels.system.model import SUR\n",
    "model = SUR.multivariate_ls(Y, X).fit(cov_type='kernel', kernel='bartlett')"
   ]
  },
  {
   "cell_type": "code",
   "execution_count": 98,
   "id": "b5e2149c-e140-4abd-bbab-31dba9cdb1da",
   "metadata": {},
   "outputs": [],
   "source": [
    "t_stats = model.tstats.to_frame().reset_index()\n",
    "# t_stats['tstat'] = abs(t_stats['tstat'])"
   ]
  },
  {
   "cell_type": "code",
   "execution_count": 99,
   "id": "102d3370-5b76-4c52-9722-f76be1e82d4c",
   "metadata": {},
   "outputs": [],
   "source": [
    "features = t_stats['index'].str.extract(r'(R.*)')\n",
    "outcomes = t_stats['index'].str.extract(r'(r.*)_')\n",
    "features.columns = ['Feature']\n",
    "outcomes.columns = ['Outcome']"
   ]
  },
  {
   "cell_type": "code",
   "execution_count": 100,
   "id": "911b82eb-7e38-41c2-9e4b-826456819945",
   "metadata": {},
   "outputs": [],
   "source": [
    "t_stats = pd.concat([t_stats, features, outcomes], axis=1)"
   ]
  },
  {
   "cell_type": "code",
   "execution_count": 101,
   "id": "4c7a21ec-6f17-41d6-8b00-b890ab0243be",
   "metadata": {},
   "outputs": [],
   "source": [
    "tstats_df = t_stats.pivot(columns='Feature', index='Outcome', values='tstat').T.reindex(index=X.columns, columns=Y.columns)"
   ]
  },
  {
   "cell_type": "code",
   "execution_count": 110,
   "id": "f9916d60-8f67-4c57-94d1-b45f5c5e9ea2",
   "metadata": {},
   "outputs": [],
   "source": [
    "# abs(tstats_df).mean(1).plot.bar()"
   ]
  },
  {
   "cell_type": "code",
   "execution_count": 122,
   "id": "e39d5222-d163-4b18-974a-2ecf9a5ffec0",
   "metadata": {},
   "outputs": [
    {
     "data": {
      "text/plain": [
       "Text(0, 0.5, 'Count of t-stats above |2.0|')"
      ]
     },
     "execution_count": 122,
     "metadata": {},
     "output_type": "execute_result"
    },
    {
     "data": {
      "image/png": "[encoded data removed]",
      "text/plain": [
       "<Figure size 1152x432 with 1 Axes>"
      ]
     },
     "metadata": {},
     "output_type": "display_data"
    }
   ],
   "source": [
    "fig, ax = plt.subplots(figsize=(16,6))\n",
    "\n",
    "ax = (abs(tstats_df)>2).sum(1).plot.bar()\n",
    "ax.set_title('OLS Feature Importance', fontsize=16)\n",
    "ax.set_xlabel(\"\")\n",
    "ax.set_ylabel(\"Count of t-stats above |2.0|\", fontsize=14)\n",
    "\n",
    "# plt.savefig('OLS Feature Importance.jpg')"
   ]
  },
  {
   "cell_type": "markdown",
   "id": "2f5ec9b9-1eae-4dbe-8c2f-19b0c0288f92",
   "metadata": {
    "tags": []
   },
   "source": [
    "#### Strategy Returns"
   ]
  },
  {
   "cell_type": "code",
   "execution_count": 31,
   "id": "48ac59a3-cf9a-47c7-a085-79ed1fe35070",
   "metadata": {
    "tags": []
   },
   "outputs": [],
   "source": [
    "def plot_trading_strategy(y_hat, y_true, index, weight='value'):\n",
    "    '''\n",
    "    Function to output results of the trading strategy.\n",
    "    The inputs are the results from the model: the fitted values and the true values\n",
    "    '''\n",
    "    # Computes return deciles based on fitted values\n",
    "    deciles = compute_deciles(y_hat)\n",
    "    decilestrue = compute_deciles(y_true)\n",
    "   \n",
    "    # Merges deciles with actual values\n",
    "    y_deciles = pd.concat([y_true, deciles], axis=1)\n",
    "    y_deciles = pd.merge(y_deciles, amt_out(y_hat, index), how=\"left\", on=\"issue_id\")\n",
    "\n",
    "    # Portfolio Formation\n",
    "    columns = y_deciles.columns[:12]\n",
    "    month_ahead_return_ew = []\n",
    "    month_ahead_return_vw = []\n",
    "    \n",
    "    if weight == 'equal':\n",
    "        # Equal-weighted average\n",
    "        for column in columns:\n",
    "            month_ahead_return_ew.append(y_deciles.groupby(column+'_decile')[column].mean())\n",
    "        \n",
    "        decile_portfolios = pd.concat(month_ahead_return_ew, axis=1)\n",
    "\n",
    "            \n",
    "    else:\n",
    "    # Value-weighted average\n",
    "        for column in columns:\n",
    "            gwa = value_weight(y_deciles, (column+'_decile'), column, \"amt_out\")\n",
    "            month_ahead_return_vw.append(gwa)\n",
    "        decile_portfolios = pd.concat(month_ahead_return_vw, axis=1)\n",
    "\n",
    "    decile_portfolios.index.names = ['decile']\n",
    "    decile_top = decile_portfolios.T[4]\n",
    "    decile_bottom = decile_portfolios.T[0]\n",
    "    strategy_return = decile_portfolios.T[4] - decile_portfolios.T[0]\n",
    "    strategy_return.index = index\n",
    "    \n",
    "    return (strategy_return, decile_top, decile_bottom)"
   ]
  },
  {
   "cell_type": "code",
   "execution_count": 32,
   "id": "87dc27eb-1cda-47dc-88a8-1065d4b32271",
   "metadata": {},
   "outputs": [],
   "source": [
    "def plot_out_of_sample_procedure(model_name,y,x):\n",
    "    '''\n",
    "    Function to run the rolling annual model training and forecasting.\n",
    "    Outputs the trading strategy return as well as the fitted values for each both for each month.\n",
    "    'model_name' should be 'ols', 'tree', 'forest', 'neural_net', 'xgboost'.\n",
    "    '''\n",
    "    strat_returns = []\n",
    "    top_decile = []\n",
    "    bottom_decile = []\n",
    "    \n",
    "    for step in np.arange(0,len(X.index.levels[0][30:].unique()),12)[:11]:\n",
    "        y_hat, y_true, index = model_est(model_name, y, x, step)\n",
    "        model, top, bottom= plot_trading_strategy(y_hat, y_true, index)\n",
    "        \n",
    "        strat_returns.append(model)\n",
    "        top_decile.append(top)\n",
    "        bottom_decile.append(bottom)\n",
    "       \n",
    "        \n",
    "        \n",
    "    strat_returns_df = pd.concat(strat_returns)\n",
    "    top_df= pd.concat(top_decile)\n",
    "    bottom_df= pd.concat(bottom_decile)\n",
    "     \n",
    "\n",
    "    return (strat_returns_df, top_df, bottom_df)"
   ]
  },
  {
   "cell_type": "code",
   "execution_count": 33,
   "id": "54ecac71-2928-4b68-a315-d21f0df1d248",
   "metadata": {},
   "outputs": [],
   "source": [
    "ols_returns, ols_top, ols_bottom = plot_out_of_sample_procedure('ols',Y,X)\n",
    "# tree_returns = out_of_sample_procedure('tree',Y,X)[0]\n",
    "# forest_returns = out_of_sample_procedure('forest',Y,X)[0]\n",
    "# nn_returns = out_of_sample_procedure('neural_net',Y,X)[0]\n",
    "# xg_returns = out_of_sample_procedure('xgboost',Y,X)[0]"
   ]
  },
  {
   "cell_type": "code",
   "execution_count": 60,
   "id": "8ae17844-cda1-4bed-bffd-905c5b3f75f5",
   "metadata": {},
   "outputs": [],
   "source": [
    "def strat_return():\n",
    "    '''\n",
    "    Function to create dataframes for plots of strategy returnss\n",
    "    '''\n",
    "    \n",
    "    # Run models and store results\n",
    "    ols_returns, ols_top, ols_bottom = plot_out_of_sample_procedure('ols',Y,X)\n",
    "    tree_returns, tree_top, tree_bottom = plot_out_of_sample_procedure('tree_optimal',Y,X)\n",
    "    forest_returns, forest_top, forest_bottom = plot_out_of_sample_procedure('forest_optimal',Y,X)\n",
    "    nn_returns, nn_top, nn_bottom = plot_out_of_sample_procedure('neural_net_optimal',Y,X)\n",
    "    xg_returns, xg_top, xg_bottom = plot_out_of_sample_procedure('xgboost_optimal',Y,X)\n",
    "\n",
    "    model_names = ['OLS', 'Tree', 'Forest', 'Neural Network', 'XGBoost']\n",
    "    decile_names = [[x+'_top', x+'_bottom'] for x in model_names]\n",
    "    decile_names = [x for model in decile_names for x in model]\n",
    "    \n",
    "    # long/short strategy returns\n",
    "    strat_returns = pd.concat([ols_returns, tree_returns, forest_returns, nn_returns, xg_returns], axis=1)\n",
    "    strat_returns.columns = model_names\n",
    "    \n",
    "    # Quintile returns\n",
    "    deciles = [ols_top, ols_bottom, tree_top, tree_bottom, forest_top, forest_bottom, nn_top, nn_bottom, xg_top, xg_bottom]\n",
    "    deciles = [x.reset_index(drop=True).set_axis(ols_returns.index) for x in deciles]\n",
    "    decile_returns = pd.concat(deciles, axis=1)\n",
    "    decile_returns.columns = decile_names\n",
    "    \n",
    "    return (strat_returns, decile_returns)"
   ]
  },
  {
   "cell_type": "code",
   "execution_count": 131,
   "id": "e218275f-601c-4260-baa8-da256c8851d4",
   "metadata": {},
   "outputs": [],
   "source": [
    "strat_returns, decile_returns = strat_return()"
   ]
  },
  {
   "cell_type": "code",
   "execution_count": 199,
   "id": "226ed037-3125-43ef-a222-1b1ab5db6d71",
   "metadata": {},
   "outputs": [
    {
     "name": "stdout",
     "output_type": "stream",
     "text": [
      "[*********************100%***********************]  1 of 1 completed\n"
     ]
    }
   ],
   "source": [
    "import pandas_datareader.data as pdr\n",
    "import yfinance as yfin\n",
    "yfin.pdr_override()\n",
    "\n",
    "bonds = pdr.get_data_yahoo('AGG', start='2001-01-01')\n",
    "rf = pdr.get_data_fred('DGS1MO', start='2001-01-01')"
   ]
  },
  {
   "cell_type": "code",
   "execution_count": 200,
   "id": "2b4634b3-d678-4aa0-a610-5dd27f2144a6",
   "metadata": {},
   "outputs": [],
   "source": [
    "strat_returns.index = pd.to_datetime(strat_returns.index)\n",
    "\n",
    "bond_returns = bonds.sort_index().resample('M').last()['Adj Close']\n",
    "bond_returns = np.log(bond_returns/bond_returns.shift(1)).to_frame()\n",
    "bond_returns.columns = ['US Bond Market']\n",
    "bond_returns.index = pd.to_datetime(bond_returns.index)\n",
    "\n",
    "rf_returns = rf.sort_index().resample('M').mean()/100\n",
    "rf_returns = (1+rf_returns)**(1/12)-1\n",
    "rf_returns.columns = ['Risk Free Rate']"
   ]
  },
  {
   "cell_type": "code",
   "execution_count": 201,
   "id": "da48b165-55c9-4e57-a186-0e1a939cdb42",
   "metadata": {},
   "outputs": [],
   "source": [
    "bonds = pd.merge(bond_returns, rf_returns, left_index=True, right_index=True)\n",
    "returns = pd.merge(strat_returns, bonds, left_index=True, right_index=True)"
   ]
  },
  {
   "cell_type": "code",
   "execution_count": 202,
   "id": "6c9bf565-3245-4646-8e9b-f09c4da8c159",
   "metadata": {},
   "outputs": [],
   "source": [
    "returns = (1+returns[['Forest', 'XGBoost','Tree', 'OLS', 'US Bond Market','Risk Free Rate',  'Neural Network']]).cumprod()"
   ]
  },
  {
   "cell_type": "code",
   "execution_count": 206,
   "id": "33af7ede-cf2b-41cd-91cc-7f6ec9d27ca1",
   "metadata": {},
   "outputs": [
    {
     "data": {
      "image/png": "[encoded data removed]",
      "text/plain": [
       "<Figure size 1152x720 with 1 Axes>"
      ]
     },
     "metadata": {},
     "output_type": "display_data"
    }
   ],
   "source": [
    "fig, ax = plt.subplots(figsize=(16,10))\n",
    "\n",
    "ax = returns.plot(ax=ax)\n",
    "ax.set_title('Strategy Returns', fontsize=20)\n",
    "ax.set_xlabel(\"\")\n",
    "ax.set_ylabel(\"\")\n",
    "\n",
    "plt.show()\n",
    "\n",
    "# plt.savefig('Strategy Returns.jpg')"
   ]
  },
  {
   "cell_type": "code",
   "execution_count": null,
   "id": "bb2e3d04-ea01-4d3a-a229-222de25cc543",
   "metadata": {},
   "outputs": [],
   "source": []
  }
 ],
 "metadata": {
  "kernelspec": {
   "display_name": "Python 3 (ipykernel)",
   "language": "python",
   "name": "python3"
  },
  "language_info": {
   "codemirror_mode": {
    "name": "ipython",
    "version": 3
   },
   "file_extension": ".py",
   "mimetype": "text/x-python",
   "name": "python",
   "nbconvert_exporter": "python",
   "pygments_lexer": "ipython3",
   "version": "3.9.12"
  }
 },
 "nbformat": 4,
 "nbformat_minor": 5
}
