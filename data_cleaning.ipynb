{
 "cells": [
  {
   "cell_type": "markdown",
   "id": "82dd4293-2914-4de8-b48c-7b7f8a45b42c",
   "metadata": {
    "jp-MarkdownHeadingCollapsed": true,
    "tags": []
   },
   "source": [
    "## Cleans TRACE Corporate Bond Data"
   ]
  },
  {
   "cell_type": "code",
   "execution_count": 1,
   "id": "8e02e1d8-eb0d-4cc3-8f09-42b521a26d10",
   "metadata": {},
   "outputs": [],
   "source": [
    "# Imports\n",
    "import pandas as pd\n",
    "import numpy as np"
   ]
  },
  {
   "cell_type": "code",
   "execution_count": 2,
   "id": "dca3961e-13eb-4b12-b2ef-11b017c9a3be",
   "metadata": {},
   "outputs": [],
   "source": [
    "# Loads in subset of prof Yoshio's data\n",
    "with pd.read_csv(\"prof_yoshio_data/trace_credit_spreads.csv\", chunksize=1000) as reader:\n",
    "    data = reader.get_chunk()"
   ]
  },
  {
   "cell_type": "code",
   "execution_count": 3,
   "id": "3e249196-425e-4c10-95a1-11b68ac0f94e",
   "metadata": {},
   "outputs": [
    {
     "name": "stdout",
     "output_type": "stream",
     "text": [
      "<class 'pandas.core.frame.DataFrame'>\n",
      "RangeIndex: 1000 entries, 0 to 999\n",
      "Data columns (total 40 columns):\n",
      " #   Column                  Non-Null Count  Dtype  \n",
      "---  ------                  --------------  -----  \n",
      " 0   cusip_id                1000 non-null   object \n",
      " 1   date                    1000 non-null   int64  \n",
      " 2   price                   1000 non-null   float64\n",
      " 3   volume                  1000 non-null   int64  \n",
      " 4   ISSUE_ID                1000 non-null   int64  \n",
      " 5   ISSUER_ID               1000 non-null   int64  \n",
      " 6   PROSPECTUS_ISSUER_NAME  1000 non-null   object \n",
      " 7   MATURITY                1000 non-null   int64  \n",
      " 8   SECURITY_LEVEL          1000 non-null   object \n",
      " 9   OFFERING_AMT            1000 non-null   int64  \n",
      " 10  OFFERING_DATE           1000 non-null   int64  \n",
      " 11  OFFERING_PRICE          852 non-null    float64\n",
      " 12  INTEREST_FREQUENCY      1000 non-null   int64  \n",
      " 13  COUPON                  1000 non-null   float64\n",
      " 14  standard                1000 non-null   int64  \n",
      " 15  putop                   1000 non-null   int64  \n",
      " 16  conv                    1000 non-null   int64  \n",
      " 17  junior                  1000 non-null   int64  \n",
      " 18  cusip                   1000 non-null   object \n",
      " 19  CALLABLE                842 non-null    object \n",
      " 20  MAKE_WHOLE              842 non-null    object \n",
      " 21  INDUSTRY_CODE           1000 non-null   int64  \n",
      " 22  SIC_CODE                1000 non-null   int64  \n",
      " 23  rating_date_spr         1000 non-null   int64  \n",
      " 24  rating_spr              1000 non-null   object \n",
      " 25  rating_mdy              987 non-null    object \n",
      " 26  rating_date_mdy         0 non-null      float64\n",
      " 27  SP_rat                  995 non-null    float64\n",
      " 28  Moody_rat               987 non-null    float64\n",
      " 29  AMOUNT_OUTSTANDING      1000 non-null   int64  \n",
      " 30  month1                  1000 non-null   int64  \n",
      " 31  accrued_interest        1000 non-null   float64\n",
      " 32  tau                     1000 non-null   float64\n",
      " 33  age                     1000 non-null   float64\n",
      " 34  rating                  1000 non-null   int64  \n",
      " 35  ytm                     927 non-null    float64\n",
      " 36  duration                927 non-null    float64\n",
      " 37  tr_dirty_price          927 non-null    float64\n",
      " 38  tr_ytm                  927 non-null    float64\n",
      " 39  cs                      927 non-null    float64\n",
      "dtypes: float64(14), int64(18), object(8)\n",
      "memory usage: 312.6+ KB\n"
     ]
    }
   ],
   "source": [
    "data.info()"
   ]
  },
  {
   "cell_type": "code",
   "execution_count": 174,
   "id": "5c0dd8ca-bb12-4d86-8518-beb92f3bd321",
   "metadata": {},
   "outputs": [],
   "source": [
    "# data.memory_usage(deep=True) \\\n",
    "# .gt(8000)"
   ]
  },
  {
   "cell_type": "markdown",
   "id": "f148fcd3-e317-47d7-8d08-1d30e58e0403",
   "metadata": {},
   "source": [
    "As expected all \"object\" (ie. string) columns use up the majority of the memory. The rest (float/int64s) are using 8 bytes, however these may also be reduced to 16 or 32."
   ]
  },
  {
   "cell_type": "code",
   "execution_count": 13,
   "id": "ab1a0cc5-0a52-46ce-ac7b-152a0ec0c9ca",
   "metadata": {},
   "outputs": [],
   "source": [
    "def cols(col_names, data_type):\n",
    "    '''\n",
    "    Takes in list of column names and a datatype and generates a dictionary\n",
    "    '''\n",
    "    return {col_names[i]: data_type for i in range(len(col_names))}"
   ]
  },
  {
   "cell_type": "code",
   "execution_count": 19,
   "id": "3af87430-99f6-4ef5-b3bb-29f361a51f96",
   "metadata": {},
   "outputs": [],
   "source": [
    "def clean_data_types(df):\n",
    "    '''\n",
    "    Cleans datatypes for raw data\n",
    "    '''\n",
    "    df.columns = map(str.lower, df.columns)\n",
    "    \n",
    "    # String/text columns\n",
    "    string_cols = ['cusip_id', 'cusip', 'prospectus_issuer_name']\n",
    "    strings = cols(string_cols, 'string[pyarrow]')\n",
    "\n",
    "    bool_cols = ['callable', 'make_whole', 'conv', 'junior']\n",
    "    bools = cols(bool_cols, 'bool')\n",
    "\n",
    "    category_cols = ['security_level', 'rating_spr', 'rating_mdy', 'standard', 'putop', 'industry_code']\n",
    "    categories = cols(category_cols, 'category')\n",
    "    try:\n",
    "        df = df.drop([\"sp_rat\", \"moody_rat\", \"rating\", 'rating_date_spr', 'rating_date_mdy'], axis=1)\n",
    "    except: pass\n",
    "        \n",
    "    # Float/Integer columns\n",
    "    int8_cols = ['interest_frequency']\n",
    "    int8s = cols(int8_cols, 'int8')\n",
    "\n",
    "    df['sic_code'] = df['sic_code'].fillna(0)\n",
    "    int16_cols = ['sic_code']\n",
    "    int16s = cols(int16_cols, 'int16')\n",
    "\n",
    "    int32_cols = ['volume', 'offering_amt', 'amount_outstanding', 'issue_id', 'issuer_id']\n",
    "    int32s = cols(int32_cols, 'int32')\n",
    "\n",
    "    float32_cols = ['price', 'offering_price', 'coupon', 'accrued_interest', 'tau',\n",
    "                   'age', 'ytm', 'duration', 'tr_dirty_price', 'tr_ytm', 'cs']\n",
    "    float32s = cols(float32_cols, 'float32')\n",
    "\n",
    "    # Dates\n",
    "    # formula to convert to datetime: df['date'].apply(lambda x: pd.to_datetime(str(x), format='%Y%m%d'))\n",
    "    df['offering_date'] = df['offering_date'].fillna(0)\n",
    "    date_cols = ['date', 'maturity', 'offering_date', 'month1']\n",
    "    dates = cols(date_cols, 'int32')\n",
    "\n",
    "    # Applies type changes\n",
    "    types = strings | bools | categories | int8s | int16s | int32s | float32s | dates\n",
    "\n",
    "    return df.astype(types)"
   ]
  },
  {
   "cell_type": "code",
   "execution_count": 192,
   "id": "675aabaa-cb11-41e6-b986-4c3c2b20d8c1",
   "metadata": {},
   "outputs": [],
   "source": [
    "df = clean_data_types(df)\n",
    "# df.memory_usage(deep=True)"
   ]
  },
  {
   "cell_type": "code",
   "execution_count": 198,
   "id": "2ac7f211-0018-4d1f-a7ac-0d50c0f0b530",
   "metadata": {},
   "outputs": [
    {
     "name": "stdout",
     "output_type": "stream",
     "text": [
      "<class 'pandas.core.frame.DataFrame'>\n",
      "RangeIndex: 1000 entries, 0 to 999\n",
      "Data columns (total 35 columns):\n",
      " #   Column                  Non-Null Count  Dtype   \n",
      "---  ------                  --------------  -----   \n",
      " 0   cusip_id                1000 non-null   string  \n",
      " 1   date                    1000 non-null   int32   \n",
      " 2   price                   1000 non-null   float32 \n",
      " 3   volume                  1000 non-null   int32   \n",
      " 4   issue_id                1000 non-null   int32   \n",
      " 5   issuer_id               1000 non-null   int32   \n",
      " 6   prospectus_issuer_name  1000 non-null   string  \n",
      " 7   maturity                1000 non-null   int32   \n",
      " 8   security_level          1000 non-null   category\n",
      " 9   offering_amt            1000 non-null   int32   \n",
      " 10  offering_date           1000 non-null   int32   \n",
      " 11  offering_price          852 non-null    float32 \n",
      " 12  interest_frequency      1000 non-null   int8    \n",
      " 13  coupon                  1000 non-null   float32 \n",
      " 14  standard                1000 non-null   category\n",
      " 15  putop                   1000 non-null   category\n",
      " 16  conv                    1000 non-null   bool    \n",
      " 17  junior                  1000 non-null   bool    \n",
      " 18  cusip                   1000 non-null   string  \n",
      " 19  callable                1000 non-null   bool    \n",
      " 20  make_whole              1000 non-null   bool    \n",
      " 21  industry_code           1000 non-null   category\n",
      " 22  sic_code                1000 non-null   int16   \n",
      " 23  rating_spr              1000 non-null   category\n",
      " 24  rating_mdy              987 non-null    category\n",
      " 25  amount_outstanding      1000 non-null   int32   \n",
      " 26  month1                  1000 non-null   int32   \n",
      " 27  accrued_interest        1000 non-null   float32 \n",
      " 28  tau                     1000 non-null   float32 \n",
      " 29  age                     1000 non-null   float32 \n",
      " 30  ytm                     927 non-null    float32 \n",
      " 31  duration                927 non-null    float32 \n",
      " 32  tr_dirty_price          927 non-null    float32 \n",
      " 33  tr_ytm                  927 non-null    float32 \n",
      " 34  cs                      927 non-null    float32 \n",
      "dtypes: bool(4), category(6), float32(11), int16(1), int32(9), int8(1), string(3)\n",
      "memory usage: 135.2 KB\n"
     ]
    }
   ],
   "source": [
    "df.info()\n",
    "# Memory usage decreased by about half"
   ]
  },
  {
   "cell_type": "code",
   "execution_count": 204,
   "id": "ec4e4691-ee9d-447b-9d7c-03348cdb06c4",
   "metadata": {},
   "outputs": [
    {
     "name": "stderr",
     "output_type": "stream",
     "text": [
      "C:\\Users\\sroma\\AppData\\Local\\Temp\\ipykernel_25248\\3165405631.py:2: DtypeWarning: Columns (19,20) have mixed types. Specify dtype option on import or set low_memory=False.\n",
      "  data = pd.read_csv(\"prof_yoshio_data/trace_credit_spreads.csv\")\n"
     ]
    },
    {
     "name": "stdout",
     "output_type": "stream",
     "text": [
      "14090424.827 KB\n"
     ]
    }
   ],
   "source": [
    "# Loads in whole data\n",
    "data = pd.read_csv(\"prof_yoshio_data/trace_credit_spreads.csv\")"
   ]
  },
  {
   "cell_type": "code",
   "execution_count": 221,
   "id": "4bec9e4d-0e9f-4021-ae4e-99899d159ad1",
   "metadata": {},
   "outputs": [
    {
     "name": "stdout",
     "output_type": "stream",
     "text": [
      "14090424.827 KB\n"
     ]
    }
   ],
   "source": [
    "# Cleans data\n",
    "cleaned_data = clean_data_types(data)"
   ]
  },
  {
   "cell_type": "code",
   "execution_count": null,
   "id": "17c22446-dd6b-4832-92e0-cafd1be6b1e8",
   "metadata": {},
   "outputs": [],
   "source": [
    "# Saves cleaned data\n",
    "cleaned_data.to_csv('cleaned_data.csv')"
   ]
  },
  {
   "cell_type": "code",
   "execution_count": 222,
   "id": "65514762-b45d-490c-b55f-d09c9346c86e",
   "metadata": {},
   "outputs": [
    {
     "name": "stdout",
     "output_type": "stream",
     "text": [
      "<class 'pandas.core.frame.DataFrame'>\n",
      "RangeIndex: 18833993 entries, 0 to 18833992\n",
      "Data columns (total 40 columns):\n",
      " #   Column                  Dtype  \n",
      "---  ------                  -----  \n",
      " 0   cusip_id                object \n",
      " 1   date                    int64  \n",
      " 2   price                   float64\n",
      " 3   volume                  float64\n",
      " 4   issue_id                int64  \n",
      " 5   issuer_id               int64  \n",
      " 6   prospectus_issuer_name  object \n",
      " 7   maturity                int64  \n",
      " 8   security_level          object \n",
      " 9   offering_amt            float64\n",
      " 10  offering_date           float64\n",
      " 11  offering_price          float64\n",
      " 12  interest_frequency      int64  \n",
      " 13  coupon                  float64\n",
      " 14  standard                int64  \n",
      " 15  putop                   int64  \n",
      " 16  conv                    int64  \n",
      " 17  junior                  int64  \n",
      " 18  cusip                   object \n",
      " 19  callable                object \n",
      " 20  make_whole              object \n",
      " 21  industry_code           int64  \n",
      " 22  sic_code                float64\n",
      " 23  rating_date_spr         float64\n",
      " 24  rating_spr              object \n",
      " 25  rating_mdy              object \n",
      " 26  rating_date_mdy         float64\n",
      " 27  sp_rat                  float64\n",
      " 28  moody_rat               float64\n",
      " 29  amount_outstanding      float64\n",
      " 30  month1                  int64  \n",
      " 31  accrued_interest        float64\n",
      " 32  tau                     float64\n",
      " 33  age                     float64\n",
      " 34  rating                  float64\n",
      " 35  ytm                     float64\n",
      " 36  duration                float64\n",
      " 37  tr_dirty_price          float64\n",
      " 38  tr_ytm                  float64\n",
      " 39  cs                      float64\n",
      "dtypes: float64(21), int64(11), object(8)\n",
      "memory usage: 5.6+ GB\n"
     ]
    }
   ],
   "source": [
    "data.info()"
   ]
  },
  {
   "cell_type": "code",
   "execution_count": 224,
   "id": "b8c8a2f3-d058-48c3-8ce9-62ecbdd20320",
   "metadata": {},
   "outputs": [
    {
     "name": "stdout",
     "output_type": "stream",
     "text": [
      "<class 'pandas.core.frame.DataFrame'>\n",
      "RangeIndex: 18833993 entries, 0 to 18833992\n",
      "Data columns (total 35 columns):\n",
      " #   Column                  Dtype   \n",
      "---  ------                  -----   \n",
      " 0   cusip_id                string  \n",
      " 1   date                    int32   \n",
      " 2   price                   float32 \n",
      " 3   volume                  int32   \n",
      " 4   issue_id                int32   \n",
      " 5   issuer_id               int32   \n",
      " 6   prospectus_issuer_name  string  \n",
      " 7   maturity                int32   \n",
      " 8   security_level          category\n",
      " 9   offering_amt            int32   \n",
      " 10  offering_date           int32   \n",
      " 11  offering_price          float32 \n",
      " 12  interest_frequency      int8    \n",
      " 13  coupon                  float32 \n",
      " 14  standard                category\n",
      " 15  putop                   category\n",
      " 16  conv                    bool    \n",
      " 17  junior                  bool    \n",
      " 18  cusip                   string  \n",
      " 19  callable                bool    \n",
      " 20  make_whole              bool    \n",
      " 21  industry_code           category\n",
      " 22  sic_code                int16   \n",
      " 23  rating_spr              category\n",
      " 24  rating_mdy              category\n",
      " 25  amount_outstanding      int32   \n",
      " 26  month1                  int32   \n",
      " 27  accrued_interest        float32 \n",
      " 28  tau                     float32 \n",
      " 29  age                     float32 \n",
      " 30  ytm                     float32 \n",
      " 31  duration                float32 \n",
      " 32  tr_dirty_price          float32 \n",
      " 33  tr_ytm                  float32 \n",
      " 34  cs                      float32 \n",
      "dtypes: bool(4), category(6), float32(11), int16(1), int32(9), int8(1), string(3)\n",
      "memory usage: 2.5 GB\n"
     ]
    }
   ],
   "source": [
    "cleaned_data.info()"
   ]
  },
  {
   "cell_type": "markdown",
   "id": "a6956fea-eaea-40fd-86b1-25e583b002f8",
   "metadata": {},
   "source": [
    "# Aggregates Data to Monthly"
   ]
  },
  {
   "cell_type": "code",
   "execution_count": 2,
   "id": "13fe0ecf-a975-4340-a08e-b726f01eb58f",
   "metadata": {},
   "outputs": [],
   "source": [
    "# Imports\n",
    "import pandas as pd\n",
    "import numpy as np\n",
    "import datetime as dt\n",
    "import matplotlib.pyplot as plt\n",
    "from dateutil.relativedelta import *\n",
    "from pandas.tseries.offsets import *"
   ]
  },
  {
   "cell_type": "code",
   "execution_count": 132,
   "id": "6ccd3534-c240-40a9-94c2-23cabbd88608",
   "metadata": {},
   "outputs": [],
   "source": [
    "# Loads in subset of cleaned data\n",
    "with pd.read_csv(\"cleaned_data.csv\", chunksize=100_000, index_col=0) as reader:\n",
    "    data = reader.get_chunk()\n",
    "\n",
    "# csv doesn't preserve data types\n",
    "data = clean_data_types(data)"
   ]
  },
  {
   "cell_type": "code",
   "execution_count": 133,
   "id": "1aa581de-32db-4929-8735-c51c0b14654d",
   "metadata": {},
   "outputs": [
    {
     "name": "stdout",
     "output_type": "stream",
     "text": [
      " With the subset of data there are: \n",
      "    - 43 unique issuers \n",
      "    - 192 unique bonds  \n",
      "    - 4913 days in the sample\n",
      "    \n"
     ]
    }
   ],
   "source": [
    "print(f''' With the subset of data there are: \n",
    "    - {len(data['issuer_id'].unique())} unique issuers \n",
    "    - {len(data['issue_id'].unique())} unique bonds  \n",
    "    - {len(data['date'].sort_values().unique())} days in the sample\n",
    "    ''')"
   ]
  },
  {
   "cell_type": "markdown",
   "id": "38be9865-b536-4770-8f5c-abafb110ae26",
   "metadata": {},
   "source": [
    "## Sample Exclusion Criteria\n",
    "Based on Bai, Bali & Wen (2019):\n",
    "\n",
    "1. Remove bonds that are not listed or traded in the US public market, which include bonds issued through private placement, bonds issued under the 144A rule, bonds that do not trade in US dollars, and bond issuers not in the jurisdiction of the United States.\n",
    "2. Remove bonds that are structured notes, mortgage backed or asset backed, agency backed, or equity linked.\n",
    "3. Remove convertible bonds since this option feature distorts the return calculation and makes it impossible to compare the returns of convertible and nonconvertible bonds.\n",
    "4. Remove bonds that trade under 5 or above 1000. \n",
    "5. Remove bonds that have a floating coupon rate, which means the sample comprises only bonds with a fixed or zero coupon. This rule is applied based on the consideration of the accuracy in bond return calculation, given the challenge in tracking a floating-coupon bond’s cash flows.\n",
    "6. Remove bonds that have less than one year to maturity. This rule is applied to all major corporate bond indices such as the Barclays Capital Corporate Bond Index, the Bank of America Merrill Lynch Corporate Master Index, and the Citi Fixed Income Indices. If a bond has less than one year to maturity, it will be delisted from major bond indices; hence, index-tracking investors will change their holding positions. This operation will distort the return calculation for bonds with less than one year to maturity; thus, we remove them from our sample.\n",
    "7. For intraday data, we also eliminate bond transactions that are labeled as when-issued, locked-in, or have special sales conditions, and that have more than a twoday settlement.\n",
    "8. Remove transaction records that are canceled and adjust records that are subsequently corrected or reversed.\n",
    "9. Remove transaction records that have trading volume less than $10,000"
   ]
  },
  {
   "cell_type": "markdown",
   "id": "03932e4e-07f1-4142-8955-cd91cc9818f3",
   "metadata": {},
   "source": [
    "### 3. Convertible Bonds"
   ]
  },
  {
   "cell_type": "code",
   "execution_count": 156,
   "id": "5ba33f42-6154-4111-a767-8d4daaab0314",
   "metadata": {},
   "outputs": [],
   "source": [
    "def filter_bond_convertible(data):\n",
    "    '''\n",
    "    Function which filters out convertible bonds.\n",
    "    '''\n",
    "    \n",
    "    return data[data['conv'] == False]"
   ]
  },
  {
   "cell_type": "code",
   "execution_count": 157,
   "id": "6ec38a7f-8bd0-42dd-acb5-afafb48339aa",
   "metadata": {},
   "outputs": [],
   "source": [
    "data = filter_bond_convertible(data)"
   ]
  },
  {
   "cell_type": "markdown",
   "id": "29d59112-8437-4ea2-91ca-d55ff326017d",
   "metadata": {},
   "source": [
    "### 4. Bonds with irregular trading prices"
   ]
  },
  {
   "cell_type": "code",
   "execution_count": 162,
   "id": "2324e681-f03a-4c21-9097-e7b08cad9bed",
   "metadata": {},
   "outputs": [],
   "source": [
    "def filter_bond_prices(data):\n",
    "    '''\n",
    "    Function which filters out bonds that trade below $5 or above $1000.\n",
    "    '''\n",
    "    \n",
    "    return data[(data['price'].gt(5)) | (data['price'].lt(1000))]"
   ]
  },
  {
   "cell_type": "code",
   "execution_count": 163,
   "id": "8c899a17-dca3-48bc-adbe-2f22b2bec2fa",
   "metadata": {},
   "outputs": [],
   "source": [
    "data = filter_bond_prices(data)"
   ]
  },
  {
   "cell_type": "markdown",
   "id": "b497bb38-2592-484d-89e0-f0947c36d6b7",
   "metadata": {},
   "source": [
    "### 6. Bonds with less than 1-year to maturity\n",
    "Perhaps worthwhile to keep seperate as a robustness check?"
   ]
  },
  {
   "cell_type": "code",
   "execution_count": 134,
   "id": "4bb2d84d-ab5a-468f-8bd3-7cb145b15106",
   "metadata": {},
   "outputs": [],
   "source": [
    "def filter_bond_maturity(data):\n",
    "    '''\n",
    "    Function which filters out bonds with less than 1-year to maturity.\n",
    "    Saves bonds with less than 1-year to maturity in a seperate file.\n",
    "    '''\n",
    "    data['date'] = pd.to_datetime(data['date'], format='%Y%m%d')\n",
    "    data['maturity'] = pd.to_datetime(data['maturity'], format='%Y%m%d')\n",
    "\n",
    "    data = data.sort_values(by='date')\n",
    "    data['days_to_maturity'] = data['maturity'] - data['date']\n",
    "\n",
    "    # Filters out bonds with less than 1-year to maturity\n",
    "    data_one_year_bonds = data[data['days_to_maturity'].le('365 days')]\n",
    "    data_one_year_bonds.to_csv('bonds_1_year_maturity.csv')\n",
    "    \n",
    "    return data[data['days_to_maturity'].gt('365 days')]"
   ]
  },
  {
   "cell_type": "code",
   "execution_count": 135,
   "id": "da3f7cd4-8c2f-49b1-b88b-72d4986f5b92",
   "metadata": {},
   "outputs": [],
   "source": [
    "data = filter_bond_maturity(data)"
   ]
  },
  {
   "cell_type": "code",
   "execution_count": 137,
   "id": "1e50cfad-6c96-49db-9317-60de06957293",
   "metadata": {},
   "outputs": [
    {
     "data": {
      "text/plain": [
       "(96721, 36)"
      ]
     },
     "execution_count": 137,
     "metadata": {},
     "output_type": "execute_result"
    }
   ],
   "source": [
    "data.shape"
   ]
  },
  {
   "cell_type": "markdown",
   "id": "cf07f577-c07d-47a6-8acb-7ce27580e8c0",
   "metadata": {},
   "source": [
    "### 9. Bonds with small trading volumes"
   ]
  },
  {
   "cell_type": "code",
   "execution_count": 143,
   "id": "ee7b6b17-de85-4d54-add6-60f571c58665",
   "metadata": {},
   "outputs": [],
   "source": [
    "def filter_bond_volume(data):\n",
    "    '''\n",
    "    Function which filters daily volumes of less than $10,000.\n",
    "    '''\n",
    "    \n",
    "    return data[data['volume'].gt(10000)]"
   ]
  },
  {
   "cell_type": "code",
   "execution_count": 144,
   "id": "b8154393-ca29-4694-9cf9-161fe67d0dfe",
   "metadata": {},
   "outputs": [],
   "source": [
    "data = filter_bond_volume(data)"
   ]
  },
  {
   "cell_type": "code",
   "execution_count": 146,
   "id": "54268913-81da-4c3b-bf7f-4d21cfc04fcc",
   "metadata": {},
   "outputs": [
    {
     "data": {
      "text/plain": [
       "(95529, 36)"
      ]
     },
     "execution_count": 146,
     "metadata": {},
     "output_type": "execute_result"
    }
   ],
   "source": [
    "data.shape"
   ]
  },
  {
   "cell_type": "markdown",
   "id": "03f9361e-68e8-45fe-9b7c-fb276d02c450",
   "metadata": {},
   "source": [
    "### Monthly Return Aggregation\n",
    "\n",
    "The monthly corporate bond return at time $t$ is computed as \n",
    "\n",
    "<font size=6>\n",
    "$\n",
    "r_{i,t} = \\frac{P_{i,t} + AI_{i,t} + C_{i,t}}{P_{i,t−1} + AI_{i,t−1}} − 1\n",
    "$\n",
    "</font>\n",
    "\n",
    "Where $P_{i,t}$ is month $t$'s bond clean price, $AI_{i,t}$ is the accrued-interest, and $C_{i,t}$ is the coupon.\n",
    "\n",
    "Excess returns are computed by deducting the 1-month Treasury bill rate.\n",
    "\n",
    "Further, following Bai, Bali & Wen (2019), returns can be computed as either end of month t relative to end of month t-1, or end of month t to begining of month t. Where the end/beginning of the month is defined with a 5 day window. The date which is closest to the last/firsy trading day is used. If both such return calculations are available, then the end-to-end is prefered."
   ]
  },
  {
   "cell_type": "markdown",
   "id": "950e159f-9537-405e-8a67-df8c3afbe3b6",
   "metadata": {},
   "source": [
    "#### End-to-End Method"
   ]
  },
  {
   "cell_type": "code",
   "execution_count": 396,
   "id": "80ad44c9-d789-412c-997b-3b0cdda0c9d9",
   "metadata": {},
   "outputs": [
    {
     "data": {
      "text/plain": [
       "(95529, 36)"
      ]
     },
     "execution_count": 396,
     "metadata": {},
     "output_type": "execute_result"
    }
   ],
   "source": [
    "data.shape"
   ]
  },
  {
   "cell_type": "code",
   "execution_count": 412,
   "id": "168adaf3-f8ab-4149-86ee-9585ad91138e",
   "metadata": {},
   "outputs": [],
   "source": [
    "def end_month_returns(data):\n",
    "    '''\n",
    "    Function to compute monthly returns using the end-to-end method.\n",
    "    '''\n",
    "    # Ensures that data is sorted in chronological order\n",
    "    data = data.sort_values(by='date')\n",
    "    \n",
    "    # Gets 5 days from the end of the month\n",
    "    data['month_end'] = data['date'] + MonthEnd(0) - pd.Timedelta(days=5)\n",
    "    \n",
    "    # Groups by issue id and year-month: returns the last observation\n",
    "    data = data.groupby(['issue_id', data['date'].dt.year, data['date'].dt.month]).tail(1).copy()\n",
    "    \n",
    "    # Creates the P + AI + C for time t\n",
    "    data['full_price_t'] = data['price'] + data['accrued_interest'] + data['coupon']\n",
    "    data['price_t'] = data['price'] + data['accrued_interest']\n",
    "    \n",
    "    # Lags P + AI\n",
    "    data['price_t1'] = data.groupby('issue_id')['price_t'].shift(1)\n",
    "    \n",
    "    # Computes the return only if the transaction date is within 5 days of end of month\n",
    "    data['return'] = np.where(~(data['date'] < data['month_end']), \n",
    "                               (data['full_price_t'] / data['price_t1']) - 1, np.nan)\n",
    "    \n",
    "    # Price return used for validation\n",
    "    data['price_return'] = np.where(~(data['date'] < data['month_end']), \n",
    "                               (data['price'] / data.groupby('issue_id')['price'].shift(1)) - 1, np.nan)\n",
    "    \n",
    "    # Drops observations where there is no return, assigns month end value\n",
    "    data = data.dropna(subset='return')\n",
    "    data['date'] = data['date'] + MonthEnd(0)\n",
    "\n",
    "    return data "
   ]
  },
  {
   "cell_type": "code",
   "execution_count": 413,
   "id": "60738258-d1bb-49ab-be5b-10259f9d0354",
   "metadata": {},
   "outputs": [],
   "source": [
    "end_data = end_month_returns(data)"
   ]
  },
  {
   "cell_type": "code",
   "execution_count": 414,
   "id": "1b3276f9-7221-4b76-bad0-ec8006d9cf44",
   "metadata": {},
   "outputs": [
    {
     "data": {
      "text/plain": [
       "(6702, 42)"
      ]
     },
     "execution_count": 414,
     "metadata": {},
     "output_type": "execute_result"
    }
   ],
   "source": [
    "end_data.shape"
   ]
  },
  {
   "cell_type": "markdown",
   "id": "157190fd-287b-4b98-b2c0-d2955e34f506",
   "metadata": {},
   "source": [
    "#### Start-to-End Method"
   ]
  },
  {
   "cell_type": "code",
   "execution_count": 548,
   "id": "34d03531-a4db-45c8-aec6-10113a98bb5e",
   "metadata": {},
   "outputs": [
    {
     "data": {
      "text/plain": [
       "(95529, 36)"
      ]
     },
     "execution_count": 548,
     "metadata": {},
     "output_type": "execute_result"
    }
   ],
   "source": [
    "data.shape"
   ]
  },
  {
   "cell_type": "code",
   "execution_count": 561,
   "id": "808f6517-2ab5-475b-80c5-96b32bc4d0d7",
   "metadata": {},
   "outputs": [],
   "source": [
    "def start_month_returns(data):\n",
    "    '''\n",
    "    Function to compute monthly returns using the start-to-end method.\n",
    "    '''\n",
    "    # Ensures that data is sorted in chronological order\n",
    "    data = data.sort_values(by='date')\n",
    "    \n",
    "    # 5 days from start and end of month\n",
    "    data['month_end'] = data['date'] + MonthEnd(0) - pd.Timedelta(days=5)\n",
    "    data['month_start'] = data['date'] + MonthEnd(0) - MonthBegin(1) + pd.Timedelta(days=5)\n",
    "    data['date_t'] = data['date'] + MonthEnd(0)\n",
    "    \n",
    "    # Seperate first and last trade dataframes\n",
    "    first = data.groupby(['issue_id', data['date'].dt.year, data['date'].dt.month]).head(1).copy()\n",
    "    last = data.groupby(['issue_id', data['date'].dt.year, data['date'].dt.month]).tail(1).copy()\n",
    "    \n",
    "    # Respective price only if date requirement is satisifed \n",
    "    first['price_t'] = np.where((first['date'] < first['month_start']),\n",
    "                                 first['price'] + first['accrued_interest'], np.nan)\n",
    "    last['full_price_t'] = np.where(~(last['date'] < last['month_end']),\n",
    "                                      last['price'] + last['accrued_interest'] + last['coupon'], np.nan)\n",
    "    \n",
    "    # Merges first and last on true month end\n",
    "    merged = pd.merge(first, last[['issue_id', 'date_t', 'full_price_t']], on=['issue_id', 'date_t'])\n",
    "\n",
    "    # Computes the return\n",
    "    merged['return'] = (merged['full_price_t'] / merged['price_t']) - 1\n",
    "    \n",
    "    # Drops observations where there is no return, assigns month end value\n",
    "    data = merged.dropna(subset='return').copy()\n",
    "    data['date'] = data['date'] + MonthEnd(0)\n",
    "    \n",
    "    return data"
   ]
  },
  {
   "cell_type": "code",
   "execution_count": 562,
   "id": "2b84da7b-7a6d-4413-8014-bb80f3c6d8e4",
   "metadata": {},
   "outputs": [],
   "source": [
    "start_data = start_month_returns(data)"
   ]
  },
  {
   "cell_type": "code",
   "execution_count": 563,
   "id": "5c1d9b09-3cd9-423c-ba97-f883a1cdfb61",
   "metadata": {},
   "outputs": [
    {
     "data": {
      "text/plain": [
       "(5516, 42)"
      ]
     },
     "execution_count": 563,
     "metadata": {},
     "output_type": "execute_result"
    }
   ],
   "source": [
    "start_data.shape"
   ]
  },
  {
   "cell_type": "code",
   "execution_count": 566,
   "id": "680be78f-32bd-44a8-a584-891ffb90bfb2",
   "metadata": {},
   "outputs": [
    {
     "data": {
      "text/html": [
       "<div>\n",
       "<style scoped>\n",
       "    .dataframe tbody tr th:only-of-type {\n",
       "        vertical-align: middle;\n",
       "    }\n",
       "\n",
       "    .dataframe tbody tr th {\n",
       "        vertical-align: top;\n",
       "    }\n",
       "\n",
       "    .dataframe thead th {\n",
       "        text-align: right;\n",
       "    }\n",
       "</style>\n",
       "<table border=\"1\" class=\"dataframe\">\n",
       "  <thead>\n",
       "    <tr style=\"text-align: right;\">\n",
       "      <th></th>\n",
       "      <th>cusip_id</th>\n",
       "      <th>date</th>\n",
       "      <th>price</th>\n",
       "      <th>volume</th>\n",
       "      <th>issue_id</th>\n",
       "      <th>issuer_id</th>\n",
       "      <th>prospectus_issuer_name</th>\n",
       "      <th>maturity</th>\n",
       "      <th>security_level</th>\n",
       "      <th>offering_amt</th>\n",
       "      <th>...</th>\n",
       "      <th>tr_dirty_price</th>\n",
       "      <th>tr_ytm</th>\n",
       "      <th>cs</th>\n",
       "      <th>days_to_maturity</th>\n",
       "      <th>month_end</th>\n",
       "      <th>month_start</th>\n",
       "      <th>date_t</th>\n",
       "      <th>price_t</th>\n",
       "      <th>full_price_t</th>\n",
       "      <th>return</th>\n",
       "    </tr>\n",
       "  </thead>\n",
       "  <tbody>\n",
       "    <tr>\n",
       "      <th>0</th>\n",
       "      <td>00077QAG5</td>\n",
       "      <td>2002-07-31</td>\n",
       "      <td>109.190002</td>\n",
       "      <td>4000000</td>\n",
       "      <td>55723</td>\n",
       "      <td>6097</td>\n",
       "      <td>ABN AMRO BK N V CHICAGO BRH</td>\n",
       "      <td>2007-06-18</td>\n",
       "      <td>SENS</td>\n",
       "      <td>750000</td>\n",
       "      <td>...</td>\n",
       "      <td>113.762276</td>\n",
       "      <td>4.089739</td>\n",
       "      <td>0.920484</td>\n",
       "      <td>1813 days</td>\n",
       "      <td>2002-07-26</td>\n",
       "      <td>2002-07-06</td>\n",
       "      <td>2002-07-31</td>\n",
       "      <td>109.443077</td>\n",
       "      <td>119.118088</td>\n",
       "      <td>0.088402</td>\n",
       "    </tr>\n",
       "    <tr>\n",
       "      <th>36</th>\n",
       "      <td>00077QAG5</td>\n",
       "      <td>2002-08-31</td>\n",
       "      <td>105.827003</td>\n",
       "      <td>60000</td>\n",
       "      <td>55723</td>\n",
       "      <td>6097</td>\n",
       "      <td>ABN AMRO BK N V CHICAGO BRH</td>\n",
       "      <td>2007-06-18</td>\n",
       "      <td>SENS</td>\n",
       "      <td>750000</td>\n",
       "      <td>...</td>\n",
       "      <td>117.340263</td>\n",
       "      <td>3.427217</td>\n",
       "      <td>2.309816</td>\n",
       "      <td>1782 days</td>\n",
       "      <td>2002-08-26</td>\n",
       "      <td>2002-08-06</td>\n",
       "      <td>2002-08-31</td>\n",
       "      <td>106.683563</td>\n",
       "      <td>119.546104</td>\n",
       "      <td>0.120567</td>\n",
       "    </tr>\n",
       "    <tr>\n",
       "      <th>68</th>\n",
       "      <td>00077QAG5</td>\n",
       "      <td>2002-09-30</td>\n",
       "      <td>109.540001</td>\n",
       "      <td>50000</td>\n",
       "      <td>55723</td>\n",
       "      <td>6097</td>\n",
       "      <td>ABN AMRO BK N V CHICAGO BRH</td>\n",
       "      <td>2007-06-18</td>\n",
       "      <td>SENS</td>\n",
       "      <td>750000</td>\n",
       "      <td>...</td>\n",
       "      <td>119.898201</td>\n",
       "      <td>2.975083</td>\n",
       "      <td>1.891342</td>\n",
       "      <td>1749 days</td>\n",
       "      <td>2002-09-25</td>\n",
       "      <td>2002-09-06</td>\n",
       "      <td>2002-09-30</td>\n",
       "      <td>111.038979</td>\n",
       "      <td>123.075592</td>\n",
       "      <td>0.108400</td>\n",
       "    </tr>\n",
       "    <tr>\n",
       "      <th>113</th>\n",
       "      <td>00077QAG5</td>\n",
       "      <td>2002-10-31</td>\n",
       "      <td>112.563156</td>\n",
       "      <td>16450000</td>\n",
       "      <td>55723</td>\n",
       "      <td>6097</td>\n",
       "      <td>ABN AMRO BK N V CHICAGO BRH</td>\n",
       "      <td>2007-06-18</td>\n",
       "      <td>SENS</td>\n",
       "      <td>750000</td>\n",
       "      <td>...</td>\n",
       "      <td>121.612839</td>\n",
       "      <td>2.679003</td>\n",
       "      <td>1.479867</td>\n",
       "      <td>1720 days</td>\n",
       "      <td>2002-10-26</td>\n",
       "      <td>2002-10-06</td>\n",
       "      <td>2002-10-31</td>\n",
       "      <td>114.626678</td>\n",
       "      <td>121.378075</td>\n",
       "      <td>0.058899</td>\n",
       "    </tr>\n",
       "    <tr>\n",
       "      <th>147</th>\n",
       "      <td>00077QAG5</td>\n",
       "      <td>2002-11-30</td>\n",
       "      <td>110.627296</td>\n",
       "      <td>675000</td>\n",
       "      <td>55723</td>\n",
       "      <td>6097</td>\n",
       "      <td>ABN AMRO BK N V CHICAGO BRH</td>\n",
       "      <td>2007-06-18</td>\n",
       "      <td>SENS</td>\n",
       "      <td>750000</td>\n",
       "      <td>...</td>\n",
       "      <td>120.992126</td>\n",
       "      <td>2.871157</td>\n",
       "      <td>1.676800</td>\n",
       "      <td>1687 days</td>\n",
       "      <td>2002-11-25</td>\n",
       "      <td>2002-11-06</td>\n",
       "      <td>2002-11-30</td>\n",
       "      <td>113.333237</td>\n",
       "      <td>122.315201</td>\n",
       "      <td>0.079253</td>\n",
       "    </tr>\n",
       "  </tbody>\n",
       "</table>\n",
       "<p>5 rows × 42 columns</p>\n",
       "</div>"
      ],
      "text/plain": [
       "      cusip_id       date       price    volume  issue_id  issuer_id  \\\n",
       "0    00077QAG5 2002-07-31  109.190002   4000000     55723       6097   \n",
       "36   00077QAG5 2002-08-31  105.827003     60000     55723       6097   \n",
       "68   00077QAG5 2002-09-30  109.540001     50000     55723       6097   \n",
       "113  00077QAG5 2002-10-31  112.563156  16450000     55723       6097   \n",
       "147  00077QAG5 2002-11-30  110.627296    675000     55723       6097   \n",
       "\n",
       "          prospectus_issuer_name   maturity security_level  offering_amt  ...  \\\n",
       "0    ABN AMRO BK N V CHICAGO BRH 2007-06-18           SENS        750000  ...   \n",
       "36   ABN AMRO BK N V CHICAGO BRH 2007-06-18           SENS        750000  ...   \n",
       "68   ABN AMRO BK N V CHICAGO BRH 2007-06-18           SENS        750000  ...   \n",
       "113  ABN AMRO BK N V CHICAGO BRH 2007-06-18           SENS        750000  ...   \n",
       "147  ABN AMRO BK N V CHICAGO BRH 2007-06-18           SENS        750000  ...   \n",
       "\n",
       "     tr_dirty_price    tr_ytm        cs  days_to_maturity  month_end  \\\n",
       "0        113.762276  4.089739  0.920484         1813 days 2002-07-26   \n",
       "36       117.340263  3.427217  2.309816         1782 days 2002-08-26   \n",
       "68       119.898201  2.975083  1.891342         1749 days 2002-09-25   \n",
       "113      121.612839  2.679003  1.479867         1720 days 2002-10-26   \n",
       "147      120.992126  2.871157  1.676800         1687 days 2002-11-25   \n",
       "\n",
       "    month_start     date_t     price_t full_price_t    return  \n",
       "0    2002-07-06 2002-07-31  109.443077   119.118088  0.088402  \n",
       "36   2002-08-06 2002-08-31  106.683563   119.546104  0.120567  \n",
       "68   2002-09-06 2002-09-30  111.038979   123.075592  0.108400  \n",
       "113  2002-10-06 2002-10-31  114.626678   121.378075  0.058899  \n",
       "147  2002-11-06 2002-11-30  113.333237   122.315201  0.079253  \n",
       "\n",
       "[5 rows x 42 columns]"
      ]
     },
     "execution_count": 566,
     "metadata": {},
     "output_type": "execute_result"
    }
   ],
   "source": [
    "start_data"
   ]
  },
  {
   "cell_type": "code",
   "execution_count": null,
   "id": "e59dc0ab-53c4-4d0f-8844-b02022f2dc43",
   "metadata": {},
   "outputs": [],
   "source": []
  }
 ],
 "metadata": {
  "kernelspec": {
   "display_name": "Python 3 (ipykernel)",
   "language": "python",
   "name": "python3"
  },
  "language_info": {
   "codemirror_mode": {
    "name": "ipython",
    "version": 3
   },
   "file_extension": ".py",
   "mimetype": "text/x-python",
   "name": "python",
   "nbconvert_exporter": "python",
   "pygments_lexer": "ipython3",
   "version": "3.9.12"
  }
 },
 "nbformat": 4,
 "nbformat_minor": 5
}
