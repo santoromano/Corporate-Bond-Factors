{
 "cells": [
  {
   "cell_type": "markdown",
   "id": "82dd4293-2914-4de8-b48c-7b7f8a45b42c",
   "metadata": {
    "jp-MarkdownHeadingCollapsed": true,
    "tags": []
   },
   "source": [
    "## Cleans TRACE Corporate Bond Data"
   ]
  },
  {
   "cell_type": "code",
   "execution_count": 1,
   "id": "8e02e1d8-eb0d-4cc3-8f09-42b521a26d10",
   "metadata": {},
   "outputs": [],
   "source": [
    "# Imports\n",
    "import pandas as pd\n",
    "import numpy as np"
   ]
  },
  {
   "cell_type": "code",
   "execution_count": 2,
   "id": "dca3961e-13eb-4b12-b2ef-11b017c9a3be",
   "metadata": {},
   "outputs": [],
   "source": [
    "# Loads in subset of prof Yoshio's data\n",
    "with pd.read_csv(\"prof_yoshio_data/trace_credit_spreads.csv\", chunksize=1000) as reader:\n",
    "    data = reader.get_chunk()"
   ]
  },
  {
   "cell_type": "code",
   "execution_count": 3,
   "id": "3e249196-425e-4c10-95a1-11b68ac0f94e",
   "metadata": {},
   "outputs": [
    {
     "name": "stdout",
     "output_type": "stream",
     "text": [
      "<class 'pandas.core.frame.DataFrame'>\n",
      "RangeIndex: 1000 entries, 0 to 999\n",
      "Data columns (total 40 columns):\n",
      " #   Column                  Non-Null Count  Dtype  \n",
      "---  ------                  --------------  -----  \n",
      " 0   cusip_id                1000 non-null   object \n",
      " 1   date                    1000 non-null   int64  \n",
      " 2   price                   1000 non-null   float64\n",
      " 3   volume                  1000 non-null   int64  \n",
      " 4   ISSUE_ID                1000 non-null   int64  \n",
      " 5   ISSUER_ID               1000 non-null   int64  \n",
      " 6   PROSPECTUS_ISSUER_NAME  1000 non-null   object \n",
      " 7   MATURITY                1000 non-null   int64  \n",
      " 8   SECURITY_LEVEL          1000 non-null   object \n",
      " 9   OFFERING_AMT            1000 non-null   int64  \n",
      " 10  OFFERING_DATE           1000 non-null   int64  \n",
      " 11  OFFERING_PRICE          852 non-null    float64\n",
      " 12  INTEREST_FREQUENCY      1000 non-null   int64  \n",
      " 13  COUPON                  1000 non-null   float64\n",
      " 14  standard                1000 non-null   int64  \n",
      " 15  putop                   1000 non-null   int64  \n",
      " 16  conv                    1000 non-null   int64  \n",
      " 17  junior                  1000 non-null   int64  \n",
      " 18  cusip                   1000 non-null   object \n",
      " 19  CALLABLE                842 non-null    object \n",
      " 20  MAKE_WHOLE              842 non-null    object \n",
      " 21  INDUSTRY_CODE           1000 non-null   int64  \n",
      " 22  SIC_CODE                1000 non-null   int64  \n",
      " 23  rating_date_spr         1000 non-null   int64  \n",
      " 24  rating_spr              1000 non-null   object \n",
      " 25  rating_mdy              987 non-null    object \n",
      " 26  rating_date_mdy         0 non-null      float64\n",
      " 27  SP_rat                  995 non-null    float64\n",
      " 28  Moody_rat               987 non-null    float64\n",
      " 29  AMOUNT_OUTSTANDING      1000 non-null   int64  \n",
      " 30  month1                  1000 non-null   int64  \n",
      " 31  accrued_interest        1000 non-null   float64\n",
      " 32  tau                     1000 non-null   float64\n",
      " 33  age                     1000 non-null   float64\n",
      " 34  rating                  1000 non-null   int64  \n",
      " 35  ytm                     927 non-null    float64\n",
      " 36  duration                927 non-null    float64\n",
      " 37  tr_dirty_price          927 non-null    float64\n",
      " 38  tr_ytm                  927 non-null    float64\n",
      " 39  cs                      927 non-null    float64\n",
      "dtypes: float64(14), int64(18), object(8)\n",
      "memory usage: 312.6+ KB\n"
     ]
    }
   ],
   "source": [
    "data.info()"
   ]
  },
  {
   "cell_type": "code",
   "execution_count": 174,
   "id": "5c0dd8ca-bb12-4d86-8518-beb92f3bd321",
   "metadata": {},
   "outputs": [],
   "source": [
    "# data.memory_usage(deep=True) \\\n",
    "# .gt(8000)"
   ]
  },
  {
   "cell_type": "markdown",
   "id": "f148fcd3-e317-47d7-8d08-1d30e58e0403",
   "metadata": {},
   "source": [
    "As expected all \"object\" (ie. string) columns use up the majority of the memory. The rest (float/int64s) are using 8 bytes, however these may also be reduced to 16 or 32."
   ]
  },
  {
   "cell_type": "code",
   "execution_count": 206,
   "id": "ab1a0cc5-0a52-46ce-ac7b-152a0ec0c9ca",
   "metadata": {},
   "outputs": [],
   "source": [
    "def cols(col_names, data_type):\n",
    "    '''\n",
    "    Takes in list of column names and a datatype and generates a dictionary\n",
    "    '''\n",
    "    return {col_names[i]: data_type for i in range(len(col_names))}"
   ]
  },
  {
   "cell_type": "code",
   "execution_count": 220,
   "id": "3af87430-99f6-4ef5-b3bb-29f361a51f96",
   "metadata": {},
   "outputs": [],
   "source": [
    "def clean_data_types(df):\n",
    "    '''\n",
    "    Cleans datatypes for raw data\n",
    "    '''\n",
    "    df.columns = map(str.lower, df.columns)\n",
    "    \n",
    "    # String/text columns\n",
    "    string_cols = ['cusip_id', 'cusip', 'prospectus_issuer_name']\n",
    "    strings = cols(string_cols, 'string[pyarrow]')\n",
    "\n",
    "    bool_cols = ['callable', 'make_whole', 'conv', 'junior']\n",
    "    bools = cols(bool_cols, 'bool')\n",
    "\n",
    "    category_cols = ['security_level', 'rating_spr', 'rating_mdy', 'standard', 'putop', 'industry_code']\n",
    "    categories = cols(category_cols, 'category')\n",
    "    df = df.drop([\"sp_rat\", \"moody_rat\", \"rating\", 'rating_date_spr', 'rating_date_mdy'], axis=1)\n",
    "\n",
    "    # Float/Integer columns\n",
    "    int8_cols = ['interest_frequency']\n",
    "    int8s = cols(int8_cols, 'int8')\n",
    "\n",
    "    df['sic_code'] = df['sic_code'].fillna(0)\n",
    "    int16_cols = ['sic_code']\n",
    "    int16s = cols(int16_cols, 'int16')\n",
    "\n",
    "    int32_cols = ['volume', 'offering_amt', 'amount_outstanding', 'issue_id', 'issuer_id']\n",
    "    int32s = cols(int32_cols, 'int32')\n",
    "\n",
    "    float32_cols = ['price', 'offering_price', 'coupon', 'accrued_interest', 'tau',\n",
    "                   'age', 'ytm', 'duration', 'tr_dirty_price', 'tr_ytm', 'cs']\n",
    "    float32s = cols(float32_cols, 'float32')\n",
    "\n",
    "    # Dates\n",
    "    # formula to convert to datetime: df['date'].apply(lambda x: pd.to_datetime(str(x), format='%Y%m%d'))\n",
    "    df['offering_date'] = df['offering_date'].fillna(0)\n",
    "    date_cols = ['date', 'maturity', 'offering_date', 'month1']\n",
    "    dates = cols(date_cols, 'int32')\n",
    "\n",
    "    # Applies type changes\n",
    "    types = strings | bools | categories | int8s | int16s | int32s | float32s | dates\n",
    "\n",
    "    return df.astype(types)"
   ]
  },
  {
   "cell_type": "code",
   "execution_count": 192,
   "id": "675aabaa-cb11-41e6-b986-4c3c2b20d8c1",
   "metadata": {},
   "outputs": [],
   "source": [
    "df = clean_data_types(df)\n",
    "# df.memory_usage(deep=True)"
   ]
  },
  {
   "cell_type": "code",
   "execution_count": 198,
   "id": "2ac7f211-0018-4d1f-a7ac-0d50c0f0b530",
   "metadata": {},
   "outputs": [
    {
     "name": "stdout",
     "output_type": "stream",
     "text": [
      "<class 'pandas.core.frame.DataFrame'>\n",
      "RangeIndex: 1000 entries, 0 to 999\n",
      "Data columns (total 35 columns):\n",
      " #   Column                  Non-Null Count  Dtype   \n",
      "---  ------                  --------------  -----   \n",
      " 0   cusip_id                1000 non-null   string  \n",
      " 1   date                    1000 non-null   int32   \n",
      " 2   price                   1000 non-null   float32 \n",
      " 3   volume                  1000 non-null   int32   \n",
      " 4   issue_id                1000 non-null   int32   \n",
      " 5   issuer_id               1000 non-null   int32   \n",
      " 6   prospectus_issuer_name  1000 non-null   string  \n",
      " 7   maturity                1000 non-null   int32   \n",
      " 8   security_level          1000 non-null   category\n",
      " 9   offering_amt            1000 non-null   int32   \n",
      " 10  offering_date           1000 non-null   int32   \n",
      " 11  offering_price          852 non-null    float32 \n",
      " 12  interest_frequency      1000 non-null   int8    \n",
      " 13  coupon                  1000 non-null   float32 \n",
      " 14  standard                1000 non-null   category\n",
      " 15  putop                   1000 non-null   category\n",
      " 16  conv                    1000 non-null   bool    \n",
      " 17  junior                  1000 non-null   bool    \n",
      " 18  cusip                   1000 non-null   string  \n",
      " 19  callable                1000 non-null   bool    \n",
      " 20  make_whole              1000 non-null   bool    \n",
      " 21  industry_code           1000 non-null   category\n",
      " 22  sic_code                1000 non-null   int16   \n",
      " 23  rating_spr              1000 non-null   category\n",
      " 24  rating_mdy              987 non-null    category\n",
      " 25  amount_outstanding      1000 non-null   int32   \n",
      " 26  month1                  1000 non-null   int32   \n",
      " 27  accrued_interest        1000 non-null   float32 \n",
      " 28  tau                     1000 non-null   float32 \n",
      " 29  age                     1000 non-null   float32 \n",
      " 30  ytm                     927 non-null    float32 \n",
      " 31  duration                927 non-null    float32 \n",
      " 32  tr_dirty_price          927 non-null    float32 \n",
      " 33  tr_ytm                  927 non-null    float32 \n",
      " 34  cs                      927 non-null    float32 \n",
      "dtypes: bool(4), category(6), float32(11), int16(1), int32(9), int8(1), string(3)\n",
      "memory usage: 135.2 KB\n"
     ]
    }
   ],
   "source": [
    "df.info()\n",
    "# Memory usage decreased by about half"
   ]
  },
  {
   "cell_type": "code",
   "execution_count": 204,
   "id": "ec4e4691-ee9d-447b-9d7c-03348cdb06c4",
   "metadata": {},
   "outputs": [
    {
     "name": "stderr",
     "output_type": "stream",
     "text": [
      "C:\\Users\\sroma\\AppData\\Local\\Temp\\ipykernel_25248\\3165405631.py:2: DtypeWarning: Columns (19,20) have mixed types. Specify dtype option on import or set low_memory=False.\n",
      "  data = pd.read_csv(\"prof_yoshio_data/trace_credit_spreads.csv\")\n"
     ]
    },
    {
     "name": "stdout",
     "output_type": "stream",
     "text": [
      "14090424.827 KB\n"
     ]
    }
   ],
   "source": [
    "# Loads in whole data\n",
    "data = pd.read_csv(\"prof_yoshio_data/trace_credit_spreads.csv\")"
   ]
  },
  {
   "cell_type": "code",
   "execution_count": 221,
   "id": "4bec9e4d-0e9f-4021-ae4e-99899d159ad1",
   "metadata": {},
   "outputs": [
    {
     "name": "stdout",
     "output_type": "stream",
     "text": [
      "14090424.827 KB\n"
     ]
    }
   ],
   "source": [
    "# Cleans data\n",
    "cleaned_data = clean_data_types(data)"
   ]
  },
  {
   "cell_type": "code",
   "execution_count": null,
   "id": "17c22446-dd6b-4832-92e0-cafd1be6b1e8",
   "metadata": {},
   "outputs": [],
   "source": [
    "# Saves cleaned data\n",
    "cleaned_data.to_csv('cleaned_data.csv')"
   ]
  },
  {
   "cell_type": "code",
   "execution_count": 222,
   "id": "65514762-b45d-490c-b55f-d09c9346c86e",
   "metadata": {},
   "outputs": [
    {
     "name": "stdout",
     "output_type": "stream",
     "text": [
      "<class 'pandas.core.frame.DataFrame'>\n",
      "RangeIndex: 18833993 entries, 0 to 18833992\n",
      "Data columns (total 40 columns):\n",
      " #   Column                  Dtype  \n",
      "---  ------                  -----  \n",
      " 0   cusip_id                object \n",
      " 1   date                    int64  \n",
      " 2   price                   float64\n",
      " 3   volume                  float64\n",
      " 4   issue_id                int64  \n",
      " 5   issuer_id               int64  \n",
      " 6   prospectus_issuer_name  object \n",
      " 7   maturity                int64  \n",
      " 8   security_level          object \n",
      " 9   offering_amt            float64\n",
      " 10  offering_date           float64\n",
      " 11  offering_price          float64\n",
      " 12  interest_frequency      int64  \n",
      " 13  coupon                  float64\n",
      " 14  standard                int64  \n",
      " 15  putop                   int64  \n",
      " 16  conv                    int64  \n",
      " 17  junior                  int64  \n",
      " 18  cusip                   object \n",
      " 19  callable                object \n",
      " 20  make_whole              object \n",
      " 21  industry_code           int64  \n",
      " 22  sic_code                float64\n",
      " 23  rating_date_spr         float64\n",
      " 24  rating_spr              object \n",
      " 25  rating_mdy              object \n",
      " 26  rating_date_mdy         float64\n",
      " 27  sp_rat                  float64\n",
      " 28  moody_rat               float64\n",
      " 29  amount_outstanding      float64\n",
      " 30  month1                  int64  \n",
      " 31  accrued_interest        float64\n",
      " 32  tau                     float64\n",
      " 33  age                     float64\n",
      " 34  rating                  float64\n",
      " 35  ytm                     float64\n",
      " 36  duration                float64\n",
      " 37  tr_dirty_price          float64\n",
      " 38  tr_ytm                  float64\n",
      " 39  cs                      float64\n",
      "dtypes: float64(21), int64(11), object(8)\n",
      "memory usage: 5.6+ GB\n"
     ]
    }
   ],
   "source": [
    "data.info()"
   ]
  },
  {
   "cell_type": "code",
   "execution_count": 224,
   "id": "b8c8a2f3-d058-48c3-8ce9-62ecbdd20320",
   "metadata": {},
   "outputs": [
    {
     "name": "stdout",
     "output_type": "stream",
     "text": [
      "<class 'pandas.core.frame.DataFrame'>\n",
      "RangeIndex: 18833993 entries, 0 to 18833992\n",
      "Data columns (total 35 columns):\n",
      " #   Column                  Dtype   \n",
      "---  ------                  -----   \n",
      " 0   cusip_id                string  \n",
      " 1   date                    int32   \n",
      " 2   price                   float32 \n",
      " 3   volume                  int32   \n",
      " 4   issue_id                int32   \n",
      " 5   issuer_id               int32   \n",
      " 6   prospectus_issuer_name  string  \n",
      " 7   maturity                int32   \n",
      " 8   security_level          category\n",
      " 9   offering_amt            int32   \n",
      " 10  offering_date           int32   \n",
      " 11  offering_price          float32 \n",
      " 12  interest_frequency      int8    \n",
      " 13  coupon                  float32 \n",
      " 14  standard                category\n",
      " 15  putop                   category\n",
      " 16  conv                    bool    \n",
      " 17  junior                  bool    \n",
      " 18  cusip                   string  \n",
      " 19  callable                bool    \n",
      " 20  make_whole              bool    \n",
      " 21  industry_code           category\n",
      " 22  sic_code                int16   \n",
      " 23  rating_spr              category\n",
      " 24  rating_mdy              category\n",
      " 25  amount_outstanding      int32   \n",
      " 26  month1                  int32   \n",
      " 27  accrued_interest        float32 \n",
      " 28  tau                     float32 \n",
      " 29  age                     float32 \n",
      " 30  ytm                     float32 \n",
      " 31  duration                float32 \n",
      " 32  tr_dirty_price          float32 \n",
      " 33  tr_ytm                  float32 \n",
      " 34  cs                      float32 \n",
      "dtypes: bool(4), category(6), float32(11), int16(1), int32(9), int8(1), string(3)\n",
      "memory usage: 2.5 GB\n"
     ]
    }
   ],
   "source": [
    "cleaned_data.info()"
   ]
  },
  {
   "cell_type": "markdown",
   "id": "a6956fea-eaea-40fd-86b1-25e583b002f8",
   "metadata": {},
   "source": [
    "# Aggregates Data to Monthly"
   ]
  },
  {
   "cell_type": "code",
   "execution_count": 1,
   "id": "13fe0ecf-a975-4340-a08e-b726f01eb58f",
   "metadata": {},
   "outputs": [],
   "source": [
    "# Imports\n",
    "import pandas as pd\n",
    "import numpy as np\n",
    "import datetime as dt\n",
    "import matplotlib.pyplot as plt\n",
    "from dateutil.relativedelta import *\n",
    "from pandas.tseries.offsets import *"
   ]
  },
  {
   "cell_type": "code",
   "execution_count": null,
   "id": "6ccd3534-c240-40a9-94c2-23cabbd88608",
   "metadata": {},
   "outputs": [],
   "source": [
    "# Loads in subset of cleaned data\n",
    "with pd.read_csv(\"prof_yoshio_data/cleaned_data.csv\", chunksize=100_000) as reader:\n",
    "    data = reader.get_chunk()"
   ]
  },
  {
   "cell_type": "code",
   "execution_count": null,
   "id": "10e24265-6144-42cc-8966-cc1fb3874026",
   "metadata": {},
   "outputs": [],
   "source": [
    "data.head()"
   ]
  }
 ],
 "metadata": {
  "kernelspec": {
   "display_name": "Python 3 (ipykernel)",
   "language": "python",
   "name": "python3"
  },
  "language_info": {
   "codemirror_mode": {
    "name": "ipython",
    "version": 3
   },
   "file_extension": ".py",
   "mimetype": "text/x-python",
   "name": "python",
   "nbconvert_exporter": "python",
   "pygments_lexer": "ipython3",
   "version": "3.9.12"
  }
 },
 "nbformat": 4,
 "nbformat_minor": 5
}
