{
 "cells": [
  {
   "cell_type": "markdown",
   "id": "82dd4293-2914-4de8-b48c-7b7f8a45b42c",
   "metadata": {
    "jp-MarkdownHeadingCollapsed": true,
    "tags": []
   },
   "source": [
    "## Cleans TRACE Corporate Bond Data"
   ]
  },
  {
   "cell_type": "code",
   "execution_count": 1,
   "id": "8e02e1d8-eb0d-4cc3-8f09-42b521a26d10",
   "metadata": {},
   "outputs": [],
   "source": [
    "# Imports\n",
    "import pandas as pd\n",
    "import numpy as np"
   ]
  },
  {
   "cell_type": "code",
   "execution_count": 2,
   "id": "dca3961e-13eb-4b12-b2ef-11b017c9a3be",
   "metadata": {},
   "outputs": [],
   "source": [
    "# Loads in subset of prof Yoshio's data\n",
    "with pd.read_csv(\"prof_yoshio_data/trace_credit_spreads.csv\", chunksize=1000) as reader:\n",
    "    data = reader.get_chunk()"
   ]
  },
  {
   "cell_type": "code",
   "execution_count": 3,
   "id": "5ac91820-095f-47f0-a8ef-b467f261334c",
   "metadata": {},
   "outputs": [
    {
     "data": {
      "text/html": [
       "<div>\n",
       "<style scoped>\n",
       "    .dataframe tbody tr th:only-of-type {\n",
       "        vertical-align: middle;\n",
       "    }\n",
       "\n",
       "    .dataframe tbody tr th {\n",
       "        vertical-align: top;\n",
       "    }\n",
       "\n",
       "    .dataframe thead th {\n",
       "        text-align: right;\n",
       "    }\n",
       "</style>\n",
       "<table border=\"1\" class=\"dataframe\">\n",
       "  <thead>\n",
       "    <tr style=\"text-align: right;\">\n",
       "      <th></th>\n",
       "      <th>cusip_id</th>\n",
       "      <th>date</th>\n",
       "      <th>price</th>\n",
       "      <th>volume</th>\n",
       "      <th>ISSUE_ID</th>\n",
       "      <th>ISSUER_ID</th>\n",
       "      <th>PROSPECTUS_ISSUER_NAME</th>\n",
       "      <th>MATURITY</th>\n",
       "      <th>SECURITY_LEVEL</th>\n",
       "      <th>OFFERING_AMT</th>\n",
       "      <th>...</th>\n",
       "      <th>month1</th>\n",
       "      <th>accrued_interest</th>\n",
       "      <th>tau</th>\n",
       "      <th>age</th>\n",
       "      <th>rating</th>\n",
       "      <th>ytm</th>\n",
       "      <th>duration</th>\n",
       "      <th>tr_dirty_price</th>\n",
       "      <th>tr_ytm</th>\n",
       "      <th>cs</th>\n",
       "    </tr>\n",
       "  </thead>\n",
       "  <tbody>\n",
       "    <tr>\n",
       "      <th>0</th>\n",
       "      <td>000325AA8</td>\n",
       "      <td>20020715</td>\n",
       "      <td>100.750000</td>\n",
       "      <td>18618000</td>\n",
       "      <td>36572</td>\n",
       "      <td>6006</td>\n",
       "      <td>AAF-MCQUAY INC</td>\n",
       "      <td>20030215</td>\n",
       "      <td>SEN</td>\n",
       "      <td>125000</td>\n",
       "      <td>...</td>\n",
       "      <td>20020815</td>\n",
       "      <td>3.677486</td>\n",
       "      <td>0.589041</td>\n",
       "      <td>6.432877</td>\n",
       "      <td>14</td>\n",
       "      <td>NaN</td>\n",
       "      <td>NaN</td>\n",
       "      <td>NaN</td>\n",
       "      <td>NaN</td>\n",
       "      <td>NaN</td>\n",
       "    </tr>\n",
       "    <tr>\n",
       "      <th>1</th>\n",
       "      <td>000325AA8</td>\n",
       "      <td>20020722</td>\n",
       "      <td>95.125000</td>\n",
       "      <td>235000</td>\n",
       "      <td>36572</td>\n",
       "      <td>6006</td>\n",
       "      <td>AAF-MCQUAY INC</td>\n",
       "      <td>20030215</td>\n",
       "      <td>SEN</td>\n",
       "      <td>125000</td>\n",
       "      <td>...</td>\n",
       "      <td>20020815</td>\n",
       "      <td>3.849102</td>\n",
       "      <td>0.569863</td>\n",
       "      <td>6.452055</td>\n",
       "      <td>14</td>\n",
       "      <td>NaN</td>\n",
       "      <td>NaN</td>\n",
       "      <td>NaN</td>\n",
       "      <td>NaN</td>\n",
       "      <td>NaN</td>\n",
       "    </tr>\n",
       "    <tr>\n",
       "      <th>2</th>\n",
       "      <td>000325AA8</td>\n",
       "      <td>20020724</td>\n",
       "      <td>100.675134</td>\n",
       "      <td>23250000</td>\n",
       "      <td>36572</td>\n",
       "      <td>6006</td>\n",
       "      <td>AAF-MCQUAY INC</td>\n",
       "      <td>20030215</td>\n",
       "      <td>SEN</td>\n",
       "      <td>125000</td>\n",
       "      <td>...</td>\n",
       "      <td>20020815</td>\n",
       "      <td>3.898135</td>\n",
       "      <td>0.564384</td>\n",
       "      <td>6.457534</td>\n",
       "      <td>14</td>\n",
       "      <td>NaN</td>\n",
       "      <td>NaN</td>\n",
       "      <td>NaN</td>\n",
       "      <td>NaN</td>\n",
       "      <td>NaN</td>\n",
       "    </tr>\n",
       "    <tr>\n",
       "      <th>3</th>\n",
       "      <td>000325AA8</td>\n",
       "      <td>20020726</td>\n",
       "      <td>100.625000</td>\n",
       "      <td>200000</td>\n",
       "      <td>36572</td>\n",
       "      <td>6006</td>\n",
       "      <td>AAF-MCQUAY INC</td>\n",
       "      <td>20030215</td>\n",
       "      <td>SEN</td>\n",
       "      <td>125000</td>\n",
       "      <td>...</td>\n",
       "      <td>20020815</td>\n",
       "      <td>3.947169</td>\n",
       "      <td>0.558904</td>\n",
       "      <td>6.463014</td>\n",
       "      <td>14</td>\n",
       "      <td>NaN</td>\n",
       "      <td>NaN</td>\n",
       "      <td>NaN</td>\n",
       "      <td>NaN</td>\n",
       "      <td>NaN</td>\n",
       "    </tr>\n",
       "    <tr>\n",
       "      <th>4</th>\n",
       "      <td>000325AA8</td>\n",
       "      <td>20020807</td>\n",
       "      <td>95.000000</td>\n",
       "      <td>416000</td>\n",
       "      <td>36572</td>\n",
       "      <td>6006</td>\n",
       "      <td>AAF-MCQUAY INC</td>\n",
       "      <td>20030215</td>\n",
       "      <td>SEN</td>\n",
       "      <td>125000</td>\n",
       "      <td>...</td>\n",
       "      <td>20020815</td>\n",
       "      <td>4.241367</td>\n",
       "      <td>0.526027</td>\n",
       "      <td>6.495890</td>\n",
       "      <td>14</td>\n",
       "      <td>NaN</td>\n",
       "      <td>NaN</td>\n",
       "      <td>NaN</td>\n",
       "      <td>NaN</td>\n",
       "      <td>NaN</td>\n",
       "    </tr>\n",
       "    <tr>\n",
       "      <th>...</th>\n",
       "      <td>...</td>\n",
       "      <td>...</td>\n",
       "      <td>...</td>\n",
       "      <td>...</td>\n",
       "      <td>...</td>\n",
       "      <td>...</td>\n",
       "      <td>...</td>\n",
       "      <td>...</td>\n",
       "      <td>...</td>\n",
       "      <td>...</td>\n",
       "      <td>...</td>\n",
       "      <td>...</td>\n",
       "      <td>...</td>\n",
       "      <td>...</td>\n",
       "      <td>...</td>\n",
       "      <td>...</td>\n",
       "      <td>...</td>\n",
       "      <td>...</td>\n",
       "      <td>...</td>\n",
       "      <td>...</td>\n",
       "      <td>...</td>\n",
       "    </tr>\n",
       "    <tr>\n",
       "      <th>995</th>\n",
       "      <td>00037BAA0</td>\n",
       "      <td>20150428</td>\n",
       "      <td>101.194000</td>\n",
       "      <td>60000</td>\n",
       "      <td>574887</td>\n",
       "      <td>43173</td>\n",
       "      <td>ABB FIN USA INC</td>\n",
       "      <td>20170508</td>\n",
       "      <td>SEN</td>\n",
       "      <td>500000</td>\n",
       "      <td>...</td>\n",
       "      <td>20150508</td>\n",
       "      <td>0.767610</td>\n",
       "      <td>2.030137</td>\n",
       "      <td>2.986301</td>\n",
       "      <td>6</td>\n",
       "      <td>1.028450</td>\n",
       "      <td>1.988149</td>\n",
       "      <td>102.836989</td>\n",
       "      <td>0.596744</td>\n",
       "      <td>0.431705</td>\n",
       "    </tr>\n",
       "    <tr>\n",
       "      <th>996</th>\n",
       "      <td>00037BAA0</td>\n",
       "      <td>20150429</td>\n",
       "      <td>101.054345</td>\n",
       "      <td>1450000</td>\n",
       "      <td>574887</td>\n",
       "      <td>43173</td>\n",
       "      <td>ABB FIN USA INC</td>\n",
       "      <td>20170508</td>\n",
       "      <td>SEN</td>\n",
       "      <td>500000</td>\n",
       "      <td>...</td>\n",
       "      <td>20150508</td>\n",
       "      <td>0.772099</td>\n",
       "      <td>2.027397</td>\n",
       "      <td>2.989041</td>\n",
       "      <td>6</td>\n",
       "      <td>1.097052</td>\n",
       "      <td>1.985332</td>\n",
       "      <td>102.821240</td>\n",
       "      <td>0.605305</td>\n",
       "      <td>0.491747</td>\n",
       "    </tr>\n",
       "    <tr>\n",
       "      <th>997</th>\n",
       "      <td>00037BAA0</td>\n",
       "      <td>20150430</td>\n",
       "      <td>101.122000</td>\n",
       "      <td>55000</td>\n",
       "      <td>574887</td>\n",
       "      <td>43173</td>\n",
       "      <td>ABB FIN USA INC</td>\n",
       "      <td>20170508</td>\n",
       "      <td>SEN</td>\n",
       "      <td>500000</td>\n",
       "      <td>...</td>\n",
       "      <td>20150508</td>\n",
       "      <td>0.776588</td>\n",
       "      <td>2.024658</td>\n",
       "      <td>2.991781</td>\n",
       "      <td>6</td>\n",
       "      <td>1.062663</td>\n",
       "      <td>1.982574</td>\n",
       "      <td>102.807227</td>\n",
       "      <td>0.613036</td>\n",
       "      <td>0.449627</td>\n",
       "    </tr>\n",
       "    <tr>\n",
       "      <th>998</th>\n",
       "      <td>00037BAA0</td>\n",
       "      <td>20150504</td>\n",
       "      <td>100.966402</td>\n",
       "      <td>2190000</td>\n",
       "      <td>574887</td>\n",
       "      <td>43173</td>\n",
       "      <td>ABB FIN USA INC</td>\n",
       "      <td>20170508</td>\n",
       "      <td>SEN</td>\n",
       "      <td>500000</td>\n",
       "      <td>...</td>\n",
       "      <td>20150508</td>\n",
       "      <td>0.794544</td>\n",
       "      <td>2.013699</td>\n",
       "      <td>3.002740</td>\n",
       "      <td>6</td>\n",
       "      <td>1.137560</td>\n",
       "      <td>1.971419</td>\n",
       "      <td>102.752543</td>\n",
       "      <td>0.643516</td>\n",
       "      <td>0.494044</td>\n",
       "    </tr>\n",
       "    <tr>\n",
       "      <th>999</th>\n",
       "      <td>00037BAA0</td>\n",
       "      <td>20150505</td>\n",
       "      <td>101.055000</td>\n",
       "      <td>20000</td>\n",
       "      <td>574887</td>\n",
       "      <td>43173</td>\n",
       "      <td>ABB FIN USA INC</td>\n",
       "      <td>20170508</td>\n",
       "      <td>SEN</td>\n",
       "      <td>500000</td>\n",
       "      <td>...</td>\n",
       "      <td>20150508</td>\n",
       "      <td>0.799033</td>\n",
       "      <td>2.010959</td>\n",
       "      <td>3.005479</td>\n",
       "      <td>6</td>\n",
       "      <td>1.092453</td>\n",
       "      <td>1.968667</td>\n",
       "      <td>102.721257</td>\n",
       "      <td>0.659930</td>\n",
       "      <td>0.432523</td>\n",
       "    </tr>\n",
       "  </tbody>\n",
       "</table>\n",
       "<p>1000 rows × 40 columns</p>\n",
       "</div>"
      ],
      "text/plain": [
       "      cusip_id      date       price    volume  ISSUE_ID  ISSUER_ID  \\\n",
       "0    000325AA8  20020715  100.750000  18618000     36572       6006   \n",
       "1    000325AA8  20020722   95.125000    235000     36572       6006   \n",
       "2    000325AA8  20020724  100.675134  23250000     36572       6006   \n",
       "3    000325AA8  20020726  100.625000    200000     36572       6006   \n",
       "4    000325AA8  20020807   95.000000    416000     36572       6006   \n",
       "..         ...       ...         ...       ...       ...        ...   \n",
       "995  00037BAA0  20150428  101.194000     60000    574887      43173   \n",
       "996  00037BAA0  20150429  101.054345   1450000    574887      43173   \n",
       "997  00037BAA0  20150430  101.122000     55000    574887      43173   \n",
       "998  00037BAA0  20150504  100.966402   2190000    574887      43173   \n",
       "999  00037BAA0  20150505  101.055000     20000    574887      43173   \n",
       "\n",
       "    PROSPECTUS_ISSUER_NAME  MATURITY SECURITY_LEVEL  OFFERING_AMT  ...  \\\n",
       "0           AAF-MCQUAY INC  20030215            SEN        125000  ...   \n",
       "1           AAF-MCQUAY INC  20030215            SEN        125000  ...   \n",
       "2           AAF-MCQUAY INC  20030215            SEN        125000  ...   \n",
       "3           AAF-MCQUAY INC  20030215            SEN        125000  ...   \n",
       "4           AAF-MCQUAY INC  20030215            SEN        125000  ...   \n",
       "..                     ...       ...            ...           ...  ...   \n",
       "995        ABB FIN USA INC  20170508            SEN        500000  ...   \n",
       "996        ABB FIN USA INC  20170508            SEN        500000  ...   \n",
       "997        ABB FIN USA INC  20170508            SEN        500000  ...   \n",
       "998        ABB FIN USA INC  20170508            SEN        500000  ...   \n",
       "999        ABB FIN USA INC  20170508            SEN        500000  ...   \n",
       "\n",
       "       month1  accrued_interest       tau       age  rating       ytm  \\\n",
       "0    20020815          3.677486  0.589041  6.432877      14       NaN   \n",
       "1    20020815          3.849102  0.569863  6.452055      14       NaN   \n",
       "2    20020815          3.898135  0.564384  6.457534      14       NaN   \n",
       "3    20020815          3.947169  0.558904  6.463014      14       NaN   \n",
       "4    20020815          4.241367  0.526027  6.495890      14       NaN   \n",
       "..        ...               ...       ...       ...     ...       ...   \n",
       "995  20150508          0.767610  2.030137  2.986301       6  1.028450   \n",
       "996  20150508          0.772099  2.027397  2.989041       6  1.097052   \n",
       "997  20150508          0.776588  2.024658  2.991781       6  1.062663   \n",
       "998  20150508          0.794544  2.013699  3.002740       6  1.137560   \n",
       "999  20150508          0.799033  2.010959  3.005479       6  1.092453   \n",
       "\n",
       "     duration  tr_dirty_price    tr_ytm        cs  \n",
       "0         NaN             NaN       NaN       NaN  \n",
       "1         NaN             NaN       NaN       NaN  \n",
       "2         NaN             NaN       NaN       NaN  \n",
       "3         NaN             NaN       NaN       NaN  \n",
       "4         NaN             NaN       NaN       NaN  \n",
       "..        ...             ...       ...       ...  \n",
       "995  1.988149      102.836989  0.596744  0.431705  \n",
       "996  1.985332      102.821240  0.605305  0.491747  \n",
       "997  1.982574      102.807227  0.613036  0.449627  \n",
       "998  1.971419      102.752543  0.643516  0.494044  \n",
       "999  1.968667      102.721257  0.659930  0.432523  \n",
       "\n",
       "[1000 rows x 40 columns]"
      ]
     },
     "execution_count": 3,
     "metadata": {},
     "output_type": "execute_result"
    }
   ],
   "source": [
    "data"
   ]
  },
  {
   "cell_type": "code",
   "execution_count": 3,
   "id": "3e249196-425e-4c10-95a1-11b68ac0f94e",
   "metadata": {},
   "outputs": [
    {
     "name": "stdout",
     "output_type": "stream",
     "text": [
      "<class 'pandas.core.frame.DataFrame'>\n",
      "RangeIndex: 1000 entries, 0 to 999\n",
      "Data columns (total 40 columns):\n",
      " #   Column                  Non-Null Count  Dtype  \n",
      "---  ------                  --------------  -----  \n",
      " 0   cusip_id                1000 non-null   object \n",
      " 1   date                    1000 non-null   int64  \n",
      " 2   price                   1000 non-null   float64\n",
      " 3   volume                  1000 non-null   int64  \n",
      " 4   ISSUE_ID                1000 non-null   int64  \n",
      " 5   ISSUER_ID               1000 non-null   int64  \n",
      " 6   PROSPECTUS_ISSUER_NAME  1000 non-null   object \n",
      " 7   MATURITY                1000 non-null   int64  \n",
      " 8   SECURITY_LEVEL          1000 non-null   object \n",
      " 9   OFFERING_AMT            1000 non-null   int64  \n",
      " 10  OFFERING_DATE           1000 non-null   int64  \n",
      " 11  OFFERING_PRICE          852 non-null    float64\n",
      " 12  INTEREST_FREQUENCY      1000 non-null   int64  \n",
      " 13  COUPON                  1000 non-null   float64\n",
      " 14  standard                1000 non-null   int64  \n",
      " 15  putop                   1000 non-null   int64  \n",
      " 16  conv                    1000 non-null   int64  \n",
      " 17  junior                  1000 non-null   int64  \n",
      " 18  cusip                   1000 non-null   object \n",
      " 19  CALLABLE                842 non-null    object \n",
      " 20  MAKE_WHOLE              842 non-null    object \n",
      " 21  INDUSTRY_CODE           1000 non-null   int64  \n",
      " 22  SIC_CODE                1000 non-null   int64  \n",
      " 23  rating_date_spr         1000 non-null   int64  \n",
      " 24  rating_spr              1000 non-null   object \n",
      " 25  rating_mdy              987 non-null    object \n",
      " 26  rating_date_mdy         0 non-null      float64\n",
      " 27  SP_rat                  995 non-null    float64\n",
      " 28  Moody_rat               987 non-null    float64\n",
      " 29  AMOUNT_OUTSTANDING      1000 non-null   int64  \n",
      " 30  month1                  1000 non-null   int64  \n",
      " 31  accrued_interest        1000 non-null   float64\n",
      " 32  tau                     1000 non-null   float64\n",
      " 33  age                     1000 non-null   float64\n",
      " 34  rating                  1000 non-null   int64  \n",
      " 35  ytm                     927 non-null    float64\n",
      " 36  duration                927 non-null    float64\n",
      " 37  tr_dirty_price          927 non-null    float64\n",
      " 38  tr_ytm                  927 non-null    float64\n",
      " 39  cs                      927 non-null    float64\n",
      "dtypes: float64(14), int64(18), object(8)\n",
      "memory usage: 312.6+ KB\n"
     ]
    }
   ],
   "source": [
    "data.info()"
   ]
  },
  {
   "cell_type": "code",
   "execution_count": 174,
   "id": "5c0dd8ca-bb12-4d86-8518-beb92f3bd321",
   "metadata": {},
   "outputs": [],
   "source": [
    "# data.memory_usage(deep=True) \\\n",
    "# .gt(8000)"
   ]
  },
  {
   "cell_type": "markdown",
   "id": "f148fcd3-e317-47d7-8d08-1d30e58e0403",
   "metadata": {},
   "source": [
    "As expected all \"object\" (ie. string) columns use up the majority of the memory. The rest (float/int64s) are using 8 bytes, however these may also be reduced to 16 or 32."
   ]
  },
  {
   "cell_type": "code",
   "execution_count": 4,
   "id": "ab1a0cc5-0a52-46ce-ac7b-152a0ec0c9ca",
   "metadata": {},
   "outputs": [],
   "source": [
    "def cols(col_names, data_type):\n",
    "    '''\n",
    "    Takes in list of column names and a datatype and generates a dictionary\n",
    "    '''\n",
    "    return {col_names[i]: data_type for i in range(len(col_names))}"
   ]
  },
  {
   "cell_type": "code",
   "execution_count": 5,
   "id": "3af87430-99f6-4ef5-b3bb-29f361a51f96",
   "metadata": {},
   "outputs": [],
   "source": [
    "def clean_data_types(df):\n",
    "    '''\n",
    "    Cleans datatypes for raw data\n",
    "    '''\n",
    "    df.columns = map(str.lower, df.columns)\n",
    "    \n",
    "    # String/text columns\n",
    "    string_cols = ['cusip_id', 'cusip', 'prospectus_issuer_name']\n",
    "    strings = cols(string_cols, 'string[pyarrow]')\n",
    "\n",
    "    bool_cols = ['callable', 'make_whole', 'conv', 'junior']\n",
    "    bools = cols(bool_cols, 'bool')\n",
    "\n",
    "    category_cols = ['security_level', 'rating_spr', 'rating_mdy', 'standard', 'putop', 'industry_code']\n",
    "    categories = cols(category_cols, 'category')\n",
    "    try:\n",
    "        df = df.drop([\"sp_rat\", \"moody_rat\", \"rating\", 'rating_date_spr', 'rating_date_mdy'], axis=1)\n",
    "    except: pass\n",
    "        \n",
    "    # Float/Integer columns\n",
    "    int8_cols = ['interest_frequency']\n",
    "    int8s = cols(int8_cols, 'int8')\n",
    "\n",
    "    df['sic_code'] = df['sic_code'].fillna(0)\n",
    "    int16_cols = ['sic_code']\n",
    "    int16s = cols(int16_cols, 'int16')\n",
    "\n",
    "    int32_cols = ['volume', 'offering_amt', 'amount_outstanding', 'issue_id', 'issuer_id']\n",
    "    int32s = cols(int32_cols, 'int32')\n",
    "\n",
    "    float32_cols = ['price', 'offering_price', 'coupon', 'accrued_interest', 'tau',\n",
    "                   'age', 'ytm', 'duration', 'tr_dirty_price', 'tr_ytm', 'cs']\n",
    "    float32s = cols(float32_cols, 'float32')\n",
    "\n",
    "    # Dates\n",
    "    # formula to convert to datetime: df['date'].apply(lambda x: pd.to_datetime(str(x), format='%Y%m%d'))\n",
    "    df['offering_date'] = df['offering_date'].fillna(0)\n",
    "    date_cols = ['date', 'maturity', 'offering_date', 'month1']\n",
    "    dates = cols(date_cols, 'int32')\n",
    "\n",
    "    # Applies type changes\n",
    "    types = strings | bools | categories | int8s | int16s | int32s | float32s | dates\n",
    "\n",
    "    return df.astype(types)"
   ]
  },
  {
   "cell_type": "code",
   "execution_count": 192,
   "id": "675aabaa-cb11-41e6-b986-4c3c2b20d8c1",
   "metadata": {},
   "outputs": [],
   "source": [
    "df = clean_data_types(df)\n",
    "# df.memory_usage(deep=True)"
   ]
  },
  {
   "cell_type": "code",
   "execution_count": 198,
   "id": "2ac7f211-0018-4d1f-a7ac-0d50c0f0b530",
   "metadata": {},
   "outputs": [
    {
     "name": "stdout",
     "output_type": "stream",
     "text": [
      "<class 'pandas.core.frame.DataFrame'>\n",
      "RangeIndex: 1000 entries, 0 to 999\n",
      "Data columns (total 35 columns):\n",
      " #   Column                  Non-Null Count  Dtype   \n",
      "---  ------                  --------------  -----   \n",
      " 0   cusip_id                1000 non-null   string  \n",
      " 1   date                    1000 non-null   int32   \n",
      " 2   price                   1000 non-null   float32 \n",
      " 3   volume                  1000 non-null   int32   \n",
      " 4   issue_id                1000 non-null   int32   \n",
      " 5   issuer_id               1000 non-null   int32   \n",
      " 6   prospectus_issuer_name  1000 non-null   string  \n",
      " 7   maturity                1000 non-null   int32   \n",
      " 8   security_level          1000 non-null   category\n",
      " 9   offering_amt            1000 non-null   int32   \n",
      " 10  offering_date           1000 non-null   int32   \n",
      " 11  offering_price          852 non-null    float32 \n",
      " 12  interest_frequency      1000 non-null   int8    \n",
      " 13  coupon                  1000 non-null   float32 \n",
      " 14  standard                1000 non-null   category\n",
      " 15  putop                   1000 non-null   category\n",
      " 16  conv                    1000 non-null   bool    \n",
      " 17  junior                  1000 non-null   bool    \n",
      " 18  cusip                   1000 non-null   string  \n",
      " 19  callable                1000 non-null   bool    \n",
      " 20  make_whole              1000 non-null   bool    \n",
      " 21  industry_code           1000 non-null   category\n",
      " 22  sic_code                1000 non-null   int16   \n",
      " 23  rating_spr              1000 non-null   category\n",
      " 24  rating_mdy              987 non-null    category\n",
      " 25  amount_outstanding      1000 non-null   int32   \n",
      " 26  month1                  1000 non-null   int32   \n",
      " 27  accrued_interest        1000 non-null   float32 \n",
      " 28  tau                     1000 non-null   float32 \n",
      " 29  age                     1000 non-null   float32 \n",
      " 30  ytm                     927 non-null    float32 \n",
      " 31  duration                927 non-null    float32 \n",
      " 32  tr_dirty_price          927 non-null    float32 \n",
      " 33  tr_ytm                  927 non-null    float32 \n",
      " 34  cs                      927 non-null    float32 \n",
      "dtypes: bool(4), category(6), float32(11), int16(1), int32(9), int8(1), string(3)\n",
      "memory usage: 135.2 KB\n"
     ]
    }
   ],
   "source": [
    "df.info()\n",
    "# Memory usage decreased by about half"
   ]
  },
  {
   "cell_type": "code",
   "execution_count": 204,
   "id": "ec4e4691-ee9d-447b-9d7c-03348cdb06c4",
   "metadata": {},
   "outputs": [
    {
     "name": "stderr",
     "output_type": "stream",
     "text": [
      "C:\\Users\\sroma\\AppData\\Local\\Temp\\ipykernel_25248\\3165405631.py:2: DtypeWarning: Columns (19,20) have mixed types. Specify dtype option on import or set low_memory=False.\n",
      "  data = pd.read_csv(\"prof_yoshio_data/trace_credit_spreads.csv\")\n"
     ]
    },
    {
     "name": "stdout",
     "output_type": "stream",
     "text": [
      "14090424.827 KB\n"
     ]
    }
   ],
   "source": [
    "# Loads in whole data\n",
    "data = pd.read_csv(\"prof_yoshio_data/trace_credit_spreads.csv\")"
   ]
  },
  {
   "cell_type": "code",
   "execution_count": 221,
   "id": "4bec9e4d-0e9f-4021-ae4e-99899d159ad1",
   "metadata": {},
   "outputs": [
    {
     "name": "stdout",
     "output_type": "stream",
     "text": [
      "14090424.827 KB\n"
     ]
    }
   ],
   "source": [
    "# Cleans data\n",
    "cleaned_data = clean_data_types(data)"
   ]
  },
  {
   "cell_type": "code",
   "execution_count": null,
   "id": "17c22446-dd6b-4832-92e0-cafd1be6b1e8",
   "metadata": {},
   "outputs": [],
   "source": [
    "# Saves cleaned data\n",
    "cleaned_data.to_csv('cleaned_data.csv')"
   ]
  },
  {
   "cell_type": "code",
   "execution_count": 668,
   "id": "65514762-b45d-490c-b55f-d09c9346c86e",
   "metadata": {},
   "outputs": [],
   "source": [
    "# data.info()"
   ]
  },
  {
   "cell_type": "code",
   "execution_count": 667,
   "id": "b8c8a2f3-d058-48c3-8ce9-62ecbdd20320",
   "metadata": {},
   "outputs": [],
   "source": [
    "# cleaned_data.info()"
   ]
  },
  {
   "cell_type": "markdown",
   "id": "a6956fea-eaea-40fd-86b1-25e583b002f8",
   "metadata": {
    "tags": []
   },
   "source": [
    "# Aggregates Data to Monthly"
   ]
  },
  {
   "cell_type": "code",
   "execution_count": 6,
   "id": "13fe0ecf-a975-4340-a08e-b726f01eb58f",
   "metadata": {},
   "outputs": [],
   "source": [
    "# Imports\n",
    "import pandas as pd\n",
    "import numpy as np\n",
    "import datetime as dt\n",
    "import matplotlib.pyplot as plt\n",
    "from dateutil.relativedelta import *\n",
    "from pandas.tseries.offsets import *"
   ]
  },
  {
   "cell_type": "code",
   "execution_count": 7,
   "id": "6ccd3534-c240-40a9-94c2-23cabbd88608",
   "metadata": {},
   "outputs": [],
   "source": [
    "# Loads in subset of cleaned data\n",
    "with pd.read_csv(\"cleaned_data.csv\", chunksize=100_000, index_col=0) as reader:\n",
    "    data = reader.get_chunk()\n",
    "\n",
    "# csv doesn't preserve data types\n",
    "data = clean_data_types(data)"
   ]
  },
  {
   "cell_type": "code",
   "execution_count": 8,
   "id": "1aa581de-32db-4929-8735-c51c0b14654d",
   "metadata": {},
   "outputs": [
    {
     "name": "stdout",
     "output_type": "stream",
     "text": [
      " With the subset of data there are: \n",
      "    - 43 unique issuers \n",
      "    - 192 unique bonds  \n",
      "    - 4913 days in the sample\n",
      "    \n"
     ]
    }
   ],
   "source": [
    "print(f''' With the subset of data there are: \n",
    "    - {len(data['issuer_id'].unique())} unique issuers \n",
    "    - {len(data['issue_id'].unique())} unique bonds  \n",
    "    - {len(data['date'].sort_values().unique())} days in the sample\n",
    "    ''')"
   ]
  },
  {
   "cell_type": "markdown",
   "id": "38be9865-b536-4770-8f5c-abafb110ae26",
   "metadata": {
    "tags": []
   },
   "source": [
    "## Sample Exclusion Criteria\n",
    "Based on Bai, Bali & Wen (2019):\n",
    "\n",
    "1. Remove bonds that are not listed or traded in the US public market, which include bonds issued through private placement, bonds issued under the 144A rule, bonds that do not trade in US dollars, and bond issuers not in the jurisdiction of the United States.\n",
    "2. Remove bonds that are structured notes, mortgage backed or asset backed, agency backed, or equity linked.\n",
    "3. Remove convertible bonds since this option feature distorts the return calculation and makes it impossible to compare the returns of convertible and nonconvertible bonds.\n",
    "4. Remove bonds that trade under 5 or above 1000. \n",
    "5. Remove bonds that have a floating coupon rate, which means the sample comprises only bonds with a fixed or zero coupon. This rule is applied based on the consideration of the accuracy in bond return calculation, given the challenge in tracking a floating-coupon bond’s cash flows.\n",
    "6. Remove bonds that have less than one year to maturity. This rule is applied to all major corporate bond indices such as the Barclays Capital Corporate Bond Index, the Bank of America Merrill Lynch Corporate Master Index, and the Citi Fixed Income Indices. If a bond has less than one year to maturity, it will be delisted from major bond indices; hence, index-tracking investors will change their holding positions. This operation will distort the return calculation for bonds with less than one year to maturity; thus, we remove them from our sample.\n",
    "7. For intraday data, we also eliminate bond transactions that are labeled as when-issued, locked-in, or have special sales conditions, and that have more than a twoday settlement.\n",
    "8. Remove transaction records that are canceled and adjust records that are subsequently corrected or reversed.\n",
    "9. Remove transaction records that have trading volume less than $10,000"
   ]
  },
  {
   "cell_type": "markdown",
   "id": "03932e4e-07f1-4142-8955-cd91cc9818f3",
   "metadata": {},
   "source": [
    "### 3. Convertible Bonds"
   ]
  },
  {
   "cell_type": "code",
   "execution_count": 9,
   "id": "5ba33f42-6154-4111-a767-8d4daaab0314",
   "metadata": {},
   "outputs": [],
   "source": [
    "def filter_bond_convertible(data):\n",
    "    '''\n",
    "    Function which filters out convertible bonds.\n",
    "    '''\n",
    "    \n",
    "    return data[data['conv'] == False]"
   ]
  },
  {
   "cell_type": "code",
   "execution_count": 10,
   "id": "6ec38a7f-8bd0-42dd-acb5-afafb48339aa",
   "metadata": {},
   "outputs": [],
   "source": [
    "data = filter_bond_convertible(data)"
   ]
  },
  {
   "cell_type": "markdown",
   "id": "29d59112-8437-4ea2-91ca-d55ff326017d",
   "metadata": {},
   "source": [
    "### 4. Bonds with irregular trading prices"
   ]
  },
  {
   "cell_type": "code",
   "execution_count": 11,
   "id": "2324e681-f03a-4c21-9097-e7b08cad9bed",
   "metadata": {},
   "outputs": [],
   "source": [
    "def filter_bond_prices(data):\n",
    "    '''\n",
    "    Function which filters out bonds that trade below $5 or above $1000.\n",
    "    '''\n",
    "    \n",
    "    return data[(data['price'].gt(5)) | (data['price'].lt(1000))]"
   ]
  },
  {
   "cell_type": "code",
   "execution_count": 12,
   "id": "8c899a17-dca3-48bc-adbe-2f22b2bec2fa",
   "metadata": {},
   "outputs": [],
   "source": [
    "data = filter_bond_prices(data)"
   ]
  },
  {
   "cell_type": "markdown",
   "id": "b497bb38-2592-484d-89e0-f0947c36d6b7",
   "metadata": {},
   "source": [
    "### 6. Bonds with less than 1-year to maturity\n",
    "Perhaps worthwhile to keep seperate as a robustness check?"
   ]
  },
  {
   "cell_type": "code",
   "execution_count": 13,
   "id": "4bb2d84d-ab5a-468f-8bd3-7cb145b15106",
   "metadata": {},
   "outputs": [],
   "source": [
    "def filter_bond_maturity(data):\n",
    "    '''\n",
    "    Function which filters out bonds with less than 1-year to maturity.\n",
    "    Saves bonds with less than 1-year to maturity in a seperate file.\n",
    "    '''\n",
    "    data['date'] = pd.to_datetime(data['date'], format='%Y%m%d')\n",
    "    data['maturity'] = pd.to_datetime(data['maturity'], format='%Y%m%d')\n",
    "\n",
    "    data = data.sort_values(by='date')\n",
    "    data['days_to_maturity'] = data['maturity'] - data['date']\n",
    "\n",
    "    # Filters out bonds with less than 1-year to maturity\n",
    "    data_one_year_bonds = data[data['days_to_maturity'].le('365 days')]\n",
    "    data_one_year_bonds.to_csv('bonds_1_year_maturity.csv')\n",
    "    \n",
    "    return data[data['days_to_maturity'].gt('365 days')]"
   ]
  },
  {
   "cell_type": "code",
   "execution_count": 14,
   "id": "da3f7cd4-8c2f-49b1-b88b-72d4986f5b92",
   "metadata": {},
   "outputs": [],
   "source": [
    "data = filter_bond_maturity(data)"
   ]
  },
  {
   "cell_type": "markdown",
   "id": "cf07f577-c07d-47a6-8acb-7ce27580e8c0",
   "metadata": {},
   "source": [
    "### 9. Bonds with small trading volumes"
   ]
  },
  {
   "cell_type": "code",
   "execution_count": 15,
   "id": "ee7b6b17-de85-4d54-add6-60f571c58665",
   "metadata": {},
   "outputs": [],
   "source": [
    "def filter_bond_volume(data):\n",
    "    '''\n",
    "    Function which filters daily volumes of less than $10,000.\n",
    "    '''\n",
    "    \n",
    "    return data[data['volume'].gt(10000)]"
   ]
  },
  {
   "cell_type": "code",
   "execution_count": 16,
   "id": "b8154393-ca29-4694-9cf9-161fe67d0dfe",
   "metadata": {},
   "outputs": [],
   "source": [
    "data = filter_bond_volume(data)"
   ]
  },
  {
   "cell_type": "markdown",
   "id": "03f9361e-68e8-45fe-9b7c-fb276d02c450",
   "metadata": {
    "tags": []
   },
   "source": [
    "## Monthly Return Aggregation\n",
    "\n",
    "The monthly corporate bond return at time $t$ is computed as \n",
    "\n",
    "<font size=5>\n",
    "$\n",
    "r_{i,t} = \\frac{P_{i,t} + AI_{i,t} + C_{i,t}}{P_{i,t−1} + AI_{i,t−1}} − 1\n",
    "$\n",
    "</font>\n",
    "\n",
    "Where $P_{i,t}$ is month $t$'s bond clean price, $AI_{i,t}$ is the accrued-interest, and $C_{i,t}$ is the coupon.\n",
    "\n",
    "Excess returns are computed by deducting the 1-month Treasury bill rate.\n",
    "\n",
    "Further, following Bai, Bali & Wen (2019), returns can be computed as either end of month t relative to end of month t-1, or end of month t to begining of month t. Where the end/beginning of the month is defined with a 5 day window. The date which is closest to the last/firsy trading day is used. If both such return calculations are available, then the end-to-end is prefered."
   ]
  },
  {
   "cell_type": "markdown",
   "id": "950e159f-9537-405e-8a67-df8c3afbe3b6",
   "metadata": {},
   "source": [
    "#### End-to-End Method"
   ]
  },
  {
   "cell_type": "code",
   "execution_count": 10,
   "id": "168adaf3-f8ab-4149-86ee-9585ad91138e",
   "metadata": {},
   "outputs": [],
   "source": [
    "def end_month_returns(data):\n",
    "    '''\n",
    "    Function to compute monthly returns using the end-to-end method.\n",
    "    '''\n",
    "    # Ensures that data is sorted in chronological order\n",
    "    data = data.sort_values(by='date')\n",
    "    \n",
    "    # Gets 5 days from the end of the month\n",
    "    data['month_end'] = data['date'] + MonthEnd(0) - pd.Timedelta(days=5)\n",
    "    \n",
    "    # Groups by issue id and year-month: returns the last observation\n",
    "    data = data.groupby(['issue_id', data['date'].dt.year, data['date'].dt.month]).tail(1).copy()\n",
    "    \n",
    "    # Creates the P + AI + C for time t\n",
    "    data['full_price_t'] = data['price'] + data['accrued_interest'] + data['coupon']\n",
    "    data['price_t'] = data['price'] + data['accrued_interest']\n",
    "    \n",
    "    # Lags P + AI\n",
    "    data['price_t1'] = data.groupby('issue_id')['price_t'].shift(1)\n",
    "    \n",
    "    # Computes the return only if the transaction date is within 5 days of end of month\n",
    "    data['return'] = np.where(~(data['date'] < data['month_end']), \n",
    "                               (data['full_price_t'] / data['price_t1']) - 1, np.nan)\n",
    "    \n",
    "    # Price return used for validation\n",
    "    data['price_return'] = np.where(~(data['date'] < data['month_end']), \n",
    "                               (data['price'] / data.groupby('issue_id')['price'].shift(1)) - 1, np.nan)\n",
    "    \n",
    "    # Drops observations where there is no return, assigns month end value\n",
    "    data = data.dropna(subset='return')\n",
    "    data['date'] = data['date'] + MonthEnd(0)\n",
    "\n",
    "    return data "
   ]
  },
  {
   "cell_type": "code",
   "execution_count": 413,
   "id": "60738258-d1bb-49ab-be5b-10259f9d0354",
   "metadata": {},
   "outputs": [],
   "source": [
    "end_data = end_month_returns(data)"
   ]
  },
  {
   "cell_type": "markdown",
   "id": "157190fd-287b-4b98-b2c0-d2955e34f506",
   "metadata": {},
   "source": [
    "#### Start-to-End Method"
   ]
  },
  {
   "cell_type": "code",
   "execution_count": 11,
   "id": "808f6517-2ab5-475b-80c5-96b32bc4d0d7",
   "metadata": {},
   "outputs": [],
   "source": [
    "def start_month_returns(data):\n",
    "    '''\n",
    "    Function to compute monthly returns using the start-to-end method.\n",
    "    '''\n",
    "    # Ensures that data is sorted in chronological order\n",
    "    data = data.sort_values(by='date')\n",
    "    \n",
    "    # 5 days from start and end of month\n",
    "    data['month_end'] = data['date'] + MonthEnd(0) - pd.Timedelta(days=5)\n",
    "    data['month_start'] = data['date'] + MonthEnd(0) - MonthBegin(1) + pd.Timedelta(days=5)\n",
    "    data['date_t'] = data['date'] + MonthEnd(0)\n",
    "    \n",
    "    # Seperate first and last trade dataframes\n",
    "    first = data.groupby(['issue_id', data['date'].dt.year, data['date'].dt.month]).head(1).copy()\n",
    "    last = data.groupby(['issue_id', data['date'].dt.year, data['date'].dt.month]).tail(1).copy()\n",
    "    \n",
    "    # Respective price only if date requirement is satisifed \n",
    "    first['price_t'] = np.where((first['date'] < first['month_start']),\n",
    "                                 first['price'] + first['accrued_interest'], np.nan)\n",
    "    last['full_price_t'] = np.where(~(last['date'] < last['month_end']),\n",
    "                                      last['price'] + last['accrued_interest'] + last['coupon'], np.nan)\n",
    "    \n",
    "    # Merges first and last on true month end\n",
    "    merged = pd.merge(first, last[['issue_id', 'date_t', 'full_price_t']], on=['issue_id', 'date_t'])\n",
    "\n",
    "    # Computes the return\n",
    "    merged['return'] = (merged['full_price_t'] / merged['price_t']) - 1\n",
    "    \n",
    "    # Drops observations where there is no return, assigns month end value\n",
    "    data = merged.dropna(subset='return').copy()\n",
    "    data['date'] = data['date'] + MonthEnd(0)\n",
    "    \n",
    "    return data"
   ]
  },
  {
   "cell_type": "code",
   "execution_count": 562,
   "id": "2b84da7b-7a6d-4413-8014-bb80f3c6d8e4",
   "metadata": {},
   "outputs": [],
   "source": [
    "start_data = start_month_returns(data)"
   ]
  },
  {
   "cell_type": "markdown",
   "id": "bb2dafa3-f226-4327-a649-c88c50c26de7",
   "metadata": {},
   "source": [
    "#### Merging of Returns"
   ]
  },
  {
   "cell_type": "code",
   "execution_count": 12,
   "id": "1ad9c53e-fcd9-4f5b-b9e3-ccbe033c7c64",
   "metadata": {},
   "outputs": [],
   "source": [
    "def merge_start_end(start_data, end_data):\n",
    "    '''\n",
    "    Function to merge start and end method return calculations.\n",
    "    Preference for end method.\n",
    "    '''\n",
    "    cols = ['date', 'issue_id', 'cusip_id', 'volume', 'issuer_id',\n",
    "       'prospectus_issuer_name', 'maturity', 'offering_amt',\n",
    "       'interest_frequency', 'cusip', 'industry_code', 'sic_code', 'rating_spr', 'rating_mdy',\n",
    "       'amount_outstanding', 'tau', 'age', 'ytm',\n",
    "       'duration', 'tr_dirty_price', 'tr_ytm', 'return']\n",
    "\n",
    "    # Subsets data and outer merges\n",
    "    end_data = end_data[cols]\n",
    "    start_data = start_data[cols]\n",
    "\n",
    "    merged = pd.merge(end_data, start_data, on=['issue_id', 'date'], how='outer', suffixes=('','_start'))\n",
    "\n",
    "    # Takes data from end method, if not available takes from start method\n",
    "    for col in cols[2:]:\n",
    "        merged[col] = np.where(merged[col].isna(), merged[col+'_start'], merged[col])\n",
    "    \n",
    "    merged = merged[cols]\n",
    "    \n",
    "    return merged"
   ]
  },
  {
   "cell_type": "code",
   "execution_count": 663,
   "id": "619f2a17-acdb-421f-84d2-d13782b0db4a",
   "metadata": {},
   "outputs": [],
   "source": [
    "data_merged = merge_start_end(start_data, end_data)"
   ]
  },
  {
   "cell_type": "markdown",
   "id": "d52b2ff8-c627-48ad-bcac-62cfd9477d6d",
   "metadata": {},
   "source": [
    "## Complete Dataset"
   ]
  },
  {
   "cell_type": "code",
   "execution_count": 13,
   "id": "389d900f-b439-46c9-883a-7623da4b7471",
   "metadata": {},
   "outputs": [],
   "source": [
    "def agg_to_monthly(data):\n",
    "    '''\n",
    "    Function to perform all sample exclusion, and monthly aggregation functions \n",
    "    '''\n",
    "    \n",
    "    # Filtering functions\n",
    "    data = (data.pipe(filter_bond_convertible)\n",
    "            .pipe(filter_bond_prices)\n",
    "            .pipe(filter_bond_maturity)\n",
    "            .pipe(filter_bond_volume)\n",
    "        )\n",
    "    \n",
    "    # Return calculation\n",
    "    end_data = end_month_returns(data)\n",
    "    start_data = start_month_returns(data)\n",
    "    \n",
    "    # Final merge\n",
    "    data_merged = merge_start_end(start_data, end_data)\n",
    "    \n",
    "    return data_merged"
   ]
  },
  {
   "cell_type": "code",
   "execution_count": 4,
   "id": "3a61d25d-e3f0-4f71-9b3a-478d547898c7",
   "metadata": {},
   "outputs": [],
   "source": [
    "# Loads in data\n",
    "data = pd.read_csv(\"cleaned_data.csv\", index_col=0)\n",
    "data = clean_data_types(data)"
   ]
  },
  {
   "cell_type": "code",
   "execution_count": 697,
   "id": "f4f44431-d416-4bc8-9cae-7c74b318dd6b",
   "metadata": {},
   "outputs": [
    {
     "data": {
      "text/plain": [
       "(2107,)"
      ]
     },
     "execution_count": 697,
     "metadata": {},
     "output_type": "execute_result"
    }
   ],
   "source": [
    "# data['issue_id'].unique().shape"
   ]
  },
  {
   "cell_type": "code",
   "execution_count": 14,
   "id": "b602658a-2286-47d6-a035-1915e16b56e0",
   "metadata": {},
   "outputs": [],
   "source": [
    "# Performs monthly aggregation\n",
    "monthly_data = agg_to_monthly(data)"
   ]
  },
  {
   "cell_type": "code",
   "execution_count": 1,
   "id": "82ae8026-b150-4d49-abbd-491fc2f354a1",
   "metadata": {},
   "outputs": [
    {
     "ename": "NameError",
     "evalue": "name 'monthly_data' is not defined",
     "output_type": "error",
     "traceback": [
      "\u001b[1;31m---------------------------------------------------------------------------\u001b[0m",
      "\u001b[1;31mNameError\u001b[0m                                 Traceback (most recent call last)",
      "Input \u001b[1;32mIn [1]\u001b[0m, in \u001b[0;36m<cell line: 1>\u001b[1;34m()\u001b[0m\n\u001b[1;32m----> 1\u001b[0m \u001b[43mmonthly_data\u001b[49m\n",
      "\u001b[1;31mNameError\u001b[0m: name 'monthly_data' is not defined"
     ]
    }
   ],
   "source": [
    "monthly_data"
   ]
  },
  {
   "cell_type": "code",
   "execution_count": 698,
   "id": "83fa75e5-d3a4-458f-86c6-635325f69906",
   "metadata": {},
   "outputs": [
    {
     "data": {
      "text/plain": [
       "(1895,)"
      ]
     },
     "execution_count": 698,
     "metadata": {},
     "output_type": "execute_result"
    }
   ],
   "source": [
    "# monthly_data['issue_id'].unique().shape"
   ]
  },
  {
   "cell_type": "code",
   "execution_count": 700,
   "id": "2a535322-44f5-4a3a-89b3-ad4a7d37e3e7",
   "metadata": {},
   "outputs": [
    {
     "data": {
      "text/plain": [
       "(87369, 22)"
      ]
     },
     "execution_count": 700,
     "metadata": {},
     "output_type": "execute_result"
    }
   ],
   "source": [
    "monthly_data.shape"
   ]
  },
  {
   "cell_type": "code",
   "execution_count": 699,
   "id": "db0c5dc0-6b28-40b0-b2f4-4c8d71c47ec3",
   "metadata": {},
   "outputs": [],
   "source": [
    "# monthly_data.to_csv('monthly_data.csv')"
   ]
  },
  {
   "cell_type": "code",
   "execution_count": null,
   "id": "dcaffdf8-6d67-4f84-bbc5-178cb1bf0079",
   "metadata": {},
   "outputs": [],
   "source": []
  }
 ],
 "metadata": {
  "kernelspec": {
   "display_name": "Python 3 (ipykernel)",
   "language": "python",
   "name": "python3"
  },
  "language_info": {
   "codemirror_mode": {
    "name": "ipython",
    "version": 3
   },
   "file_extension": ".py",
   "mimetype": "text/x-python",
   "name": "python",
   "nbconvert_exporter": "python",
   "pygments_lexer": "ipython3",
   "version": "3.9.12"
  }
 },
 "nbformat": 4,
 "nbformat_minor": 5
}
