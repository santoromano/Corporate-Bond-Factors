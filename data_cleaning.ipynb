{
 "cells": [
  {
   "cell_type": "markdown",
   "id": "82dd4293-2914-4de8-b48c-7b7f8a45b42c",
   "metadata": {},
   "source": [
    "## Cleans TRACE Corporate Bond Data"
   ]
  },
  {
   "cell_type": "code",
   "execution_count": 1,
   "id": "8e02e1d8-eb0d-4cc3-8f09-42b521a26d10",
   "metadata": {},
   "outputs": [],
   "source": [
    "# Imports\n",
    "import pandas as pd\n",
    "import numpy as np\n",
    "import datetime as dt\n",
    "import matplotlib.pyplot as plt\n",
    "from dateutil.relativedelta import *\n",
    "from pandas.tseries.offsets import *"
   ]
  },
  {
   "cell_type": "code",
   "execution_count": 2,
   "id": "dca3961e-13eb-4b12-b2ef-11b017c9a3be",
   "metadata": {},
   "outputs": [],
   "source": [
    "# Loads in subset of prof Yoshio's data\n",
    "with pd.read_csv(\"prof_yoshio_data/trace_credit_spreads.csv\", chunksize=1000) as reader:\n",
    "    data = reader.get_chunk()"
   ]
  },
  {
   "cell_type": "code",
   "execution_count": 3,
   "id": "3e249196-425e-4c10-95a1-11b68ac0f94e",
   "metadata": {},
   "outputs": [
    {
     "name": "stdout",
     "output_type": "stream",
     "text": [
      "<class 'pandas.core.frame.DataFrame'>\n",
      "RangeIndex: 1000 entries, 0 to 999\n",
      "Data columns (total 40 columns):\n",
      " #   Column                  Non-Null Count  Dtype  \n",
      "---  ------                  --------------  -----  \n",
      " 0   cusip_id                1000 non-null   object \n",
      " 1   date                    1000 non-null   int64  \n",
      " 2   price                   1000 non-null   float64\n",
      " 3   volume                  1000 non-null   int64  \n",
      " 4   ISSUE_ID                1000 non-null   int64  \n",
      " 5   ISSUER_ID               1000 non-null   int64  \n",
      " 6   PROSPECTUS_ISSUER_NAME  1000 non-null   object \n",
      " 7   MATURITY                1000 non-null   int64  \n",
      " 8   SECURITY_LEVEL          1000 non-null   object \n",
      " 9   OFFERING_AMT            1000 non-null   int64  \n",
      " 10  OFFERING_DATE           1000 non-null   int64  \n",
      " 11  OFFERING_PRICE          852 non-null    float64\n",
      " 12  INTEREST_FREQUENCY      1000 non-null   int64  \n",
      " 13  COUPON                  1000 non-null   float64\n",
      " 14  standard                1000 non-null   int64  \n",
      " 15  putop                   1000 non-null   int64  \n",
      " 16  conv                    1000 non-null   int64  \n",
      " 17  junior                  1000 non-null   int64  \n",
      " 18  cusip                   1000 non-null   object \n",
      " 19  CALLABLE                842 non-null    object \n",
      " 20  MAKE_WHOLE              842 non-null    object \n",
      " 21  INDUSTRY_CODE           1000 non-null   int64  \n",
      " 22  SIC_CODE                1000 non-null   int64  \n",
      " 23  rating_date_spr         1000 non-null   int64  \n",
      " 24  rating_spr              1000 non-null   object \n",
      " 25  rating_mdy              987 non-null    object \n",
      " 26  rating_date_mdy         0 non-null      float64\n",
      " 27  SP_rat                  995 non-null    float64\n",
      " 28  Moody_rat               987 non-null    float64\n",
      " 29  AMOUNT_OUTSTANDING      1000 non-null   int64  \n",
      " 30  month1                  1000 non-null   int64  \n",
      " 31  accrued_interest        1000 non-null   float64\n",
      " 32  tau                     1000 non-null   float64\n",
      " 33  age                     1000 non-null   float64\n",
      " 34  rating                  1000 non-null   int64  \n",
      " 35  ytm                     927 non-null    float64\n",
      " 36  duration                927 non-null    float64\n",
      " 37  tr_dirty_price          927 non-null    float64\n",
      " 38  tr_ytm                  927 non-null    float64\n",
      " 39  cs                      927 non-null    float64\n",
      "dtypes: float64(14), int64(18), object(8)\n",
      "memory usage: 312.6+ KB\n"
     ]
    }
   ],
   "source": [
    "data.info()"
   ]
  },
  {
   "cell_type": "code",
   "execution_count": 12,
   "id": "5c0dd8ca-bb12-4d86-8518-beb92f3bd321",
   "metadata": {},
   "outputs": [
    {
     "data": {
      "text/plain": [
       "Index                       128\n",
       "cusip_id                  66000\n",
       "date                       8000\n",
       "price                      8000\n",
       "volume                     8000\n",
       "ISSUE_ID                   8000\n",
       "ISSUER_ID                  8000\n",
       "PROSPECTUS_ISSUER_NAME    71088\n",
       "MATURITY                   8000\n",
       "SECURITY_LEVEL            60000\n",
       "OFFERING_AMT               8000\n",
       "OFFERING_DATE              8000\n",
       "OFFERING_PRICE             8000\n",
       "INTEREST_FREQUENCY         8000\n",
       "COUPON                     8000\n",
       "standard                   8000\n",
       "putop                      8000\n",
       "conv                       8000\n",
       "junior                     8000\n",
       "cusip                     66000\n",
       "CALLABLE                  53892\n",
       "MAKE_WHOLE                53892\n",
       "INDUSTRY_CODE              8000\n",
       "SIC_CODE                   8000\n",
       "rating_date_spr            8000\n",
       "rating_spr                59165\n",
       "rating_mdy                59325\n",
       "rating_date_mdy            8000\n",
       "SP_rat                     8000\n",
       "Moody_rat                  8000\n",
       "AMOUNT_OUTSTANDING         8000\n",
       "month1                     8000\n",
       "accrued_interest           8000\n",
       "tau                        8000\n",
       "age                        8000\n",
       "rating                     8000\n",
       "ytm                        8000\n",
       "duration                   8000\n",
       "tr_dirty_price             8000\n",
       "tr_ytm                     8000\n",
       "cs                         8000\n",
       "dtype: int64"
      ]
     },
     "execution_count": 12,
     "metadata": {},
     "output_type": "execute_result"
    }
   ],
   "source": [
    "data.memory_usage(deep=True) \\\n",
    "# .gt(8000)"
   ]
  },
  {
   "cell_type": "markdown",
   "id": "f148fcd3-e317-47d7-8d08-1d30e58e0403",
   "metadata": {},
   "source": [
    "As expected all \"object\" (ie. string) columns use up the majority of the memory. The rest (float/int64s) are using 8 bytes, however these may also be reduced to 16 or 32."
   ]
  },
  {
   "cell_type": "code",
   "execution_count": 15,
   "id": "9dcf7232-ad77-4bf9-98f7-c3e60627a584",
   "metadata": {},
   "outputs": [],
   "source": [
    "df = data.copy()\n",
    "df.columns = map(str.lower, df.columns)"
   ]
  },
  {
   "cell_type": "code",
   "execution_count": 102,
   "id": "3af87430-99f6-4ef5-b3bb-29f361a51f96",
   "metadata": {},
   "outputs": [
    {
     "data": {
      "text/plain": [
       "0      8.875\n",
       "1      8.875\n",
       "2      8.875\n",
       "3      8.875\n",
       "4      8.875\n",
       "       ...  \n",
       "995    1.625\n",
       "996    1.625\n",
       "997    1.625\n",
       "998    1.625\n",
       "999    1.625\n",
       "Name: coupon, Length: 1000, dtype: float32"
      ]
     },
     "execution_count": 102,
     "metadata": {},
     "output_type": "execute_result"
    }
   ],
   "source": [
    "# Cleans data types to minimze file size\n",
    "# String/text columns\n",
    "# df[\"cusip_id\"] = df[\"cusip_id\"].astype('string[pyarrow]')\n",
    "# df['prospectus_issuer_name']\n",
    "# # 'security_level could be categorical?\n",
    "# df['cusip']\n",
    "\n",
    "# df[\"callable\"]  = df[\"callable\"].astype('bool') \n",
    "# df['make_whole']\n",
    "\n",
    "# df['security_level']\n",
    "# df['rating_spr'] = df['rating_spr'].astype('category')\n",
    "# df['rating_mdy']\n",
    "\n",
    "# df.drop([sp_rat, moody_rat, rating])\n",
    "\n",
    "# Float/Integer columns\n",
    "# df['price'].astype('float32')\n",
    "# df['volume'].astype('int32')\n",
    "# df['offering_amt'].astype('int32')\n",
    "# df['offering_price'].astype('float32')\n",
    "# df['interest_frequency'].astype('int8')\n",
    "# df['coupon'].astype('float32')\n",
    "df['']\n",
    "\n",
    "# Dates\n",
    "# formula to convert to datetime: df['date'].apply(lambda x: pd.to_datetime(str(x), format='%Y%m%d'))\n",
    "# df['rating_date_spr'] = df['rating_date_spr'].astype('int32')\n",
    "# df['rating_date_mdy']\n",
    "# df['date']\n",
    "# df['maturity']\n",
    "# df['offering_date']\n",
    "\n"
   ]
  },
  {
   "cell_type": "code",
   "execution_count": 34,
   "id": "675aabaa-cb11-41e6-b986-4c3c2b20d8c1",
   "metadata": {},
   "outputs": [
    {
     "data": {
      "text/plain": [
       "Index                       128\n",
       "cusip_id                  66000\n",
       "date                       8000\n",
       "price                      8000\n",
       "volume                     8000\n",
       "issue_id                   8000\n",
       "issuer_id                  8000\n",
       "prospectus_issuer_name    71088\n",
       "maturity                   8000\n",
       "security_level            60000\n",
       "offering_amt               8000\n",
       "offering_date              8000\n",
       "offering_price             8000\n",
       "interest_frequency         8000\n",
       "coupon                     8000\n",
       "standard                   8000\n",
       "putop                      8000\n",
       "conv                       8000\n",
       "junior                     8000\n",
       "cusip                     66000\n",
       "callable                   1000\n",
       "make_whole                53892\n",
       "industry_code              8000\n",
       "sic_code                   8000\n",
       "rating_date_spr            8000\n",
       "rating_spr                 1837\n",
       "rating_mdy                59325\n",
       "rating_date_mdy            8000\n",
       "sp_rat                     8000\n",
       "moody_rat                  8000\n",
       "amount_outstanding         8000\n",
       "month1                     8000\n",
       "accrued_interest           8000\n",
       "tau                        8000\n",
       "age                        8000\n",
       "rating                     8000\n",
       "ytm                        8000\n",
       "duration                   8000\n",
       "tr_dirty_price             8000\n",
       "tr_ytm                     8000\n",
       "cs                         8000\n",
       "dtype: int64"
      ]
     },
     "execution_count": 57,
     "metadata": {},
     "output_type": "execute_result"
    }
   ],
   "source": [
    "df.memory_usage(deep=True)"
   ]
  },
  {
   "cell_type": "code",
   "execution_count": null,
   "id": "2ac7f211-0018-4d1f-a7ac-0d50c0f0b530",
   "metadata": {},
   "outputs": [],
   "source": []
  }
 ],
 "metadata": {
  "kernelspec": {
   "display_name": "Python 3 (ipykernel)",
   "language": "python",
   "name": "python3"
  },
  "language_info": {
   "codemirror_mode": {
    "name": "ipython",
    "version": 3
   },
   "file_extension": ".py",
   "mimetype": "text/x-python",
   "name": "python",
   "nbconvert_exporter": "python",
   "pygments_lexer": "ipython3",
   "version": "3.9.12"
  }
 },
 "nbformat": 4,
 "nbformat_minor": 5
}
