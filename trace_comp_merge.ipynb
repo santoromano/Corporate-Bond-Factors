{
 "cells": [
  {
   "cell_type": "markdown",
   "id": "5060bc80-08ad-4601-ac09-972cb86f67c8",
   "metadata": {},
   "source": [
    "# Data for project\n",
    "Test code to merge TRACE and Compustat"
   ]
  },
  {
   "cell_type": "markdown",
   "id": "e656b0d6-76c9-46ca-a20e-38a7f5e82395",
   "metadata": {},
   "source": [
    "To do:\n",
    "- replicate HHW bond data\n",
    "- construct relevant COMPUSTAT data\n",
    "- merge the two"
   ]
  },
  {
   "cell_type": "code",
   "execution_count": 1,
   "id": "8239f1e1-5b38-48d2-8c0f-4fd778be8bae",
   "metadata": {},
   "outputs": [],
   "source": [
    "# Imports\n",
    "import pandas as pd\n",
    "import numpy as np\n",
    "import datetime as dt\n",
    "import matplotlib.pyplot as plt\n",
    "from dateutil.relativedelta import *\n",
    "from pandas.tseries.offsets import *"
   ]
  },
  {
   "cell_type": "code",
   "execution_count": 74,
   "id": "1b0b867b-7226-4668-a861-00238d010624",
   "metadata": {},
   "outputs": [
    {
     "name": "stdout",
     "output_type": "stream",
     "text": [
      "Loading library list...\n",
      "Done\n"
     ]
    }
   ],
   "source": [
    "import wrds\n",
    "conn = wrds.Connection(wrds_username=\"santoromano\")\n",
    "# conn.create_pgpass_file()"
   ]
  },
  {
   "cell_type": "markdown",
   "id": "47546869-5203-4b20-8491-00b7acddaa16",
   "metadata": {},
   "source": [
    "### TRACE (Enhanced)"
   ]
  },
  {
   "cell_type": "code",
   "execution_count": 8,
   "id": "2782d90e-a4f6-4e31-931c-c647f6ab0aaa",
   "metadata": {},
   "outputs": [],
   "source": [
    "# Imports TRACE data\n",
    "trace = conn.raw_sql(\"\"\"\n",
    "                    select * from trace.trace_enhanced\n",
    "                    limit 100000\n",
    "                    \"\"\", \n",
    "                    date_cols=['trd_exctn_dt'])"
   ]
  },
  {
   "cell_type": "code",
   "execution_count": 26,
   "id": "182dc038-1207-4cf6-907f-f854a8b8c200",
   "metadata": {},
   "outputs": [],
   "source": [
    "# Dataframe info including memory usage\n",
    "# trace.info() \n",
    "# 1 million rows = 32mb, approx 1687 days"
   ]
  },
  {
   "cell_type": "code",
   "execution_count": 82,
   "id": "98e296cf-dc21-4e3e-b018-ded5b01b6917",
   "metadata": {},
   "outputs": [],
   "source": [
    "# Computes VWAP for a given data\n",
    "def vwap(df):\n",
    "    p = df['rptd_pr']\n",
    "    q = df['entrd_vol_qt']\n",
    "    return df.assign(vwap = (p*q).cumsum() / q.cumsum())\n",
    "\n",
    "trace_vwap = trace.sort_values('trd_exctn_dt').groupby('trd_exctn_dt').apply(vwap).drop_duplicates(subset=[\"trd_exctn_dt\"], keep=\"last\")"
   ]
  },
  {
   "cell_type": "code",
   "execution_count": 156,
   "id": "4330c3a1-b4a9-426f-a3ef-6cbb05e14e2f",
   "metadata": {},
   "outputs": [],
   "source": [
    "# Stores raw data\n",
    "# trace.to_pickle(\"raw_trace_data.pkl\")"
   ]
  },
  {
   "cell_type": "code",
   "execution_count": 83,
   "id": "90fcedb3-50e6-4df6-aa90-f735443ebad5",
   "metadata": {},
   "outputs": [],
   "source": [
    "# Reads raw data\n",
    "# trace = pd.read_pickle(\"raw_trace_data.pkl\")\n",
    "# trace"
   ]
  },
  {
   "cell_type": "code",
   "execution_count": 86,
   "id": "674ffcb7-7789-46dd-9e2c-d6c1cb8f4dbb",
   "metadata": {},
   "outputs": [
    {
     "name": "stdout",
     "output_type": "stream",
     "text": [
      "3.32 s ± 126 ms per loop (mean ± std. dev. of 7 runs, 1 loop each)\n"
     ]
    }
   ],
   "source": [
    "%%timeit\n",
    "trace.sort_values('trd_exctn_dt').groupby('trd_exctn_dt').apply(vwap).drop_duplicates(subset=[\"trd_exctn_dt\"], keep=\"last\")"
   ]
  },
  {
   "cell_type": "markdown",
   "id": "15ebc6f5-54df-4f98-99f3-5384388b8c5f",
   "metadata": {},
   "source": [
    "3.32 seconds for about 1 million rows (32mb of data), should equate to about 2 hours for just this one line (pre-optimization)"
   ]
  },
  {
   "cell_type": "code",
   "execution_count": null,
   "id": "114b88a9-a924-4b30-b17c-21c78e011bc9",
   "metadata": {},
   "outputs": [],
   "source": []
  },
  {
   "cell_type": "code",
   "execution_count": null,
   "id": "e2c3a7a8-94aa-4d8b-b3d5-e5b2edbe6c24",
   "metadata": {},
   "outputs": [],
   "source": []
  }
 ],
 "metadata": {
  "kernelspec": {
   "display_name": "Python 3 (ipykernel)",
   "language": "python",
   "name": "python3"
  },
  "language_info": {
   "codemirror_mode": {
    "name": "ipython",
    "version": 3
   },
   "file_extension": ".py",
   "mimetype": "text/x-python",
   "name": "python",
   "nbconvert_exporter": "python",
   "pygments_lexer": "ipython3",
   "version": "3.9.12"
  }
 },
 "nbformat": 4,
 "nbformat_minor": 5
}
