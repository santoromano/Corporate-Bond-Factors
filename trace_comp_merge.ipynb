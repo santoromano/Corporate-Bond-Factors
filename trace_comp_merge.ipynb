{
 "cells": [
  {
   "cell_type": "markdown",
   "id": "5060bc80-08ad-4601-ac09-972cb86f67c8",
   "metadata": {},
   "source": [
    "Test code to merge TRACE and Compustat"
   ]
  },
  {
   "cell_type": "code",
   "execution_count": null,
   "id": "59228e99-9092-41ff-9045-3195d7a99b93",
   "metadata": {},
   "outputs": [],
   "source": []
  }
 ],
 "metadata": {
  "kernelspec": {
   "display_name": "Python 3 (ipykernel)",
   "language": "python",
   "name": "python3"
  },
  "language_info": {
   "codemirror_mode": {
    "name": "ipython",
    "version": 3
   },
   "file_extension": ".py",
   "mimetype": "text/x-python",
   "name": "python",
   "nbconvert_exporter": "python",
   "pygments_lexer": "ipython3",
   "version": "3.9.12"
  }
 },
 "nbformat": 4,
 "nbformat_minor": 5
}
